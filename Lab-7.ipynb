{
 "cells": [
  {
   "cell_type": "markdown",
   "id": "8a38be9b-398a-4549-9835-d4258ae3d4f2",
   "metadata": {},
   "source": [
    "MickeyClock"
   ]
  },
  {
   "cell_type": "code",
   "execution_count": 1,
   "id": "abd45791-00d2-41ae-92df-94ccfeacb222",
   "metadata": {},
   "outputs": [
    {
     "name": "stdout",
     "output_type": "stream",
     "text": [
      "pygame 2.6.1 (SDL 2.28.4, Python 3.12.7)\n",
      "Hello from the pygame community. https://www.pygame.org/contribute.html\n",
      "2025-03-29 15:54:49.282015\n"
     ]
    },
    {
     "ename": "error",
     "evalue": "display Surface quit",
     "output_type": "error",
     "traceback": [
      "\u001b[1;31m---------------------------------------------------------------------------\u001b[0m",
      "\u001b[1;31merror\u001b[0m                                     Traceback (most recent call last)",
      "Cell \u001b[1;32mIn[1], line 30\u001b[0m\n\u001b[0;32m     27\u001b[0m rightArmAngle \u001b[38;5;241m=\u001b[39m (minute\u001b[38;5;241m+\u001b[39m\u001b[38;5;241m10\u001b[39m) \u001b[38;5;241m*\u001b[39m (\u001b[38;5;241m-\u001b[39m\u001b[38;5;241m6\u001b[39m)\n\u001b[0;32m     29\u001b[0m clock1 \u001b[38;5;241m=\u001b[39m pygame\u001b[38;5;241m.\u001b[39mtransform\u001b[38;5;241m.\u001b[39mscale(clock, (clock\u001b[38;5;241m.\u001b[39mget_width() \u001b[38;5;241m/\u001b[39m\u001b[38;5;241m/\u001b[39m \u001b[38;5;241m3\u001b[39m, clock\u001b[38;5;241m.\u001b[39mget_height() \u001b[38;5;241m/\u001b[39m\u001b[38;5;241m/\u001b[39m \u001b[38;5;241m3\u001b[39m))\n\u001b[1;32m---> 30\u001b[0m screen\u001b[38;5;241m.\u001b[39mblit(clock1, (\u001b[38;5;241m0\u001b[39m, \u001b[38;5;241m0\u001b[39m))\n\u001b[0;32m     32\u001b[0m left \u001b[38;5;241m=\u001b[39m pygame\u001b[38;5;241m.\u001b[39mtransform\u001b[38;5;241m.\u001b[39mrotate(leftArmSecondImage, leftArmAngle)\n\u001b[0;32m     33\u001b[0m leftIMAGE \u001b[38;5;241m=\u001b[39m left\u001b[38;5;241m.\u001b[39mget_rect(center\u001b[38;5;241m=\u001b[39m(\u001b[38;5;241m230\u001b[39m, \u001b[38;5;241m175\u001b[39m))\n",
      "\u001b[1;31merror\u001b[0m: display Surface quit"
     ]
    }
   ],
   "source": [
    "import pygame\n",
    "import datetime\n",
    "\n",
    "pygame.init()\n",
    "isDone = True\n",
    "white = (255, 255, 255)\n",
    "screen = pygame.display.set_mode((450, 400))\n",
    "screen.fill(white)\n",
    "clock = pygame.image.load(\"clock.png\")\n",
    "leftArmIMAGE = pygame.image.load(\"leftarm.png\")\n",
    "rightArmIMAGE = pygame.image.load(\"rightarm.png\")\n",
    "pygame.display.update()\n",
    "\n",
    "leftArmAngle = 0\n",
    "rightArmAngle = 0\n",
    "leftArmSecondImage = pygame.transform.scale(leftArmIMAGE, (20, leftArmIMAGE.get_height() // 3 - 20))\n",
    "rightArmMinuteImage = pygame.transform.scale(rightArmIMAGE, (rightArmIMAGE.get_width() // 3,rightArmIMAGE.get_height() // 3))\n",
    "print(datetime.datetime.now())\n",
    "while isDone:\n",
    "    for event in pygame.event.get():\n",
    "        if event.type == pygame.QUIT:\n",
    "            isDone = False\n",
    "            pygame.quit()\n",
    "    minute = datetime.datetime.now().minute\n",
    "    second = datetime.datetime.now().second\n",
    "    leftArmAngle = second * (-6)\n",
    "    rightArmAngle = (minute+10) * (-6)\n",
    "\n",
    "    clock1 = pygame.transform.scale(clock, (clock.get_width() // 3, clock.get_height() // 3))\n",
    "    screen.blit(clock1, (0, 0))\n",
    "\n",
    "    left = pygame.transform.rotate(leftArmSecondImage, leftArmAngle)\n",
    "    leftIMAGE = left.get_rect(center=(230, 175))\n",
    "\n",
    "    right = pygame.transform.rotate(rightArmMinuteImage, rightArmAngle)\n",
    "    rightIMAGE = right.get_rect(center=(230, 175))\n",
    "\n",
    "    screen.blit(left, leftIMAGE.topleft)\n",
    "    screen.blit(right, rightIMAGE.topleft)\n",
    "\n",
    "\n",
    "    pygame.display.update()\n",
    "    pygame.display.flip()"
   ]
  },
  {
   "cell_type": "markdown",
   "id": "a6ad420e-bafe-4e72-bcf8-67078d978480",
   "metadata": {},
   "source": [
    "music player"
   ]
  },
  {
   "cell_type": "code",
   "execution_count": 3,
   "id": "cc17015f-9b08-4387-8b93-634de04eebeb",
   "metadata": {},
   "outputs": [
    {
     "ename": "error",
     "evalue": "No file 'Videos/Anaconda Test/Enhypen Fever.mp3' found in working directory 'C:\\Users\\tules\\Videos\\Anaconda Test'.",
     "output_type": "error",
     "traceback": [
      "\u001b[1;31m---------------------------------------------------------------------------\u001b[0m",
      "\u001b[1;31merror\u001b[0m                                     Traceback (most recent call last)",
      "Cell \u001b[1;32mIn[3], line 16\u001b[0m\n\u001b[0;32m     10\u001b[0m arrM\u001b[38;5;241m=\u001b[39m[\n\u001b[0;32m     11\u001b[0m \u001b[38;5;124m\"\u001b[39m\u001b[38;5;124mVideos/Anaconda Test/Enhypen Fever.mp3\u001b[39m\u001b[38;5;124m\"\u001b[39m,\n\u001b[0;32m     12\u001b[0m \u001b[38;5;124m\"\u001b[39m\u001b[38;5;124mVideos/Anaconda Test/leehi-only-mp3.mp3\u001b[39m\u001b[38;5;124m\"\u001b[39m,\n\u001b[0;32m     13\u001b[0m \u001b[38;5;124m\"\u001b[39m\u001b[38;5;124mVideos/Anaconda Test/ROSE feat. Bruno Mars - Apt.mp3\u001b[39m\u001b[38;5;124m\"\u001b[39m\n\u001b[0;32m     14\u001b[0m ]\n\u001b[0;32m     15\u001b[0m index\u001b[38;5;241m=\u001b[39m\u001b[38;5;241m0\u001b[39m\n\u001b[1;32m---> 16\u001b[0m pygame\u001b[38;5;241m.\u001b[39mmixer\u001b[38;5;241m.\u001b[39mmusic\u001b[38;5;241m.\u001b[39mload(arrM[index])\n\u001b[0;32m     17\u001b[0m pygame\u001b[38;5;241m.\u001b[39mmixer\u001b[38;5;241m.\u001b[39mmusic\u001b[38;5;241m.\u001b[39mplay()\n\u001b[0;32m     18\u001b[0m paused\u001b[38;5;241m=\u001b[39m\u001b[38;5;28;01mFalse\u001b[39;00m\n",
      "\u001b[1;31merror\u001b[0m: No file 'Videos/Anaconda Test/Enhypen Fever.mp3' found in working directory 'C:\\Users\\tules\\Videos\\Anaconda Test'."
     ]
    }
   ],
   "source": [
    "import pygame\n",
    "pygame.mixer.init()\n",
    "pygame.init()\n",
    "running=True\n",
    "screen=pygame.display.set_mode((800,750))\n",
    "Fever=pygame.transform.scale(pygame.image.load(\"images.jpg\"),(800,750))\n",
    "Only=pygame.transform.scale(pygame.image.load(\"OnlyLeeHi.png\"),(800,750))\n",
    "APT=pygame.transform.scale(pygame.image.load(\"Rosé_and_Bruno_Mars_-_Apt.png\"),(800,750))\n",
    "arrP=[Fever,Only,APT]\n",
    "arrM=[\n",
    "\"Videos/Anaconda Test/Enhypen Fever.mp3\",\n",
    "\"Videos/Anaconda Test/leehi-only-mp3.mp3\",\n",
    "\"Videos/Anaconda Test/ROSE feat. Bruno Mars - Apt.mp3\"\n",
    "]\n",
    "index=0\n",
    "pygame.mixer.music.load(arrM[index])\n",
    "pygame.mixer.music.play()\n",
    "paused=False\n",
    "while running:\n",
    "    screen.blit(arrP[index], (0, 0))\n",
    "    pygame.display.update()\n",
    "    for event in pygame.event.get():\n",
    "        if event.type==pygame.QUIT:\n",
    "            running=False\n",
    "            pygame.quit()\n",
    "        if event.type==pygame.KEYDOWN:\n",
    "            if event.key==pygame.K_d:\n",
    "                index=(index+1)%3\n",
    "                pygame.mixer.music.load(arrM[index])\n",
    "                pygame.mixer.music.play()\n",
    "            if event.key == pygame.K_a:\n",
    "                index = (index - 1) % 3\n",
    "                pygame.mixer.music.load(arrM[index])\n",
    "                pygame.mixer.music.play()\n",
    "            if event.key == pygame.K_SPACE:\n",
    "                if paused:\n",
    "                    pygame.mixer.music.unpause()\n",
    "                else:\n",
    "                    pygame.mixer.music.pause()\n",
    "                paused = not paused"
   ]
  },
  {
   "cell_type": "markdown",
   "id": "ba840547-fc7c-4cb6-ac9a-a6443b96d3b3",
   "metadata": {},
   "source": [
    "Draw circle"
   ]
  },
  {
   "cell_type": "code",
   "execution_count": 10,
   "id": "0921cc67-916d-4311-bd6e-58692cb4a5c8",
   "metadata": {},
   "outputs": [],
   "source": [
    "import pygame\n",
    "pygame.init()\n",
    "running=True\n",
    "screen=pygame.display.set_mode((500,500))\n",
    "fon=(255,255,255)\n",
    "screen.fill(fon)\n",
    "cordX=250\n",
    "cordY=250\n",
    "while running:\n",
    "    screen.fill(fon)\n",
    "    pygame.draw.circle(screen,\"red\",(cordX,cordY),25)\n",
    "    pygame.display.update()\n",
    "    for event in pygame.event.get():\n",
    "        if event.type==pygame.QUIT:\n",
    "            running=False\n",
    "            pygame.quit()\n",
    "        if event.type==pygame.KEYDOWN:\n",
    "            if event.key==pygame.K_w and cordY>15:\n",
    "                    cordY-=20\n",
    "            if event.key==pygame.K_s and cordY<485:\n",
    "                    cordY+=20\n",
    "            if event.key==pygame.K_d and cordX<485:\n",
    "                    cordX+=20\n",
    "            if event.key==pygame.K_a and cordX>15:\n",
    "                    cordX-=20"
   ]
  },
  {
   "cell_type": "code",
   "execution_count": null,
   "id": "914edc4e-1019-4f57-80e7-da53c6e9f0c3",
   "metadata": {},
   "outputs": [],
   "source": []
  }
 ],
 "metadata": {
  "kernelspec": {
   "display_name": "Python [conda env:base] *",
   "language": "python",
   "name": "conda-base-py"
  },
  "language_info": {
   "codemirror_mode": {
    "name": "ipython",
    "version": 3
   },
   "file_extension": ".py",
   "mimetype": "text/x-python",
   "name": "python",
   "nbconvert_exporter": "python",
   "pygments_lexer": "ipython3",
   "version": "3.12.7"
  }
 },
 "nbformat": 4,
 "nbformat_minor": 5
}
