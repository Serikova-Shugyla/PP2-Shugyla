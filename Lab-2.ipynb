{
 "cells": [
  {
   "cell_type": "markdown",
   "id": "fe19ac08-816b-4673-a3d5-267d8af7f5cd",
   "metadata": {},
   "source": [
    "Ex_1"
   ]
  },
  {
   "cell_type": "code",
   "execution_count": 2,
   "id": "c2025d1c-ec59-4bec-889c-2c58e97722bc",
   "metadata": {},
   "outputs": [
    {
     "name": "stdout",
     "output_type": "stream",
     "text": [
      "True\n",
      "False\n",
      "False\n"
     ]
    }
   ],
   "source": [
    "print(10 > 9)\n",
    "print(10 == 9)\n",
    "print(10 < 9)"
   ]
  },
  {
   "cell_type": "markdown",
   "id": "49c7a922-69b3-4d34-8f17-15fc94bf6468",
   "metadata": {},
   "source": [
    "Ex_2"
   ]
  },
  {
   "cell_type": "code",
   "execution_count": 5,
   "id": "864e1038-b7ed-4b24-8b8c-eb937d1711cf",
   "metadata": {},
   "outputs": [
    {
     "name": "stdout",
     "output_type": "stream",
     "text": [
      "b is not greater than a\n"
     ]
    }
   ],
   "source": [
    "a = 200\n",
    "b = 33\n",
    "\n",
    "if b > a:\n",
    "  print(\"b is greater than a\")\n",
    "else:\n",
    "  print(\"b is not greater than a\")"
   ]
  },
  {
   "cell_type": "markdown",
   "id": "36c3e8cf-3b95-4331-a697-4136a267984c",
   "metadata": {},
   "source": [
    "Ex_3"
   ]
  },
  {
   "cell_type": "code",
   "execution_count": 8,
   "id": "695ce234-f0f4-4d1a-8cab-943f1089ee71",
   "metadata": {},
   "outputs": [
    {
     "name": "stdout",
     "output_type": "stream",
     "text": [
      "True\n",
      "True\n"
     ]
    }
   ],
   "source": [
    "print(bool(\"Hello\"))\n",
    "print(bool(15))"
   ]
  },
  {
   "cell_type": "markdown",
   "id": "b58dc46a-c90b-4964-9c37-6b9c3805b7da",
   "metadata": {},
   "source": [
    "Ex_4"
   ]
  },
  {
   "cell_type": "code",
   "execution_count": 11,
   "id": "21a3830f-83e1-4e14-a78f-d1e62f1ababf",
   "metadata": {},
   "outputs": [
    {
     "name": "stdout",
     "output_type": "stream",
     "text": [
      "True\n",
      "True\n"
     ]
    }
   ],
   "source": [
    "x = \"Hello\"\n",
    "y = 15\n",
    "\n",
    "print(bool(x))\n",
    "print(bool(y))"
   ]
  },
  {
   "cell_type": "markdown",
   "id": "7a4394ae-2736-41f5-b7ed-4d8a59c11b32",
   "metadata": {},
   "source": [
    "Ex_5"
   ]
  },
  {
   "cell_type": "code",
   "execution_count": 14,
   "id": "f4accb6d-2ca0-4b43-88e7-6b1365c3da96",
   "metadata": {},
   "outputs": [
    {
     "data": {
      "text/plain": [
       "True"
      ]
     },
     "execution_count": 14,
     "metadata": {},
     "output_type": "execute_result"
    }
   ],
   "source": [
    "bool(\"abc\")\n",
    "bool(123)\n",
    "bool([\"apple\", \"cherry\", \"banana\"])"
   ]
  },
  {
   "cell_type": "markdown",
   "id": "2538f259-21ee-4838-9111-f7b3465057fa",
   "metadata": {},
   "source": [
    "Ex_6"
   ]
  },
  {
   "cell_type": "code",
   "execution_count": 17,
   "id": "e2ee984d-2eab-44fd-b660-67cd7d344d61",
   "metadata": {},
   "outputs": [
    {
     "data": {
      "text/plain": [
       "False"
      ]
     },
     "execution_count": 17,
     "metadata": {},
     "output_type": "execute_result"
    }
   ],
   "source": [
    "bool(False)\n",
    "bool(None)\n",
    "bool(0)\n",
    "bool(\"\")\n",
    "bool(())\n",
    "bool([])\n",
    "bool({})"
   ]
  },
  {
   "cell_type": "markdown",
   "id": "c5317261-9e42-40d6-b549-9ee491863d8b",
   "metadata": {},
   "source": [
    "Ex_7"
   ]
  },
  {
   "cell_type": "code",
   "execution_count": 20,
   "id": "41730955-5369-4a4f-ab8e-a6eff899f4aa",
   "metadata": {},
   "outputs": [
    {
     "name": "stdout",
     "output_type": "stream",
     "text": [
      "False\n"
     ]
    }
   ],
   "source": [
    "class myclass():\n",
    "  def __len__(self):\n",
    "    return 0\n",
    "\n",
    "myobj = myclass()\n",
    "print(bool(myobj))"
   ]
  },
  {
   "cell_type": "markdown",
   "id": "25f17b14-3e35-463c-9466-a00b44860c17",
   "metadata": {},
   "source": [
    "Ex_8"
   ]
  },
  {
   "cell_type": "code",
   "execution_count": 23,
   "id": "bea9e8f7-a7bc-4c36-8a1a-aa50bf5b8a05",
   "metadata": {},
   "outputs": [
    {
     "name": "stdout",
     "output_type": "stream",
     "text": [
      "True\n"
     ]
    }
   ],
   "source": [
    "def myFunction() :\n",
    "  return True\n",
    "\n",
    "print(myFunction())"
   ]
  },
  {
   "cell_type": "markdown",
   "id": "9cba1655-3bae-4f69-b08f-5ca5cdb54164",
   "metadata": {},
   "source": [
    "Ex_9"
   ]
  },
  {
   "cell_type": "code",
   "execution_count": 26,
   "id": "115b94af-843c-463f-a7b9-f62fda3dd91b",
   "metadata": {},
   "outputs": [
    {
     "name": "stdout",
     "output_type": "stream",
     "text": [
      "YES!\n"
     ]
    }
   ],
   "source": [
    "def myFunction() :\n",
    "  return True\n",
    "\n",
    "if myFunction():\n",
    "  print(\"YES!\")\n",
    "else:\n",
    "  print(\"NO!\")"
   ]
  },
  {
   "cell_type": "markdown",
   "id": "a1dcd516-56a9-4be4-b6e2-033d0486b89a",
   "metadata": {},
   "source": [
    "Ex_10"
   ]
  },
  {
   "cell_type": "code",
   "execution_count": 29,
   "id": "459cc231-50ed-4f58-9d42-d0c6cf00f620",
   "metadata": {},
   "outputs": [
    {
     "name": "stdout",
     "output_type": "stream",
     "text": [
      "True\n"
     ]
    }
   ],
   "source": [
    "x = 200\n",
    "print(isinstance(x, int))"
   ]
  },
  {
   "cell_type": "markdown",
   "id": "a2b4f43d-111e-44c2-8cde-b5aea0f5f76b",
   "metadata": {},
   "source": [
    "Ex_11"
   ]
  },
  {
   "cell_type": "code",
   "execution_count": 32,
   "id": "8dce6f08-aefc-48a2-af13-1db0423d2518",
   "metadata": {},
   "outputs": [
    {
     "name": "stdout",
     "output_type": "stream",
     "text": [
      "15\n"
     ]
    }
   ],
   "source": [
    "print(10 + 5)"
   ]
  },
  {
   "cell_type": "markdown",
   "id": "47fd9c06-4e88-44ee-829d-f0449d8b733a",
   "metadata": {},
   "source": [
    "Ex_12"
   ]
  },
  {
   "cell_type": "code",
   "execution_count": 39,
   "id": "445ce42c-bff3-4a57-a93e-9f0504a0f292",
   "metadata": {},
   "outputs": [
    {
     "name": "stdout",
     "output_type": "stream",
     "text": [
      "8\n"
     ]
    }
   ],
   "source": [
    "#Addition\n",
    "x = 5\n",
    "y = 3\n",
    "\n",
    "print(x + y)"
   ]
  },
  {
   "cell_type": "markdown",
   "id": "bcace31f-ac0f-4bf8-b3e8-9daa660de987",
   "metadata": {},
   "source": [
    "Ex_13"
   ]
  },
  {
   "cell_type": "code",
   "execution_count": 42,
   "id": "9e90a246-547f-4d4e-a55d-eeaa230a5e16",
   "metadata": {},
   "outputs": [
    {
     "name": "stdout",
     "output_type": "stream",
     "text": [
      "2\n"
     ]
    }
   ],
   "source": [
    "#Subtraction\n",
    "x = 5\n",
    "y = 3\n",
    "\n",
    "print(x - y)"
   ]
  },
  {
   "cell_type": "markdown",
   "id": "eb210984-9ce7-477c-8438-21eef2d01d03",
   "metadata": {},
   "source": [
    "Ex_14"
   ]
  },
  {
   "cell_type": "code",
   "execution_count": 45,
   "id": "fba2016e-11c5-4e01-b546-4c35d5092f15",
   "metadata": {},
   "outputs": [
    {
     "name": "stdout",
     "output_type": "stream",
     "text": [
      "15\n"
     ]
    }
   ],
   "source": [
    "#Multiplication\n",
    "x = 5\n",
    "y = 3\n",
    "\n",
    "print(x * y)"
   ]
  },
  {
   "cell_type": "markdown",
   "id": "2e749ded-e7bb-48e5-9928-e45869c99040",
   "metadata": {},
   "source": [
    "Ex_15"
   ]
  },
  {
   "cell_type": "code",
   "execution_count": 48,
   "id": "4bb7187e-07c8-4e4e-b558-9405ce537f52",
   "metadata": {},
   "outputs": [
    {
     "name": "stdout",
     "output_type": "stream",
     "text": [
      "1.6666666666666667\n"
     ]
    }
   ],
   "source": [
    "#Division\n",
    "x = 5\n",
    "y = 3\n",
    "\n",
    "print(x / y)"
   ]
  },
  {
   "cell_type": "markdown",
   "id": "ef74438b-e516-4fa8-908d-18236babfeb0",
   "metadata": {},
   "source": [
    "Ex_16"
   ]
  },
  {
   "cell_type": "code",
   "execution_count": 51,
   "id": "a7b44d6e-cdf0-43fe-a4fc-273e048ad211",
   "metadata": {},
   "outputs": [
    {
     "name": "stdout",
     "output_type": "stream",
     "text": [
      "2\n"
     ]
    }
   ],
   "source": [
    "#Modulus\n",
    "x = 5\n",
    "y = 3\n",
    "\n",
    "print(x % y)"
   ]
  },
  {
   "cell_type": "markdown",
   "id": "4f6058ef-6538-40f9-8a23-c2271d31da32",
   "metadata": {},
   "source": [
    "Ex_17"
   ]
  },
  {
   "cell_type": "code",
   "execution_count": 54,
   "id": "d5db7693-9053-4de9-9215-3bd1c05ed3eb",
   "metadata": {},
   "outputs": [
    {
     "name": "stdout",
     "output_type": "stream",
     "text": [
      "125\n"
     ]
    }
   ],
   "source": [
    "#Expopnentiation\n",
    "x = 5\n",
    "y = 3\n",
    "\n",
    "print(x ** y)"
   ]
  },
  {
   "cell_type": "markdown",
   "id": "8cef010b-0f49-427f-a29b-f0d6c111dd3c",
   "metadata": {},
   "source": [
    "Ex_18"
   ]
  },
  {
   "cell_type": "code",
   "execution_count": 57,
   "id": "33c865f8-1288-41bc-9d1d-bbbdde3f20e4",
   "metadata": {},
   "outputs": [
    {
     "name": "stdout",
     "output_type": "stream",
     "text": [
      "1\n"
     ]
    }
   ],
   "source": [
    "#Floor division\n",
    "x = 5\n",
    "y = 3\n",
    "\n",
    "print(x // y)"
   ]
  },
  {
   "cell_type": "markdown",
   "id": "27484400-c107-45a8-b294-9b5920a05973",
   "metadata": {},
   "source": [
    "Ex_19"
   ]
  },
  {
   "cell_type": "code",
   "execution_count": 60,
   "id": "da048217-08a3-490c-bb21-56aae72d09f4",
   "metadata": {},
   "outputs": [
    {
     "name": "stdout",
     "output_type": "stream",
     "text": [
      "1\n"
     ]
    }
   ],
   "source": [
    "x = 5\n",
    "\n",
    "x &= 3\n",
    "\n",
    "print(x)\n",
    "#AND"
   ]
  },
  {
   "cell_type": "markdown",
   "id": "f9cfd95d-c018-4395-96ff-c3230ee9a896",
   "metadata": {},
   "source": [
    "Ex_20"
   ]
  },
  {
   "cell_type": "code",
   "execution_count": 63,
   "id": "f04345a7-4f68-40dc-8a3d-328382ca4347",
   "metadata": {},
   "outputs": [
    {
     "name": "stdout",
     "output_type": "stream",
     "text": [
      "7\n"
     ]
    }
   ],
   "source": [
    "x = 5\n",
    "\n",
    "x |= 3\n",
    "\n",
    "print(x)\n",
    "#OR"
   ]
  },
  {
   "cell_type": "markdown",
   "id": "bba22826-5b24-44f9-b9fa-979dab776497",
   "metadata": {},
   "source": [
    "Ex_21"
   ]
  },
  {
   "cell_type": "code",
   "execution_count": 66,
   "id": "88c6b726-6ffc-4d38-8940-0eeeda34466e",
   "metadata": {},
   "outputs": [
    {
     "name": "stdout",
     "output_type": "stream",
     "text": [
      "6\n"
     ]
    }
   ],
   "source": [
    "x = 5\n",
    "\n",
    "x ^= 3\n",
    "\n",
    "print(x)\n",
    "#XOR"
   ]
  },
  {
   "cell_type": "markdown",
   "id": "55886f2f-74db-4f43-b4a8-65993db06e8c",
   "metadata": {},
   "source": [
    "Ex_22"
   ]
  },
  {
   "cell_type": "code",
   "execution_count": 69,
   "id": "a8adddd9-eb0e-40fb-b2d1-d33394ff060e",
   "metadata": {},
   "outputs": [
    {
     "name": "stdout",
     "output_type": "stream",
     "text": [
      "0\n"
     ]
    }
   ],
   "source": [
    "x = 5\n",
    "\n",
    "x >>= 3\n",
    "\n",
    "print(x)\n",
    "#Signed right shift"
   ]
  },
  {
   "cell_type": "markdown",
   "id": "b848bbbc-b517-46b2-a368-fea2e95e159f",
   "metadata": {},
   "source": [
    "Ex_23"
   ]
  },
  {
   "cell_type": "code",
   "execution_count": 72,
   "id": "927bcec8-dae5-4ddf-bc1d-b97737564f4c",
   "metadata": {},
   "outputs": [
    {
     "name": "stdout",
     "output_type": "stream",
     "text": [
      "40\n"
     ]
    }
   ],
   "source": [
    "x = 5\n",
    "\n",
    "x <<= 3\n",
    "\n",
    "print(x)\n",
    "#Zero fill left shift"
   ]
  },
  {
   "cell_type": "markdown",
   "id": "6900fd39-2561-4639-ae70-08eb67dcfa00",
   "metadata": {},
   "source": [
    "Ex_24"
   ]
  },
  {
   "cell_type": "code",
   "execution_count": 75,
   "id": "69627944-1e24-43b0-82b1-aad5723c7031",
   "metadata": {},
   "outputs": [
    {
     "name": "stdout",
     "output_type": "stream",
     "text": [
      "3\n"
     ]
    }
   ],
   "source": [
    "print(x := 3)\n",
    "#x = 3\n",
    "#print(x)"
   ]
  },
  {
   "cell_type": "markdown",
   "id": "dfe839dc-1e5b-4495-8d4e-4d7bfbfc847d",
   "metadata": {},
   "source": [
    "Ex_25"
   ]
  },
  {
   "cell_type": "code",
   "execution_count": 78,
   "id": "decdb7a3-58f6-4fe2-919a-79ac07b15814",
   "metadata": {},
   "outputs": [
    {
     "name": "stdout",
     "output_type": "stream",
     "text": [
      "True\n",
      "False\n",
      "True\n"
     ]
    }
   ],
   "source": [
    "x = [\"apple\", \"banana\"]\n",
    "y = [\"apple\", \"banana\"]\n",
    "z = x\n",
    "\n",
    "print(x is z)\n",
    "\n",
    "print(x is y)\n",
    "\n",
    "print(x == y)"
   ]
  },
  {
   "cell_type": "markdown",
   "id": "8677eb81-7290-4f73-8a3d-b428fddf3e33",
   "metadata": {},
   "source": [
    "Ex_26"
   ]
  },
  {
   "cell_type": "code",
   "execution_count": 81,
   "id": "57d0d8d1-4d2b-4cd3-a69d-1c693bb2963c",
   "metadata": {},
   "outputs": [
    {
     "name": "stdout",
     "output_type": "stream",
     "text": [
      "False\n",
      "True\n",
      "False\n"
     ]
    }
   ],
   "source": [
    "x = [\"apple\", \"banana\"]\n",
    "y = [\"apple\", \"banana\"]\n",
    "z = x\n",
    "\n",
    "print(x is not z)\n",
    "\n",
    "print(x is not y)\n",
    "\n",
    "print(x != y)"
   ]
  },
  {
   "cell_type": "markdown",
   "id": "82cf4684-1fcb-496d-a068-5d45f5e421cc",
   "metadata": {},
   "source": [
    "Ex_27"
   ]
  },
  {
   "cell_type": "code",
   "execution_count": 84,
   "id": "f7700057-3571-48e3-8793-a59555e3ec10",
   "metadata": {},
   "outputs": [
    {
     "name": "stdout",
     "output_type": "stream",
     "text": [
      "True\n"
     ]
    }
   ],
   "source": [
    "x = [\"apple\", \"banana\"]\n",
    "\n",
    "print(\"banana\" in x)"
   ]
  },
  {
   "cell_type": "markdown",
   "id": "78cd63c5-328a-4a7b-871f-786bee83c0e9",
   "metadata": {},
   "source": [
    "Ex_28"
   ]
  },
  {
   "cell_type": "code",
   "execution_count": 87,
   "id": "1de615eb-04fd-4664-8c27-c4f2142432fc",
   "metadata": {},
   "outputs": [
    {
     "name": "stdout",
     "output_type": "stream",
     "text": [
      "True\n"
     ]
    }
   ],
   "source": [
    "x = [\"apple\", \"banana\"]\n",
    "\n",
    "print(\"pineapple\" not in x)"
   ]
  },
  {
   "cell_type": "markdown",
   "id": "4842db0f-78d0-4203-922d-47115ba75892",
   "metadata": {},
   "source": [
    "Ex_29"
   ]
  },
  {
   "cell_type": "code",
   "execution_count": 90,
   "id": "aea011b7-2e8e-47b7-95c7-2c26797e4528",
   "metadata": {},
   "outputs": [
    {
     "name": "stdout",
     "output_type": "stream",
     "text": [
      "0\n"
     ]
    }
   ],
   "source": [
    "print((6 + 3) - (6 + 3))"
   ]
  },
  {
   "cell_type": "markdown",
   "id": "406f4810-62d2-41ca-b8b3-1f5c917c3618",
   "metadata": {},
   "source": [
    "Ex_30"
   ]
  },
  {
   "cell_type": "code",
   "execution_count": 93,
   "id": "1c7a07c7-6a19-48fd-8835-dee321d82082",
   "metadata": {},
   "outputs": [
    {
     "name": "stdout",
     "output_type": "stream",
     "text": [
      "115\n"
     ]
    }
   ],
   "source": [
    "print(100 + 5 * 3)"
   ]
  },
  {
   "cell_type": "markdown",
   "id": "8ff75b4b-f641-4c1c-9dea-2faaed652adf",
   "metadata": {},
   "source": [
    "Ex_31"
   ]
  },
  {
   "cell_type": "code",
   "execution_count": 96,
   "id": "dfc0b6ff-f3fd-471a-952c-665773169213",
   "metadata": {},
   "outputs": [
    {
     "name": "stdout",
     "output_type": "stream",
     "text": [
      "5\n"
     ]
    }
   ],
   "source": [
    "print(5 + 4 - 7 + 3)"
   ]
  },
  {
   "cell_type": "markdown",
   "id": "a69bcaae-9cf5-4178-a23d-9bf4d4351600",
   "metadata": {},
   "source": [
    "Ex_32"
   ]
  },
  {
   "cell_type": "code",
   "execution_count": 99,
   "id": "4b580225-c2d4-4073-b7ca-d732b819c640",
   "metadata": {},
   "outputs": [
    {
     "name": "stdout",
     "output_type": "stream",
     "text": [
      "['apple', 'banana', 'cherry']\n"
     ]
    }
   ],
   "source": [
    "thislist = [\"apple\", \"banana\", \"cherry\"]\n",
    "print(thislist)"
   ]
  },
  {
   "cell_type": "markdown",
   "id": "6279ce2a-855b-4c9d-b9e2-34e4ab8edfd0",
   "metadata": {},
   "source": [
    "Ex_33"
   ]
  },
  {
   "cell_type": "code",
   "execution_count": 102,
   "id": "5276349b-8726-41a1-91b3-230c08ad4313",
   "metadata": {},
   "outputs": [
    {
     "name": "stdout",
     "output_type": "stream",
     "text": [
      "['apple', 'banana', 'cherry', 'apple', 'cherry']\n"
     ]
    }
   ],
   "source": [
    "thislist = [\"apple\", \"banana\", \"cherry\", \"apple\", \"cherry\"]\n",
    "print(thislist)"
   ]
  },
  {
   "cell_type": "markdown",
   "id": "f105374f-7ad1-462d-b88b-d00506961058",
   "metadata": {},
   "source": [
    "Ex_34"
   ]
  },
  {
   "cell_type": "code",
   "execution_count": 105,
   "id": "548c1ad6-dfff-4a4c-a24d-46bd9f413978",
   "metadata": {},
   "outputs": [
    {
     "name": "stdout",
     "output_type": "stream",
     "text": [
      "3\n"
     ]
    }
   ],
   "source": [
    "thislist = [\"apple\", \"banana\", \"cherry\"]\n",
    "print(len(thislist))"
   ]
  },
  {
   "cell_type": "markdown",
   "id": "76d745ea-7b01-4793-80e4-f2a301dd541d",
   "metadata": {},
   "source": [
    "Ex_35"
   ]
  },
  {
   "cell_type": "code",
   "execution_count": 108,
   "id": "599fa058-ff69-4c39-9137-6674eedc0110",
   "metadata": {},
   "outputs": [],
   "source": [
    "list1 = [\"apple\", \"banana\", \"cherry\"]\n",
    "list2 = [1, 5, 7, 9, 3]\n",
    "list3 = [True, False, False]"
   ]
  },
  {
   "cell_type": "markdown",
   "id": "673aa835-b3ca-4e56-977a-e5b1c2248971",
   "metadata": {},
   "source": [
    "Ex_36"
   ]
  },
  {
   "cell_type": "code",
   "execution_count": 111,
   "id": "143e48e2-07fe-4b58-b3f0-102eb2986bf0",
   "metadata": {},
   "outputs": [],
   "source": [
    "list1 = [\"abc\", 34, True, 40, \"male\"]"
   ]
  },
  {
   "cell_type": "markdown",
   "id": "e768a3ff-61cc-4312-82df-0005d2052096",
   "metadata": {},
   "source": [
    "Ex_37"
   ]
  },
  {
   "cell_type": "code",
   "execution_count": 114,
   "id": "c56c13f0-834f-447b-9019-2d5dfaa9386b",
   "metadata": {},
   "outputs": [
    {
     "name": "stdout",
     "output_type": "stream",
     "text": [
      "<class 'list'>\n"
     ]
    }
   ],
   "source": [
    "mylist = [\"apple\", \"banana\", \"cherry\"]\n",
    "print(type(mylist))"
   ]
  },
  {
   "cell_type": "markdown",
   "id": "edea00ef-51f6-442b-a9c0-2cabbf045567",
   "metadata": {},
   "source": [
    "Ex_38"
   ]
  },
  {
   "cell_type": "code",
   "execution_count": 117,
   "id": "5aca4c46-aa9b-4f3a-8dd7-2f8faea7ae2a",
   "metadata": {},
   "outputs": [
    {
     "name": "stdout",
     "output_type": "stream",
     "text": [
      "['apple', 'banana', 'cherry']\n"
     ]
    }
   ],
   "source": [
    "thislist = list((\"apple\", \"banana\", \"cherry\")) # note the double round-brackets\n",
    "print(thislist)"
   ]
  },
  {
   "cell_type": "markdown",
   "id": "d9939199-a802-4fb8-8276-731081ce4cfb",
   "metadata": {},
   "source": [
    "Ex_39"
   ]
  },
  {
   "cell_type": "code",
   "execution_count": 120,
   "id": "ebc1174a-f944-4a43-bde8-ebf11706d555",
   "metadata": {},
   "outputs": [
    {
     "name": "stdout",
     "output_type": "stream",
     "text": [
      "banana\n"
     ]
    }
   ],
   "source": [
    "thislist = [\"apple\", \"banana\", \"cherry\"]\n",
    "print(thislist[1])"
   ]
  },
  {
   "cell_type": "markdown",
   "id": "6f777659-3fb3-461f-81b8-54c7ea330942",
   "metadata": {},
   "source": [
    "Ex_40"
   ]
  },
  {
   "cell_type": "code",
   "execution_count": 123,
   "id": "1378faa8-e4f4-4838-a2b9-0c4eb85c09a3",
   "metadata": {},
   "outputs": [
    {
     "name": "stdout",
     "output_type": "stream",
     "text": [
      "cherry\n"
     ]
    }
   ],
   "source": [
    "thislist = [\"apple\", \"banana\", \"cherry\"]\n",
    "print(thislist[-1])"
   ]
  },
  {
   "cell_type": "markdown",
   "id": "003e4de4-0217-430a-8e62-fc8e9674fe14",
   "metadata": {},
   "source": [
    "Ex_41"
   ]
  },
  {
   "cell_type": "code",
   "execution_count": 126,
   "id": "a35c2162-66a5-4a81-a5b3-08b400a84199",
   "metadata": {},
   "outputs": [
    {
     "name": "stdout",
     "output_type": "stream",
     "text": [
      "['cherry', 'orange', 'kiwi']\n"
     ]
    }
   ],
   "source": [
    "thislist = [\"apple\", \"banana\", \"cherry\", \"orange\", \"kiwi\", \"melon\", \"mango\"]\n",
    "print(thislist[2:5])"
   ]
  },
  {
   "cell_type": "markdown",
   "id": "7c6583ff-f18d-4b7c-9ad8-95a6886a2bc5",
   "metadata": {},
   "source": [
    "Ex_42"
   ]
  },
  {
   "cell_type": "code",
   "execution_count": 129,
   "id": "0834235c-e7d8-41b6-8449-e38e7b3f7b59",
   "metadata": {},
   "outputs": [
    {
     "name": "stdout",
     "output_type": "stream",
     "text": [
      "['apple', 'banana', 'cherry', 'orange']\n"
     ]
    }
   ],
   "source": [
    "thislist = [\"apple\", \"banana\", \"cherry\", \"orange\", \"kiwi\", \"melon\", \"mango\"]\n",
    "print(thislist[:4])"
   ]
  },
  {
   "cell_type": "markdown",
   "id": "838ead80-a151-48b3-97f8-fcb379a606bd",
   "metadata": {},
   "source": [
    "Ex_43"
   ]
  },
  {
   "cell_type": "code",
   "execution_count": 132,
   "id": "2a1e4306-50c6-417b-b5b1-65f8e200ac2a",
   "metadata": {},
   "outputs": [
    {
     "name": "stdout",
     "output_type": "stream",
     "text": [
      "['cherry', 'orange', 'kiwi', 'melon', 'mango']\n"
     ]
    }
   ],
   "source": [
    "thislist = [\"apple\", \"banana\", \"cherry\", \"orange\", \"kiwi\", \"melon\", \"mango\"]\n",
    "print(thislist[2:])"
   ]
  },
  {
   "cell_type": "markdown",
   "id": "a3ccd13a-b71b-4953-a89b-59f92d70e66b",
   "metadata": {},
   "source": [
    "Ex_44"
   ]
  },
  {
   "cell_type": "code",
   "execution_count": 135,
   "id": "b3e8a4a9-65f6-45a0-b9e5-b4f23beb157c",
   "metadata": {},
   "outputs": [
    {
     "name": "stdout",
     "output_type": "stream",
     "text": [
      "['orange', 'kiwi', 'melon']\n"
     ]
    }
   ],
   "source": [
    "thislist = [\"apple\", \"banana\", \"cherry\", \"orange\", \"kiwi\", \"melon\", \"mango\"]\n",
    "print(thislist[-4:-1])"
   ]
  },
  {
   "cell_type": "markdown",
   "id": "abb10990-e98a-4676-bbc0-2df116f7475c",
   "metadata": {},
   "source": [
    "Ex_45"
   ]
  },
  {
   "cell_type": "code",
   "execution_count": 138,
   "id": "445c57e7-5787-441b-8b09-934601ff9ea2",
   "metadata": {},
   "outputs": [
    {
     "name": "stdout",
     "output_type": "stream",
     "text": [
      "Yes, 'apple' is in the fruits list\n"
     ]
    }
   ],
   "source": [
    "thislist = [\"apple\", \"banana\", \"cherry\"]\n",
    "if \"apple\" in thislist:\n",
    "  print(\"Yes, 'apple' is in the fruits list\")"
   ]
  },
  {
   "cell_type": "markdown",
   "id": "5474c1f0-a8f1-44ae-b5df-32c54dfcf778",
   "metadata": {},
   "source": [
    "Ex_46"
   ]
  },
  {
   "cell_type": "code",
   "execution_count": 141,
   "id": "8edd6210-3381-4758-a627-c11f7f81f78a",
   "metadata": {},
   "outputs": [
    {
     "name": "stdout",
     "output_type": "stream",
     "text": [
      "['apple', 'blackcurrant', 'cherry']\n"
     ]
    }
   ],
   "source": [
    "thislist = [\"apple\", \"banana\", \"cherry\"]\n",
    "thislist[1] = \"blackcurrant\"\n",
    "print(thislist)"
   ]
  },
  {
   "cell_type": "markdown",
   "id": "774d9e7d-3f3e-4a90-95e1-337340e0c8c6",
   "metadata": {},
   "source": [
    "Ex_47"
   ]
  },
  {
   "cell_type": "code",
   "execution_count": 144,
   "id": "0f4daaa2-273b-4de8-a35e-6fd37467e4a6",
   "metadata": {},
   "outputs": [
    {
     "name": "stdout",
     "output_type": "stream",
     "text": [
      "['apple', 'blackcurrant', 'watermelon', 'orange', 'kiwi', 'mango']\n"
     ]
    }
   ],
   "source": [
    "thislist = [\"apple\", \"banana\", \"cherry\", \"orange\", \"kiwi\", \"mango\"]\n",
    "thislist[1:3] = [\"blackcurrant\", \"watermelon\"]\n",
    "print(thislist)"
   ]
  },
  {
   "cell_type": "markdown",
   "id": "bf0508d0-9fa8-417f-9907-94a6db05dc9e",
   "metadata": {},
   "source": [
    "Ex_48"
   ]
  },
  {
   "cell_type": "code",
   "execution_count": 147,
   "id": "e35c8daf-622e-4f8a-9d81-b30b5a6e1151",
   "metadata": {},
   "outputs": [
    {
     "name": "stdout",
     "output_type": "stream",
     "text": [
      "['apple', 'blackcurrant', 'watermelon', 'cherry']\n"
     ]
    }
   ],
   "source": [
    "thislist = [\"apple\", \"banana\", \"cherry\"]\n",
    "thislist[1:2] = [\"blackcurrant\", \"watermelon\"]\n",
    "print(thislist)"
   ]
  },
  {
   "cell_type": "markdown",
   "id": "ccf5970d-b5e9-421a-a17f-2403546fe01a",
   "metadata": {},
   "source": [
    "Ex_49"
   ]
  },
  {
   "cell_type": "code",
   "execution_count": 150,
   "id": "80cf7ce2-3311-4d12-baeb-e3c8835d31fc",
   "metadata": {},
   "outputs": [
    {
     "name": "stdout",
     "output_type": "stream",
     "text": [
      "['apple', 'watermelon']\n"
     ]
    }
   ],
   "source": [
    "thislist = [\"apple\", \"banana\", \"cherry\"]\n",
    "thislist[1:3] = [\"watermelon\"]\n",
    "print(thislist)"
   ]
  },
  {
   "cell_type": "markdown",
   "id": "a2f65c5b-3679-4ae2-b2d9-7dd5ced6aec1",
   "metadata": {},
   "source": [
    "Ex_50"
   ]
  },
  {
   "cell_type": "code",
   "execution_count": 153,
   "id": "cc0f62ec-da83-4779-9b26-90b442251c43",
   "metadata": {},
   "outputs": [
    {
     "name": "stdout",
     "output_type": "stream",
     "text": [
      "['apple', 'banana', 'watermelon', 'cherry']\n"
     ]
    }
   ],
   "source": [
    "thislist = [\"apple\", \"banana\", \"cherry\"]\n",
    "thislist.insert(2, \"watermelon\")\n",
    "print(thislist)"
   ]
  },
  {
   "cell_type": "markdown",
   "id": "b9cac7dc-1ee1-4eda-b3b5-b71666a0bc92",
   "metadata": {},
   "source": [
    "Ex_51"
   ]
  },
  {
   "cell_type": "code",
   "execution_count": 156,
   "id": "b07e0ac0-a06f-4380-8a3c-9d12328542b8",
   "metadata": {},
   "outputs": [
    {
     "name": "stdout",
     "output_type": "stream",
     "text": [
      "['apple', 'banana', 'cherry', 'orange']\n"
     ]
    }
   ],
   "source": [
    "thislist = [\"apple\", \"banana\", \"cherry\"]\n",
    "thislist.append(\"orange\")\n",
    "print(thislist)"
   ]
  },
  {
   "cell_type": "markdown",
   "id": "59a78d50-6d02-4eac-a6b9-455f498fc577",
   "metadata": {},
   "source": [
    "Ex_52"
   ]
  },
  {
   "cell_type": "code",
   "execution_count": 159,
   "id": "70517cc2-4af5-4d80-aba0-c505e4cccf03",
   "metadata": {},
   "outputs": [
    {
     "name": "stdout",
     "output_type": "stream",
     "text": [
      "['apple', 'orange', 'banana', 'cherry']\n"
     ]
    }
   ],
   "source": [
    "thislist = [\"apple\", \"banana\", \"cherry\"]\n",
    "thislist.insert(1, \"orange\")\n",
    "print(thislist)"
   ]
  },
  {
   "cell_type": "markdown",
   "id": "697ca480-ba60-4434-9489-a7c937913299",
   "metadata": {},
   "source": [
    "Ex_53"
   ]
  },
  {
   "cell_type": "code",
   "execution_count": 162,
   "id": "e42698d0-51aa-4748-af8f-f91c616fd9f0",
   "metadata": {},
   "outputs": [
    {
     "name": "stdout",
     "output_type": "stream",
     "text": [
      "['apple', 'banana', 'cherry', 'mango', 'pineapple', 'papaya']\n"
     ]
    }
   ],
   "source": [
    "thislist = [\"apple\", \"banana\", \"cherry\"]\n",
    "tropical = [\"mango\", \"pineapple\", \"papaya\"]\n",
    "thislist.extend(tropical)\n",
    "print(thislist)"
   ]
  },
  {
   "cell_type": "markdown",
   "id": "1e1c4d45-7b9f-41a1-91eb-ebb4697c20eb",
   "metadata": {},
   "source": [
    "Ex_54"
   ]
  },
  {
   "cell_type": "code",
   "execution_count": 165,
   "id": "14e4fe43-43b3-4b6a-839f-3f5c77d44656",
   "metadata": {},
   "outputs": [
    {
     "name": "stdout",
     "output_type": "stream",
     "text": [
      "['apple', 'banana', 'cherry', 'kiwi', 'orange']\n"
     ]
    }
   ],
   "source": [
    "thislist = [\"apple\", \"banana\", \"cherry\"]\n",
    "thistuple = (\"kiwi\", \"orange\")\n",
    "thislist.extend(thistuple)\n",
    "print(thislist)"
   ]
  },
  {
   "cell_type": "markdown",
   "id": "b0bb9fe3-df12-434b-9246-012ef37233b1",
   "metadata": {},
   "source": [
    "Ex_55"
   ]
  },
  {
   "cell_type": "code",
   "execution_count": 168,
   "id": "709da969-fde0-4d71-9bf6-9d9c38eb2452",
   "metadata": {},
   "outputs": [
    {
     "name": "stdout",
     "output_type": "stream",
     "text": [
      "['apple', 'cherry']\n"
     ]
    }
   ],
   "source": [
    "thislist = [\"apple\", \"banana\", \"cherry\"]\n",
    "thislist.remove(\"banana\")\n",
    "print(thislist)"
   ]
  },
  {
   "cell_type": "markdown",
   "id": "bf9bfda5-b402-4f42-a692-6bf6b2d1aea5",
   "metadata": {},
   "source": [
    "Ex_56"
   ]
  },
  {
   "cell_type": "code",
   "execution_count": 171,
   "id": "47a28b65-a526-484d-9919-9cc2d488f400",
   "metadata": {},
   "outputs": [
    {
     "name": "stdout",
     "output_type": "stream",
     "text": [
      "['apple', 'cherry', 'banana', 'kiwi']\n"
     ]
    }
   ],
   "source": [
    "thislist = [\"apple\", \"banana\", \"cherry\", \"banana\", \"kiwi\"]\n",
    "thislist.remove(\"banana\")\n",
    "print(thislist)"
   ]
  },
  {
   "cell_type": "markdown",
   "id": "3346ada6-d219-43f6-9e36-79e3696022f0",
   "metadata": {},
   "source": [
    "Ex_57"
   ]
  },
  {
   "cell_type": "code",
   "execution_count": 174,
   "id": "a498381c-0caf-4e3e-af35-c69d03d4a706",
   "metadata": {},
   "outputs": [
    {
     "name": "stdout",
     "output_type": "stream",
     "text": [
      "['apple', 'cherry']\n"
     ]
    }
   ],
   "source": [
    "thislist = [\"apple\", \"banana\", \"cherry\"]\n",
    "thislist.pop(1)\n",
    "print(thislist)"
   ]
  },
  {
   "cell_type": "markdown",
   "id": "f97dedc5-015d-45f7-a87f-216d4b4144b5",
   "metadata": {},
   "source": [
    "Ex_58"
   ]
  },
  {
   "cell_type": "code",
   "execution_count": 177,
   "id": "7cfde7b7-d010-4089-9b54-c604567f871d",
   "metadata": {},
   "outputs": [
    {
     "name": "stdout",
     "output_type": "stream",
     "text": [
      "['apple', 'banana']\n"
     ]
    }
   ],
   "source": [
    "thislist = [\"apple\", \"banana\", \"cherry\"]\n",
    "thislist.pop()\n",
    "print(thislist)"
   ]
  },
  {
   "cell_type": "markdown",
   "id": "ace71422-3d10-4a0c-ba91-e7336f8f8fff",
   "metadata": {},
   "source": [
    "Ex_59"
   ]
  },
  {
   "cell_type": "code",
   "execution_count": 180,
   "id": "5c0dcc6a-da8e-4838-86bc-ff0e8abefcab",
   "metadata": {},
   "outputs": [
    {
     "name": "stdout",
     "output_type": "stream",
     "text": [
      "['banana', 'cherry']\n"
     ]
    }
   ],
   "source": [
    "thislist = [\"apple\", \"banana\", \"cherry\"]\n",
    "del thislist[0]\n",
    "print(thislist)"
   ]
  },
  {
   "cell_type": "markdown",
   "id": "7f8342e5-aec4-441d-ae64-a6f534067a33",
   "metadata": {},
   "source": [
    "Ex_60"
   ]
  },
  {
   "cell_type": "code",
   "execution_count": 183,
   "id": "88c9eda5-bfcb-4c99-8324-c84df30426e4",
   "metadata": {},
   "outputs": [],
   "source": [
    "thislist = [\"apple\", \"banana\", \"cherry\"]\n",
    "del thislist"
   ]
  },
  {
   "cell_type": "markdown",
   "id": "9ce22f4b-16f8-49c4-adf6-23ff0f178fb9",
   "metadata": {},
   "source": [
    "Ex_61"
   ]
  },
  {
   "cell_type": "code",
   "execution_count": 186,
   "id": "bb4a479d-d577-44bb-83ed-6723635bbcb4",
   "metadata": {},
   "outputs": [
    {
     "name": "stdout",
     "output_type": "stream",
     "text": [
      "[]\n"
     ]
    }
   ],
   "source": [
    "thislist = [\"apple\", \"banana\", \"cherry\"]\n",
    "thislist.clear()\n",
    "print(thislist)"
   ]
  },
  {
   "cell_type": "markdown",
   "id": "6598952b-8931-47af-9cab-8cefe8669678",
   "metadata": {},
   "source": [
    "Ex_62"
   ]
  },
  {
   "cell_type": "code",
   "execution_count": 189,
   "id": "0a5c1e02-a3bf-471f-a092-f7250db2c086",
   "metadata": {},
   "outputs": [
    {
     "name": "stdout",
     "output_type": "stream",
     "text": [
      "apple\n",
      "banana\n",
      "cherry\n"
     ]
    }
   ],
   "source": [
    "thislist = [\"apple\", \"banana\", \"cherry\"]\n",
    "for x in thislist:\n",
    "  print(x)"
   ]
  },
  {
   "cell_type": "markdown",
   "id": "57d0669c-02e2-4eae-afe5-19c63ab9b2df",
   "metadata": {},
   "source": [
    "Ex_63"
   ]
  },
  {
   "cell_type": "code",
   "execution_count": 192,
   "id": "1d304e5e-ad18-4301-b134-fcb7c3bd04ca",
   "metadata": {},
   "outputs": [
    {
     "name": "stdout",
     "output_type": "stream",
     "text": [
      "apple\n",
      "banana\n",
      "cherry\n"
     ]
    }
   ],
   "source": [
    "thislist = [\"apple\", \"banana\", \"cherry\"]\n",
    "for i in range(len(thislist)):\n",
    "  print(thislist[i])"
   ]
  },
  {
   "cell_type": "markdown",
   "id": "05841f56-e737-41f1-94e8-aa41e4490915",
   "metadata": {},
   "source": [
    "Ex_64"
   ]
  },
  {
   "cell_type": "code",
   "execution_count": 195,
   "id": "26c3bb90-7890-49de-a95a-05cec22582fe",
   "metadata": {},
   "outputs": [
    {
     "name": "stdout",
     "output_type": "stream",
     "text": [
      "apple\n",
      "banana\n",
      "cherry\n"
     ]
    }
   ],
   "source": [
    "thislist = [\"apple\", \"banana\", \"cherry\"]\n",
    "i = 0\n",
    "while i < len(thislist):\n",
    "  print(thislist[i])\n",
    "  i = i + 1"
   ]
  },
  {
   "cell_type": "markdown",
   "id": "80670e3c-141c-463a-8c67-5dd291ea4c1a",
   "metadata": {},
   "source": [
    "Ex_65"
   ]
  },
  {
   "cell_type": "code",
   "execution_count": 198,
   "id": "e529dc5a-5803-4259-9f4b-f58a6e5bc548",
   "metadata": {},
   "outputs": [
    {
     "name": "stdout",
     "output_type": "stream",
     "text": [
      "apple\n",
      "banana\n",
      "cherry\n"
     ]
    },
    {
     "data": {
      "text/plain": [
       "[None, None, None]"
      ]
     },
     "execution_count": 198,
     "metadata": {},
     "output_type": "execute_result"
    }
   ],
   "source": [
    "thislist = [\"apple\", \"banana\", \"cherry\"]\n",
    "[print(x) for x in thislist]"
   ]
  },
  {
   "cell_type": "markdown",
   "id": "f02b8078-b79e-4914-8370-98d8e01b6b54",
   "metadata": {},
   "source": [
    "Ex_66"
   ]
  },
  {
   "cell_type": "code",
   "execution_count": 201,
   "id": "e7dcd060-2e63-4cac-8748-afb3feb50509",
   "metadata": {},
   "outputs": [
    {
     "name": "stdout",
     "output_type": "stream",
     "text": [
      "['apple', 'banana', 'mango']\n"
     ]
    }
   ],
   "source": [
    "fruits = [\"apple\", \"banana\", \"cherry\", \"kiwi\", \"mango\"]\n",
    "newlist = []\n",
    "\n",
    "for x in fruits:\n",
    "  if \"a\" in x:\n",
    "    newlist.append(x)\n",
    "\n",
    "print(newlist)"
   ]
  },
  {
   "cell_type": "markdown",
   "id": "4609a5d9-1d23-47d8-af78-9e92d72a9880",
   "metadata": {},
   "source": [
    "Ex_67"
   ]
  },
  {
   "cell_type": "code",
   "execution_count": 204,
   "id": "b6308990-66a5-4e54-aeff-74488acaea94",
   "metadata": {},
   "outputs": [
    {
     "name": "stdout",
     "output_type": "stream",
     "text": [
      "['apple', 'banana', 'mango']\n"
     ]
    }
   ],
   "source": [
    "fruits = [\"apple\", \"banana\", \"cherry\", \"kiwi\", \"mango\"]\n",
    "\n",
    "newlist = [x for x in fruits if \"a\" in x]\n",
    "\n",
    "print(newlist)"
   ]
  },
  {
   "cell_type": "markdown",
   "id": "124497ca-2968-41b7-9246-3c01d79b5a67",
   "metadata": {},
   "source": [
    "Ex_68"
   ]
  },
  {
   "cell_type": "code",
   "execution_count": 224,
   "id": "6a9c1756-0632-4183-9fd2-8f431dab4fba",
   "metadata": {},
   "outputs": [
    {
     "name": "stdout",
     "output_type": "stream",
     "text": [
      "['banana', 'cherry', 'kiwi', 'mango']\n"
     ]
    }
   ],
   "source": [
    "fruits = [\"apple\", \"banana\", \"cherry\", \"kiwi\", \"mango\"]\n",
    "\n",
    "newlist = [x for x in fruits if x != \"apple\"]\n",
    "\n",
    "print(newlist)"
   ]
  },
  {
   "cell_type": "markdown",
   "id": "147a093a-c262-45fe-818c-282f399821a3",
   "metadata": {},
   "source": [
    "Ex_69"
   ]
  },
  {
   "cell_type": "code",
   "execution_count": 226,
   "id": "1fc5635c-d085-4d2b-86da-8a837bbb732b",
   "metadata": {},
   "outputs": [
    {
     "name": "stdout",
     "output_type": "stream",
     "text": [
      "['apple', 'banana', 'cherry', 'kiwi', 'mango']\n"
     ]
    }
   ],
   "source": [
    "fruits = [\"apple\", \"banana\", \"cherry\", \"kiwi\", \"mango\"]\n",
    "\n",
    "newlist = [x for x in fruits]\n",
    "\n",
    "print(newlist)"
   ]
  },
  {
   "cell_type": "markdown",
   "id": "3079b4d2-be86-4bb1-b98b-ae8e42b2361f",
   "metadata": {},
   "source": [
    "Ex_70"
   ]
  },
  {
   "cell_type": "code",
   "execution_count": 228,
   "id": "0964357c-30d7-4071-86c3-7c39e48c3ac4",
   "metadata": {},
   "outputs": [
    {
     "name": "stdout",
     "output_type": "stream",
     "text": [
      "[0, 1, 2, 3, 4, 5, 6, 7, 8, 9]\n"
     ]
    }
   ],
   "source": [
    "newlist = [x for x in range(10)]\n",
    "print(newlist)"
   ]
  },
  {
   "cell_type": "markdown",
   "id": "782fb288-1d94-4f59-9b33-b1f84ff6a50c",
   "metadata": {},
   "source": [
    "Ex_71"
   ]
  },
  {
   "cell_type": "code",
   "execution_count": 230,
   "id": "c228afb1-cf74-4234-bb60-c2b901821e9d",
   "metadata": {},
   "outputs": [
    {
     "name": "stdout",
     "output_type": "stream",
     "text": [
      "[0, 1, 2, 3, 4]\n"
     ]
    }
   ],
   "source": [
    "newlist = [x for x in range(10) if x < 5]\n",
    "print(newlist)"
   ]
  },
  {
   "cell_type": "markdown",
   "id": "36f0a4a4-6e97-479e-8194-53a8533ece1c",
   "metadata": {},
   "source": [
    "Ex_72"
   ]
  },
  {
   "cell_type": "code",
   "execution_count": 232,
   "id": "25a19630-3cf5-4b14-8207-afac661464f7",
   "metadata": {},
   "outputs": [
    {
     "name": "stdout",
     "output_type": "stream",
     "text": [
      "['APPLE', 'BANANA', 'CHERRY', 'KIWI', 'MANGO']\n"
     ]
    }
   ],
   "source": [
    "fruits = [\"apple\", \"banana\", \"cherry\", \"kiwi\", \"mango\"]\n",
    "\n",
    "newlist = [x.upper() for x in fruits]\n",
    "\n",
    "print(newlist)"
   ]
  },
  {
   "cell_type": "markdown",
   "id": "c4bc75ae-f9ab-462f-8e7d-067c94e3370e",
   "metadata": {},
   "source": [
    "Ex_73"
   ]
  },
  {
   "cell_type": "code",
   "execution_count": 234,
   "id": "142e73c3-24c5-4ee0-8a7d-3c5439fd9151",
   "metadata": {},
   "outputs": [
    {
     "name": "stdout",
     "output_type": "stream",
     "text": [
      "['hello', 'hello', 'hello', 'hello', 'hello']\n"
     ]
    }
   ],
   "source": [
    "fruits = [\"apple\", \"banana\", \"cherry\", \"kiwi\", \"mango\"]\n",
    "\n",
    "newlist = ['hello' for x in fruits]\n",
    "\n",
    "print(newlist)"
   ]
  },
  {
   "cell_type": "markdown",
   "id": "daf7d295-323d-4278-99ce-c90c7540afb4",
   "metadata": {},
   "source": [
    "Ex_74"
   ]
  },
  {
   "cell_type": "code",
   "execution_count": 237,
   "id": "c028cce5-32ca-4656-8097-4bd8d14ce030",
   "metadata": {},
   "outputs": [
    {
     "name": "stdout",
     "output_type": "stream",
     "text": [
      "['apple', 'orange', 'cherry', 'kiwi', 'mango']\n"
     ]
    }
   ],
   "source": [
    "fruits = [\"apple\", \"banana\", \"cherry\", \"kiwi\", \"mango\"]\n",
    "\n",
    "newlist = [x if x != \"banana\" else \"orange\" for x in fruits]\n",
    "\n",
    "print(newlist)"
   ]
  },
  {
   "cell_type": "markdown",
   "id": "2fe49ea3-0967-436f-a8a5-0f0fb400cdaa",
   "metadata": {},
   "source": [
    "Ex_75"
   ]
  },
  {
   "cell_type": "code",
   "execution_count": 240,
   "id": "a8e22458-9ad0-4d49-9c55-8f2114a41bda",
   "metadata": {},
   "outputs": [
    {
     "name": "stdout",
     "output_type": "stream",
     "text": [
      "['banana', 'kiwi', 'mango', 'orange', 'pineapple']\n"
     ]
    }
   ],
   "source": [
    "thislist = [\"orange\", \"mango\", \"kiwi\", \"pineapple\", \"banana\"]\n",
    "thislist.sort()\n",
    "print(thislist)"
   ]
  },
  {
   "cell_type": "markdown",
   "id": "324f2132-6219-4519-a08e-b619c1b078ec",
   "metadata": {},
   "source": [
    "Ex_76"
   ]
  },
  {
   "cell_type": "code",
   "execution_count": 243,
   "id": "0a0cc99f-3595-466e-9c4d-6457dd897568",
   "metadata": {},
   "outputs": [
    {
     "name": "stdout",
     "output_type": "stream",
     "text": [
      "[23, 50, 65, 82, 100]\n"
     ]
    }
   ],
   "source": [
    "thislist = [100, 50, 65, 82, 23]\n",
    "thislist.sort()\n",
    "print(thislist)"
   ]
  },
  {
   "cell_type": "markdown",
   "id": "c485e324-f551-4e80-aa13-24dd989ddfcb",
   "metadata": {},
   "source": [
    "Ex_77"
   ]
  },
  {
   "cell_type": "code",
   "execution_count": 246,
   "id": "6195e5fe-9ccc-4ee8-a22d-d2dc697d2307",
   "metadata": {},
   "outputs": [
    {
     "name": "stdout",
     "output_type": "stream",
     "text": [
      "['pineapple', 'orange', 'mango', 'kiwi', 'banana']\n"
     ]
    }
   ],
   "source": [
    "thislist = [\"orange\", \"mango\", \"kiwi\", \"pineapple\", \"banana\"]\n",
    "thislist.sort(reverse = True)\n",
    "print(thislist)"
   ]
  },
  {
   "cell_type": "markdown",
   "id": "10cdb316-4bb9-4b76-8252-2596c69a2094",
   "metadata": {},
   "source": [
    "Ex_78"
   ]
  },
  {
   "cell_type": "code",
   "execution_count": 249,
   "id": "00ceab87-f649-4a58-8dd6-5a83175a0fac",
   "metadata": {},
   "outputs": [
    {
     "name": "stdout",
     "output_type": "stream",
     "text": [
      "[100, 82, 65, 50, 23]\n"
     ]
    }
   ],
   "source": [
    "thislist = [100, 50, 65, 82, 23]\n",
    "thislist.sort(reverse = True)\n",
    "print(thislist)"
   ]
  },
  {
   "cell_type": "markdown",
   "id": "02e3c6fc-7161-42ec-998e-a6877b31c7b4",
   "metadata": {},
   "source": [
    "Ex_79"
   ]
  },
  {
   "cell_type": "code",
   "execution_count": 252,
   "id": "c4ca8580-5c49-468a-bdd0-66f006c821c5",
   "metadata": {},
   "outputs": [
    {
     "name": "stdout",
     "output_type": "stream",
     "text": [
      "[50, 65, 23, 82, 100]\n"
     ]
    }
   ],
   "source": [
    "def myfunc(n):\n",
    "  return abs(n - 50)\n",
    "\n",
    "thislist = [100, 50, 65, 82, 23]\n",
    "thislist.sort(key = myfunc)\n",
    "print(thislist)"
   ]
  },
  {
   "cell_type": "markdown",
   "id": "e86f3768-e6bf-49d2-ab54-8467302bf173",
   "metadata": {},
   "source": [
    "Ex_80"
   ]
  },
  {
   "cell_type": "code",
   "execution_count": 255,
   "id": "d1b71243-057c-4c26-a281-51d5e8715c45",
   "metadata": {},
   "outputs": [
    {
     "name": "stdout",
     "output_type": "stream",
     "text": [
      "['Kiwi', 'Orange', 'banana', 'cherry']\n"
     ]
    }
   ],
   "source": [
    "thislist = [\"banana\", \"Orange\", \"Kiwi\", \"cherry\"]\n",
    "thislist.sort()\n",
    "print(thislist)"
   ]
  },
  {
   "cell_type": "markdown",
   "id": "49dfa6a4-c12a-457b-833d-e022fc88457e",
   "metadata": {},
   "source": [
    "Ex_81"
   ]
  },
  {
   "cell_type": "code",
   "execution_count": 258,
   "id": "49a9b3c5-c3bf-4dc4-ae85-c7babcc332f1",
   "metadata": {},
   "outputs": [
    {
     "name": "stdout",
     "output_type": "stream",
     "text": [
      "['banana', 'cherry', 'Kiwi', 'Orange']\n"
     ]
    }
   ],
   "source": [
    "thislist = [\"banana\", \"Orange\", \"Kiwi\", \"cherry\"]\n",
    "thislist.sort(key = str.lower)\n",
    "print(thislist)"
   ]
  },
  {
   "cell_type": "markdown",
   "id": "131f3fe9-9eee-48ad-816a-0b626ee8aec0",
   "metadata": {},
   "source": [
    "Ex_82"
   ]
  },
  {
   "cell_type": "code",
   "execution_count": 261,
   "id": "4d0d99a5-4649-475b-852f-1787b6ffc732",
   "metadata": {},
   "outputs": [
    {
     "name": "stdout",
     "output_type": "stream",
     "text": [
      "['cherry', 'Kiwi', 'Orange', 'banana']\n"
     ]
    }
   ],
   "source": [
    "thislist = [\"banana\", \"Orange\", \"Kiwi\", \"cherry\"]\n",
    "thislist.reverse()\n",
    "print(thislist)"
   ]
  },
  {
   "cell_type": "markdown",
   "id": "d480478b-87dd-43ff-a9f3-233c382d1a29",
   "metadata": {},
   "source": [
    "Ex_83"
   ]
  },
  {
   "cell_type": "code",
   "execution_count": 264,
   "id": "613822a0-e77d-4b68-9680-b9347f146f58",
   "metadata": {},
   "outputs": [
    {
     "name": "stdout",
     "output_type": "stream",
     "text": [
      "['apple', 'banana', 'cherry']\n"
     ]
    }
   ],
   "source": [
    "thislist = [\"apple\", \"banana\", \"cherry\"]\n",
    "mylist = thislist.copy()\n",
    "print(mylist)"
   ]
  },
  {
   "cell_type": "markdown",
   "id": "40a8c203-1ec8-4448-be7f-7b5853a93598",
   "metadata": {},
   "source": [
    "Ex_84"
   ]
  },
  {
   "cell_type": "code",
   "execution_count": 267,
   "id": "ba6e1df4-a237-4690-8f16-faab2648243f",
   "metadata": {},
   "outputs": [
    {
     "name": "stdout",
     "output_type": "stream",
     "text": [
      "['apple', 'banana', 'cherry']\n"
     ]
    }
   ],
   "source": [
    "thislist = [\"apple\", \"banana\", \"cherry\"]\n",
    "mylist = list(thislist)\n",
    "print(mylist)"
   ]
  },
  {
   "cell_type": "markdown",
   "id": "da828464-3335-4446-8d6f-15a37a607780",
   "metadata": {},
   "source": [
    "Ex_85"
   ]
  },
  {
   "cell_type": "code",
   "execution_count": 270,
   "id": "8652c874-f1f2-47d6-aa57-e754e892fd3e",
   "metadata": {},
   "outputs": [
    {
     "name": "stdout",
     "output_type": "stream",
     "text": [
      "['apple', 'banana', 'cherry']\n"
     ]
    }
   ],
   "source": [
    "thislist = [\"apple\", \"banana\", \"cherry\"]\n",
    "mylist = thislist[:]\n",
    "print(mylist)"
   ]
  },
  {
   "cell_type": "markdown",
   "id": "ed9c4cf6-d1d0-4464-a29f-b283827a9bef",
   "metadata": {},
   "source": [
    "Ex_86"
   ]
  },
  {
   "cell_type": "code",
   "execution_count": 273,
   "id": "f692d5e9-1b57-4158-88a2-c86db4315d4f",
   "metadata": {},
   "outputs": [
    {
     "name": "stdout",
     "output_type": "stream",
     "text": [
      "['a', 'b', 'c', 1, 2, 3]\n"
     ]
    }
   ],
   "source": [
    "list1 = [\"a\", \"b\", \"c\"]\n",
    "list2 = [1, 2, 3]\n",
    "\n",
    "list3 = list1 + list2\n",
    "print(list3)"
   ]
  },
  {
   "cell_type": "markdown",
   "id": "7312aee8-a67a-41cd-8397-d7ef38052ef1",
   "metadata": {},
   "source": [
    "Ex_87"
   ]
  },
  {
   "cell_type": "code",
   "execution_count": 276,
   "id": "a4c58074-6d7c-448e-9d31-500e9cbeda67",
   "metadata": {},
   "outputs": [
    {
     "name": "stdout",
     "output_type": "stream",
     "text": [
      "['a', 'b', 'c', 1, 2, 3]\n"
     ]
    }
   ],
   "source": [
    "list1 = [\"a\", \"b\" , \"c\"]\n",
    "list2 = [1, 2, 3]\n",
    "\n",
    "for x in list2:\n",
    "  list1.append(x)\n",
    "\n",
    "print(list1)"
   ]
  },
  {
   "cell_type": "markdown",
   "id": "f07782f0-fbc7-48bd-823c-592a661bf0f9",
   "metadata": {},
   "source": [
    "Ex_88"
   ]
  },
  {
   "cell_type": "code",
   "execution_count": 279,
   "id": "07d24ecc-4cf6-4b7c-8eb5-6c71dc1493c5",
   "metadata": {},
   "outputs": [
    {
     "name": "stdout",
     "output_type": "stream",
     "text": [
      "['a', 'b', 'c', 1, 2, 3]\n"
     ]
    }
   ],
   "source": [
    "list1 = [\"a\", \"b\" , \"c\"]\n",
    "list2 = [1, 2, 3]\n",
    "\n",
    "list1.extend(list2)\n",
    "print(list1)"
   ]
  },
  {
   "cell_type": "markdown",
   "id": "f2fa7fba-44e7-4e4b-bd3b-f89a77916955",
   "metadata": {},
   "source": [
    "Ex_89"
   ]
  },
  {
   "cell_type": "code",
   "execution_count": 282,
   "id": "3db7757f-c3be-44c9-a827-66bc4328f75e",
   "metadata": {},
   "outputs": [
    {
     "name": "stdout",
     "output_type": "stream",
     "text": [
      "('apple', 'banana', 'cherry')\n"
     ]
    }
   ],
   "source": [
    "thistuple = (\"apple\", \"banana\", \"cherry\")\n",
    "print(thistuple)"
   ]
  },
  {
   "cell_type": "markdown",
   "id": "8795574f-b098-4a2f-9405-232e9e243076",
   "metadata": {},
   "source": [
    "Ex_90"
   ]
  },
  {
   "cell_type": "code",
   "execution_count": 287,
   "id": "036997e4-71f0-4c31-a396-78e9a2f56fa3",
   "metadata": {},
   "outputs": [
    {
     "name": "stdout",
     "output_type": "stream",
     "text": [
      "('apple', 'banana', 'cherry', 'apple', 'cherry')\n"
     ]
    }
   ],
   "source": [
    "thistuple = (\"apple\", \"banana\", \"cherry\", \"apple\", \"cherry\")\n",
    "print(thistuple)"
   ]
  },
  {
   "cell_type": "markdown",
   "id": "5b999e10-363c-476e-9a4e-f91f2a0938b4",
   "metadata": {},
   "source": [
    "Ex_91"
   ]
  },
  {
   "cell_type": "code",
   "execution_count": 290,
   "id": "e3c6c1c4-e50b-4e9d-b10a-687d3df0d539",
   "metadata": {},
   "outputs": [
    {
     "name": "stdout",
     "output_type": "stream",
     "text": [
      "3\n"
     ]
    }
   ],
   "source": [
    "thistuple = (\"apple\", \"banana\", \"cherry\")\n",
    "print(len(thistuple))"
   ]
  },
  {
   "cell_type": "markdown",
   "id": "c0782544-8bf0-4112-93d4-0b5a82e265e4",
   "metadata": {},
   "source": [
    "Ex_92"
   ]
  },
  {
   "cell_type": "code",
   "execution_count": 293,
   "id": "11763343-067e-432b-a7bf-dc268899789a",
   "metadata": {},
   "outputs": [
    {
     "name": "stdout",
     "output_type": "stream",
     "text": [
      "<class 'tuple'>\n",
      "<class 'str'>\n"
     ]
    }
   ],
   "source": [
    "thistuple = (\"apple\",)\n",
    "print(type(thistuple))\n",
    "\n",
    "#NOT a tuple\n",
    "thistuple = (\"apple\")\n",
    "print(type(thistuple))"
   ]
  },
  {
   "cell_type": "markdown",
   "id": "625ccfa2-1cc2-4bff-bf7a-55f2e9a1e6d6",
   "metadata": {},
   "source": [
    "Ex_93"
   ]
  },
  {
   "cell_type": "code",
   "execution_count": 296,
   "id": "81ac8f0e-88d5-449b-bcca-1a38d5359e07",
   "metadata": {},
   "outputs": [
    {
     "name": "stdout",
     "output_type": "stream",
     "text": [
      "('apple', 'banana', 'cherry')\n",
      "(1, 5, 7, 9, 3)\n",
      "(True, False, False)\n"
     ]
    }
   ],
   "source": [
    "tuple1 = (\"apple\", \"banana\", \"cherry\")\n",
    "tuple2 = (1, 5, 7, 9, 3)\n",
    "tuple3 = (True, False, False)\n",
    "\n",
    "print(tuple1)\n",
    "print(tuple2)\n",
    "print(tuple3)\n"
   ]
  },
  {
   "cell_type": "markdown",
   "id": "b50606ff-840e-4c90-a683-77988d39e649",
   "metadata": {},
   "source": [
    "Ex_94"
   ]
  },
  {
   "cell_type": "code",
   "execution_count": 299,
   "id": "23ba9228-54df-42df-ba90-06e203f6e0d2",
   "metadata": {},
   "outputs": [
    {
     "name": "stdout",
     "output_type": "stream",
     "text": [
      "('abc', 34, True, 40, 'male')\n"
     ]
    }
   ],
   "source": [
    "tuple1 = (\"abc\", 34, True, 40, \"male\")\n",
    "\n",
    "print(tuple1)"
   ]
  },
  {
   "cell_type": "markdown",
   "id": "8929f711-1c92-4102-b997-5d1bbbb24248",
   "metadata": {},
   "source": [
    "Ex_95"
   ]
  },
  {
   "cell_type": "code",
   "execution_count": 302,
   "id": "864b626a-f31e-4296-9d76-65be831e06df",
   "metadata": {},
   "outputs": [
    {
     "name": "stdout",
     "output_type": "stream",
     "text": [
      "<class 'tuple'>\n"
     ]
    }
   ],
   "source": [
    "mytuple = (\"apple\", \"banana\", \"cherry\")\n",
    "print(type(mytuple))"
   ]
  },
  {
   "cell_type": "markdown",
   "id": "63212ad8-834d-42d4-ab4a-6bbe4b262f11",
   "metadata": {},
   "source": [
    "Ex_96"
   ]
  },
  {
   "cell_type": "code",
   "execution_count": 305,
   "id": "cf2643f1-1be2-411c-ab79-43ba42430ffe",
   "metadata": {},
   "outputs": [
    {
     "name": "stdout",
     "output_type": "stream",
     "text": [
      "('apple', 'banana', 'cherry')\n"
     ]
    }
   ],
   "source": [
    "thistuple = tuple((\"apple\", \"banana\", \"cherry\")) # note the double round-brackets\n",
    "print(thistuple)"
   ]
  },
  {
   "cell_type": "markdown",
   "id": "a19f0212-85d4-458b-adba-1634558c4fda",
   "metadata": {},
   "source": [
    "Ex_97"
   ]
  },
  {
   "cell_type": "code",
   "execution_count": 308,
   "id": "dd8541ff-6681-4cff-9b80-79d6b030371a",
   "metadata": {},
   "outputs": [
    {
     "name": "stdout",
     "output_type": "stream",
     "text": [
      "banana\n"
     ]
    }
   ],
   "source": [
    "thistuple = (\"apple\", \"banana\", \"cherry\")\n",
    "print(thistuple[1])"
   ]
  },
  {
   "cell_type": "markdown",
   "id": "1768824b-f523-4e80-9c87-5f82866fe221",
   "metadata": {},
   "source": [
    "Ex_98"
   ]
  },
  {
   "cell_type": "code",
   "execution_count": 311,
   "id": "ea806a1b-5a46-4d64-9e7d-d055a539fcce",
   "metadata": {},
   "outputs": [
    {
     "name": "stdout",
     "output_type": "stream",
     "text": [
      "cherry\n"
     ]
    }
   ],
   "source": [
    "thistuple = (\"apple\", \"banana\", \"cherry\")\n",
    "print(thistuple[-1])"
   ]
  },
  {
   "cell_type": "markdown",
   "id": "2dfab42c-c08f-4d5d-87da-ea72cb44c11a",
   "metadata": {},
   "source": [
    "Ex_99"
   ]
  },
  {
   "cell_type": "code",
   "execution_count": 314,
   "id": "5b2358a1-6f18-4248-a1df-a7868cc7a50e",
   "metadata": {},
   "outputs": [
    {
     "name": "stdout",
     "output_type": "stream",
     "text": [
      "('cherry', 'orange', 'kiwi')\n"
     ]
    }
   ],
   "source": [
    "thistuple = (\"apple\", \"banana\", \"cherry\", \"orange\", \"kiwi\", \"melon\", \"mango\")\n",
    "print(thistuple[2:5])"
   ]
  },
  {
   "cell_type": "markdown",
   "id": "b9aec160-baf3-4dd4-a4eb-ae8c41217349",
   "metadata": {},
   "source": [
    "Ex_100"
   ]
  },
  {
   "cell_type": "code",
   "execution_count": 317,
   "id": "e5e0dd4e-4bf3-417a-8b97-28be58c097bf",
   "metadata": {},
   "outputs": [
    {
     "name": "stdout",
     "output_type": "stream",
     "text": [
      "('apple', 'banana', 'cherry', 'orange')\n"
     ]
    }
   ],
   "source": [
    "thistuple = (\"apple\", \"banana\", \"cherry\", \"orange\", \"kiwi\", \"melon\", \"mango\")\n",
    "print(thistuple[:4])"
   ]
  },
  {
   "cell_type": "markdown",
   "id": "820c510a-7213-4597-a73a-13d63108088c",
   "metadata": {},
   "source": [
    "Ex_101"
   ]
  },
  {
   "cell_type": "code",
   "execution_count": 320,
   "id": "65ccb416-c48e-4379-981c-59e6a5fcf208",
   "metadata": {},
   "outputs": [
    {
     "name": "stdout",
     "output_type": "stream",
     "text": [
      "('cherry', 'orange', 'kiwi', 'melon', 'mango')\n"
     ]
    }
   ],
   "source": [
    "thistuple = (\"apple\", \"banana\", \"cherry\", \"orange\", \"kiwi\", \"melon\", \"mango\")\n",
    "print(thistuple[2:])"
   ]
  },
  {
   "cell_type": "markdown",
   "id": "f3695c48-1dcc-42cd-8b54-141ca0a11382",
   "metadata": {},
   "source": [
    "Ex_102"
   ]
  },
  {
   "cell_type": "code",
   "execution_count": 323,
   "id": "89ea07c8-7595-4706-8d84-163789fff21f",
   "metadata": {},
   "outputs": [
    {
     "name": "stdout",
     "output_type": "stream",
     "text": [
      "('orange', 'kiwi', 'melon')\n"
     ]
    }
   ],
   "source": [
    "thistuple = (\"apple\", \"banana\", \"cherry\", \"orange\", \"kiwi\", \"melon\", \"mango\")\n",
    "print(thistuple[-4:-1])"
   ]
  },
  {
   "cell_type": "markdown",
   "id": "b68b6af7-9cfa-4f0e-b264-018b3acc3b63",
   "metadata": {},
   "source": [
    "Ex_103"
   ]
  },
  {
   "cell_type": "code",
   "execution_count": 326,
   "id": "8c23ed19-10bf-475d-8451-be08a4357def",
   "metadata": {},
   "outputs": [
    {
     "name": "stdout",
     "output_type": "stream",
     "text": [
      "Yes, 'apple' is in the fruits tuple\n"
     ]
    }
   ],
   "source": [
    "thistuple = (\"apple\", \"banana\", \"cherry\")\n",
    "if \"apple\" in thistuple:\n",
    "  print(\"Yes, 'apple' is in the fruits tuple\")"
   ]
  },
  {
   "cell_type": "markdown",
   "id": "b2645812-a9f3-4991-937f-de896fc0556c",
   "metadata": {},
   "source": [
    "Ex_104"
   ]
  },
  {
   "cell_type": "code",
   "execution_count": 329,
   "id": "155f08b2-2467-42aa-b654-04347216601a",
   "metadata": {},
   "outputs": [
    {
     "name": "stdout",
     "output_type": "stream",
     "text": [
      "('apple', 'kiwi', 'cherry')\n"
     ]
    }
   ],
   "source": [
    "x = (\"apple\", \"banana\", \"cherry\")\n",
    "y = list(x)\n",
    "y[1] = \"kiwi\"\n",
    "x = tuple(y)\n",
    "\n",
    "print(x)"
   ]
  },
  {
   "cell_type": "markdown",
   "id": "e810ae3c-2ce9-4e08-8669-6119b79cec00",
   "metadata": {},
   "source": [
    "Ex_105"
   ]
  },
  {
   "cell_type": "code",
   "execution_count": 332,
   "id": "b7f60d3f-38e6-4ac1-b4df-8b2978ca634d",
   "metadata": {},
   "outputs": [],
   "source": [
    "thistuple = (\"apple\", \"banana\", \"cherry\")\n",
    "y = list(thistuple)\n",
    "y.append(\"orange\")\n",
    "thistuple = tuple(y)"
   ]
  },
  {
   "cell_type": "markdown",
   "id": "30dc6a23-fa13-4a01-bd4e-c6fefff914d9",
   "metadata": {},
   "source": [
    "Ex_106"
   ]
  },
  {
   "cell_type": "code",
   "execution_count": 335,
   "id": "391ff525-a145-45b1-9692-6c64a26e3088",
   "metadata": {},
   "outputs": [
    {
     "name": "stdout",
     "output_type": "stream",
     "text": [
      "('apple', 'banana', 'cherry', 'orange')\n"
     ]
    }
   ],
   "source": [
    "thistuple = (\"apple\", \"banana\", \"cherry\")\n",
    "y = (\"orange\",)\n",
    "thistuple += y\n",
    "\n",
    "print(thistuple)"
   ]
  },
  {
   "cell_type": "markdown",
   "id": "5b9094c1-8783-4708-9d82-aa1fa39f0d1c",
   "metadata": {},
   "source": [
    "Ex_107"
   ]
  },
  {
   "cell_type": "code",
   "execution_count": 338,
   "id": "1b5e0393-84f1-44f1-8c49-810f584a47f2",
   "metadata": {},
   "outputs": [],
   "source": [
    "thistuple = (\"apple\", \"banana\", \"cherry\")\n",
    "y = list(thistuple)\n",
    "y.remove(\"apple\")\n",
    "thistuple = tuple(y)"
   ]
  },
  {
   "cell_type": "markdown",
   "id": "037a24fa-736c-4213-b533-7f971000dc0e",
   "metadata": {},
   "source": [
    "Ex_108"
   ]
  },
  {
   "cell_type": "code",
   "execution_count": 343,
   "id": "fe2b8110-a027-4739-9c3b-60c9f07659aa",
   "metadata": {},
   "outputs": [],
   "source": [
    "#thistuple = (\"apple\", \"banana\", \"cherry\")\n",
    "#del thistuple\n",
    "#print(thistuple) #this will raise an error because the tuple no longer exists"
   ]
  },
  {
   "cell_type": "markdown",
   "id": "b17120f1-4bb9-4edc-a31f-796555a0eef2",
   "metadata": {},
   "source": [
    "Ex_109"
   ]
  },
  {
   "cell_type": "code",
   "execution_count": 346,
   "id": "1105f59b-a957-4a1c-ae79-f24bfb2d5335",
   "metadata": {},
   "outputs": [],
   "source": [
    "fruits = (\"apple\", \"banana\", \"cherry\")"
   ]
  },
  {
   "cell_type": "markdown",
   "id": "a8a64856-e835-4b66-8a98-6530c4a42bda",
   "metadata": {},
   "source": [
    "Ex_110"
   ]
  },
  {
   "cell_type": "code",
   "execution_count": 349,
   "id": "5a782d90-8414-4b5c-872c-0579771a5480",
   "metadata": {},
   "outputs": [
    {
     "name": "stdout",
     "output_type": "stream",
     "text": [
      "apple\n",
      "banana\n",
      "cherry\n"
     ]
    }
   ],
   "source": [
    "fruits = (\"apple\", \"banana\", \"cherry\")\n",
    "\n",
    "(green, yellow, red) = fruits\n",
    "\n",
    "print(green)\n",
    "print(yellow)\n",
    "print(red)"
   ]
  },
  {
   "cell_type": "markdown",
   "id": "889b5be8-c717-434c-9011-22f7c41b60ba",
   "metadata": {},
   "source": [
    "Ex_111"
   ]
  },
  {
   "cell_type": "code",
   "execution_count": 352,
   "id": "834f5408-b05e-4f35-9cb0-b2c6f4066427",
   "metadata": {},
   "outputs": [
    {
     "name": "stdout",
     "output_type": "stream",
     "text": [
      "apple\n",
      "banana\n",
      "cherry\n"
     ]
    }
   ],
   "source": [
    "fruits = (\"apple\", \"banana\", \"cherry\")\n",
    "\n",
    "(green, yellow, red) = fruits\n",
    "\n",
    "print(green)\n",
    "print(yellow)\n",
    "print(red)"
   ]
  },
  {
   "cell_type": "markdown",
   "id": "e346df1d-86f9-4c4c-a429-755307ca8b00",
   "metadata": {},
   "source": [
    "Ex_112"
   ]
  },
  {
   "cell_type": "code",
   "execution_count": 355,
   "id": "bd4fab68-e9e7-430f-affe-42607e757f47",
   "metadata": {},
   "outputs": [
    {
     "name": "stdout",
     "output_type": "stream",
     "text": [
      "apple\n",
      "['mango', 'papaya', 'pineapple']\n",
      "cherry\n"
     ]
    }
   ],
   "source": [
    "fruits = (\"apple\", \"mango\", \"papaya\", \"pineapple\", \"cherry\")\n",
    "\n",
    "(green, *tropic, red) = fruits\n",
    "\n",
    "print(green)\n",
    "print(tropic)\n",
    "print(red)"
   ]
  },
  {
   "cell_type": "markdown",
   "id": "0c74564e-2173-4d20-83d8-ec3de014f683",
   "metadata": {},
   "source": [
    "Ex_113"
   ]
  },
  {
   "cell_type": "code",
   "execution_count": 358,
   "id": "34026cd7-a673-4eb7-9e9d-3177646fb8d8",
   "metadata": {},
   "outputs": [
    {
     "name": "stdout",
     "output_type": "stream",
     "text": [
      "apple\n",
      "banana\n",
      "cherry\n"
     ]
    }
   ],
   "source": [
    "thistuple = (\"apple\", \"banana\", \"cherry\")\n",
    "for x in thistuple:\n",
    "  print(x)"
   ]
  },
  {
   "cell_type": "markdown",
   "id": "55129904-669a-49a1-8c5f-8684129135c4",
   "metadata": {},
   "source": [
    "Ex_114"
   ]
  },
  {
   "cell_type": "code",
   "execution_count": 361,
   "id": "336fe718-6751-4e84-8ff8-cde0638909c5",
   "metadata": {},
   "outputs": [
    {
     "name": "stdout",
     "output_type": "stream",
     "text": [
      "apple\n",
      "banana\n",
      "cherry\n"
     ]
    }
   ],
   "source": [
    "thistuple = (\"apple\", \"banana\", \"cherry\")\n",
    "for i in range(len(thistuple)):\n",
    "  print(thistuple[i])"
   ]
  },
  {
   "cell_type": "markdown",
   "id": "355e209a-7f92-4172-9ea7-ec005a73a362",
   "metadata": {},
   "source": [
    "Ex_115"
   ]
  },
  {
   "cell_type": "code",
   "execution_count": 364,
   "id": "690ca5c6-3889-4ba8-a76e-c45ac6981928",
   "metadata": {},
   "outputs": [
    {
     "name": "stdout",
     "output_type": "stream",
     "text": [
      "apple\n",
      "banana\n",
      "cherry\n"
     ]
    }
   ],
   "source": [
    "thistuple = (\"apple\", \"banana\", \"cherry\")\n",
    "i = 0\n",
    "while i < len(thistuple):\n",
    "  print(thistuple[i])\n",
    "  i = i + 1"
   ]
  },
  {
   "cell_type": "markdown",
   "id": "146de801-0981-47ac-bf31-da42b27dc14c",
   "metadata": {},
   "source": [
    "Ex_116"
   ]
  },
  {
   "cell_type": "code",
   "execution_count": 367,
   "id": "8415cd2a-dbf6-4e25-9b05-375e0ef7fb13",
   "metadata": {},
   "outputs": [
    {
     "name": "stdout",
     "output_type": "stream",
     "text": [
      "('a', 'b', 'c', 1, 2, 3)\n"
     ]
    }
   ],
   "source": [
    "tuple1 = (\"a\", \"b\" , \"c\")\n",
    "tuple2 = (1, 2, 3)\n",
    "\n",
    "tuple3 = tuple1 + tuple2\n",
    "print(tuple3)"
   ]
  },
  {
   "cell_type": "markdown",
   "id": "bd94285f-0b61-4ed9-a3c3-51229d1ad22e",
   "metadata": {},
   "source": [
    "Ex_117"
   ]
  },
  {
   "cell_type": "code",
   "execution_count": 370,
   "id": "3dde79e8-0015-47a2-80be-207cff0338ab",
   "metadata": {},
   "outputs": [
    {
     "name": "stdout",
     "output_type": "stream",
     "text": [
      "('apple', 'banana', 'cherry', 'apple', 'banana', 'cherry')\n"
     ]
    }
   ],
   "source": [
    "fruits = (\"apple\", \"banana\", \"cherry\")\n",
    "mytuple = fruits * 2\n",
    "\n",
    "print(mytuple)"
   ]
  },
  {
   "cell_type": "markdown",
   "id": "78c1cd58-a1a7-460f-a20d-96bb122731dc",
   "metadata": {},
   "source": [
    "Ex_118"
   ]
  },
  {
   "cell_type": "code",
   "execution_count": 373,
   "id": "9780991d-6dc1-4787-9cff-20290b4ee346",
   "metadata": {},
   "outputs": [
    {
     "name": "stdout",
     "output_type": "stream",
     "text": [
      "{'apple', 'cherry', 'banana'}\n"
     ]
    }
   ],
   "source": [
    "thisset = {\"apple\", \"banana\", \"cherry\"}\n",
    "print(thisset)"
   ]
  },
  {
   "cell_type": "markdown",
   "id": "f55b020d-14e8-40ae-b5c4-cecd1c6767f6",
   "metadata": {},
   "source": [
    "Ex_119"
   ]
  },
  {
   "cell_type": "code",
   "execution_count": 376,
   "id": "71bf973e-1a5e-4575-a05d-011578e92b25",
   "metadata": {},
   "outputs": [
    {
     "name": "stdout",
     "output_type": "stream",
     "text": [
      "{'apple', 'cherry', 'banana'}\n"
     ]
    }
   ],
   "source": [
    "thisset = {\"apple\", \"banana\", \"cherry\", \"apple\"}\n",
    "\n",
    "print(thisset)"
   ]
  },
  {
   "cell_type": "markdown",
   "id": "96edc044-7834-461e-841a-70debbb3155f",
   "metadata": {},
   "source": [
    "Ex_120"
   ]
  },
  {
   "cell_type": "code",
   "execution_count": 379,
   "id": "a1635d13-7f7a-4d4f-9174-59a1499272a7",
   "metadata": {},
   "outputs": [
    {
     "name": "stdout",
     "output_type": "stream",
     "text": [
      "{True, 'apple', 2, 'banana', 'cherry'}\n"
     ]
    }
   ],
   "source": [
    "thisset = {\"apple\", \"banana\", \"cherry\", True, 1, 2}\n",
    "\n",
    "print(thisset)"
   ]
  },
  {
   "cell_type": "markdown",
   "id": "aac83c7d-0dc8-4eaa-930d-a4a6f9ad10d7",
   "metadata": {},
   "source": [
    "Ex_121"
   ]
  },
  {
   "cell_type": "code",
   "execution_count": 384,
   "id": "48f6f01f-691d-49d8-b9a1-981aee7893df",
   "metadata": {},
   "outputs": [
    {
     "name": "stdout",
     "output_type": "stream",
     "text": [
      "{True, 'apple', 2, 'banana', 'cherry'}\n"
     ]
    }
   ],
   "source": [
    "thisset = {\"apple\", \"banana\", \"cherry\", True, 1, 2}\n",
    "\n",
    "print(thisset)"
   ]
  },
  {
   "cell_type": "markdown",
   "id": "05e71b28-7fe8-4322-9c65-b7fab483afa9",
   "metadata": {},
   "source": [
    "Ex_122"
   ]
  },
  {
   "cell_type": "code",
   "execution_count": 387,
   "id": "6cad1179-3114-4e69-84f2-7b6d1f8db2db",
   "metadata": {},
   "outputs": [
    {
     "name": "stdout",
     "output_type": "stream",
     "text": [
      "3\n"
     ]
    }
   ],
   "source": [
    "thisset = {\"apple\", \"banana\", \"cherry\"}\n",
    "\n",
    "print(len(thisset))"
   ]
  },
  {
   "cell_type": "markdown",
   "id": "546468f4-937e-4821-b70a-0bf9e5c45510",
   "metadata": {},
   "source": [
    "Ex_123"
   ]
  },
  {
   "cell_type": "code",
   "execution_count": 390,
   "id": "75ab4d8a-19bf-429e-be2d-97e1fe6dacdb",
   "metadata": {},
   "outputs": [],
   "source": [
    "set1 = {\"apple\", \"banana\", \"cherry\"}\n",
    "set2 = {1, 5, 7, 9, 3}\n",
    "set3 = {True, False, False}"
   ]
  },
  {
   "cell_type": "markdown",
   "id": "8339b70e-7a38-4c72-abe5-dbc481e8ab40",
   "metadata": {},
   "source": [
    "Ex_124"
   ]
  },
  {
   "cell_type": "code",
   "execution_count": 393,
   "id": "f3c77003-dd3e-4495-b7ba-f96e27e47f85",
   "metadata": {},
   "outputs": [],
   "source": [
    "set1 = {\"abc\", 34, True, 40, \"male\"}"
   ]
  },
  {
   "cell_type": "markdown",
   "id": "8e159af2-b6c0-4b16-96ce-0e18c9847c9a",
   "metadata": {},
   "source": [
    "Ex_125"
   ]
  },
  {
   "cell_type": "code",
   "execution_count": 396,
   "id": "393dbdac-5d1f-43d8-babd-2b6ba8367e92",
   "metadata": {},
   "outputs": [
    {
     "name": "stdout",
     "output_type": "stream",
     "text": [
      "<class 'set'>\n"
     ]
    }
   ],
   "source": [
    "myset = {\"apple\", \"banana\", \"cherry\"}\n",
    "print(type(myset))"
   ]
  },
  {
   "cell_type": "markdown",
   "id": "443d3803-ae82-4978-ae62-f321fe77e94d",
   "metadata": {},
   "source": [
    "Ex_126"
   ]
  },
  {
   "cell_type": "code",
   "execution_count": 401,
   "id": "ef5e53ce-29f3-4fb9-816b-ffa6830c9bb4",
   "metadata": {},
   "outputs": [
    {
     "name": "stdout",
     "output_type": "stream",
     "text": [
      "{'apple', 'cherry', 'banana'}\n"
     ]
    }
   ],
   "source": [
    "thisset = set((\"apple\", \"banana\", \"cherry\")) # note the double round-brackets\n",
    "print(thisset)"
   ]
  },
  {
   "cell_type": "markdown",
   "id": "98e019b9-a600-42c1-87cd-41c41a1d6ddd",
   "metadata": {},
   "source": [
    "Ex_127"
   ]
  },
  {
   "cell_type": "code",
   "execution_count": 404,
   "id": "9c9a8689-5d82-49ee-aa6f-52c3667fc030",
   "metadata": {},
   "outputs": [
    {
     "name": "stdout",
     "output_type": "stream",
     "text": [
      "apple\n",
      "cherry\n",
      "banana\n"
     ]
    }
   ],
   "source": [
    "thisset = {\"apple\", \"banana\", \"cherry\"}\n",
    "\n",
    "for x in thisset:\n",
    "  print(x)"
   ]
  },
  {
   "cell_type": "markdown",
   "id": "78bcd147-7645-4a40-b66c-6a8f1c283439",
   "metadata": {},
   "source": [
    "Ex_128"
   ]
  },
  {
   "cell_type": "code",
   "execution_count": 407,
   "id": "37488793-6a88-4f2a-a961-b06ef6585e32",
   "metadata": {},
   "outputs": [
    {
     "name": "stdout",
     "output_type": "stream",
     "text": [
      "True\n"
     ]
    }
   ],
   "source": [
    "thisset = {\"apple\", \"banana\", \"cherry\"}\n",
    "\n",
    "print(\"banana\" in thisset)"
   ]
  },
  {
   "cell_type": "markdown",
   "id": "d1955da1-c6b0-4cb9-9b05-182e8182d020",
   "metadata": {},
   "source": [
    "Ex_129"
   ]
  },
  {
   "cell_type": "code",
   "execution_count": 410,
   "id": "604c8c99-194b-414a-8fce-accdf2879c63",
   "metadata": {},
   "outputs": [
    {
     "name": "stdout",
     "output_type": "stream",
     "text": [
      "False\n"
     ]
    }
   ],
   "source": [
    "thisset = {\"apple\", \"banana\", \"cherry\"}\n",
    "\n",
    "print(\"banana\" not in thisset)"
   ]
  },
  {
   "cell_type": "markdown",
   "id": "dec9980f-b0c3-4993-987d-b23acb341cdb",
   "metadata": {},
   "source": [
    "Ex_130"
   ]
  },
  {
   "cell_type": "code",
   "execution_count": 413,
   "id": "8d1cbd9c-2c66-41ab-ad40-39b6e0a39e71",
   "metadata": {},
   "outputs": [
    {
     "name": "stdout",
     "output_type": "stream",
     "text": [
      "{'apple', 'orange', 'cherry', 'banana'}\n"
     ]
    }
   ],
   "source": [
    "thisset = {\"apple\", \"banana\", \"cherry\"}\n",
    "\n",
    "thisset.add(\"orange\")\n",
    "\n",
    "print(thisset)"
   ]
  },
  {
   "cell_type": "markdown",
   "id": "c385e920-567a-4f7b-8c6d-cb3844fe84eb",
   "metadata": {},
   "source": [
    "Ex_131"
   ]
  },
  {
   "cell_type": "code",
   "execution_count": 416,
   "id": "8090ca3c-94d6-4d4e-a758-e68f8a080ec3",
   "metadata": {},
   "outputs": [
    {
     "name": "stdout",
     "output_type": "stream",
     "text": [
      "{'apple', 'papaya', 'banana', 'pineapple', 'cherry', 'mango'}\n"
     ]
    }
   ],
   "source": [
    "thisset = {\"apple\", \"banana\", \"cherry\"}\n",
    "tropical = {\"pineapple\", \"mango\", \"papaya\"}\n",
    "\n",
    "thisset.update(tropical)\n",
    "\n",
    "print(thisset)"
   ]
  },
  {
   "cell_type": "markdown",
   "id": "c0e1b7cd-816e-4ae6-a7c2-6e73694a7019",
   "metadata": {},
   "source": [
    "Ex_132"
   ]
  },
  {
   "cell_type": "code",
   "execution_count": 419,
   "id": "c0f0f5cd-62bc-43e1-bc99-e79b9f474135",
   "metadata": {},
   "outputs": [
    {
     "name": "stdout",
     "output_type": "stream",
     "text": [
      "{'apple', 'kiwi', 'banana', 'orange', 'cherry'}\n"
     ]
    }
   ],
   "source": [
    "thisset = {\"apple\", \"banana\", \"cherry\"}\n",
    "mylist = [\"kiwi\", \"orange\"]\n",
    "\n",
    "thisset.update(mylist)\n",
    "\n",
    "print(thisset)"
   ]
  },
  {
   "cell_type": "markdown",
   "id": "601e53d9-fa0b-46e8-b86e-19a91910498d",
   "metadata": {},
   "source": [
    "Ex_133"
   ]
  },
  {
   "cell_type": "code",
   "execution_count": 422,
   "id": "298ac797-8cd9-4c4d-9241-ecd0a5fd4905",
   "metadata": {},
   "outputs": [
    {
     "name": "stdout",
     "output_type": "stream",
     "text": [
      "{'apple', 'cherry'}\n"
     ]
    }
   ],
   "source": [
    "thisset = {\"apple\", \"banana\", \"cherry\"}\n",
    "\n",
    "thisset.remove(\"banana\")\n",
    "\n",
    "print(thisset)"
   ]
  },
  {
   "cell_type": "markdown",
   "id": "a76a7a17-ae66-4b23-8207-bd5427abc09a",
   "metadata": {},
   "source": [
    "Ex_134"
   ]
  },
  {
   "cell_type": "code",
   "execution_count": 425,
   "id": "0cf78f47-b227-4a62-bf7b-dd6dfc512073",
   "metadata": {},
   "outputs": [
    {
     "name": "stdout",
     "output_type": "stream",
     "text": [
      "{'apple', 'cherry'}\n"
     ]
    }
   ],
   "source": [
    "thisset = {\"apple\", \"banana\", \"cherry\"}\n",
    "\n",
    "thisset.discard(\"banana\")\n",
    "\n",
    "print(thisset)"
   ]
  },
  {
   "cell_type": "markdown",
   "id": "d4f96523-f1b4-4482-9b63-96088b120494",
   "metadata": {},
   "source": [
    "Ex_135"
   ]
  },
  {
   "cell_type": "code",
   "execution_count": 428,
   "id": "bfb6f915-ffcc-427b-b29d-cb28f448a5e4",
   "metadata": {},
   "outputs": [
    {
     "name": "stdout",
     "output_type": "stream",
     "text": [
      "apple\n",
      "{'cherry', 'banana'}\n"
     ]
    }
   ],
   "source": [
    "thisset = {\"apple\", \"banana\", \"cherry\"}\n",
    "\n",
    "x = thisset.pop()\n",
    "\n",
    "print(x)\n",
    "\n",
    "print(thisset)"
   ]
  },
  {
   "cell_type": "markdown",
   "id": "a167ad5a-613d-415f-bd58-ad351a2e0370",
   "metadata": {},
   "source": [
    "Ex_136"
   ]
  },
  {
   "cell_type": "code",
   "execution_count": 431,
   "id": "77b4e7d9-af98-4de8-98c9-365cb2c88250",
   "metadata": {},
   "outputs": [
    {
     "name": "stdout",
     "output_type": "stream",
     "text": [
      "set()\n"
     ]
    }
   ],
   "source": [
    "thisset = {\"apple\", \"banana\", \"cherry\"}\n",
    "\n",
    "thisset.clear()\n",
    "\n",
    "print(thisset)"
   ]
  },
  {
   "cell_type": "markdown",
   "id": "bc84b484-e0b7-4304-8d8c-7671aaab514a",
   "metadata": {},
   "source": [
    "Ex_137"
   ]
  },
  {
   "cell_type": "code",
   "execution_count": 434,
   "id": "5d7b7249-b8fa-48c2-8924-4e8829641929",
   "metadata": {},
   "outputs": [],
   "source": [
    "#thisset = {\"apple\", \"banana\", \"cherry\"}\n",
    "\n",
    "#del thisset\n",
    "\n",
    "#print(thisset)"
   ]
  },
  {
   "cell_type": "markdown",
   "id": "5e0333dc-b957-47b0-955d-ddad6633e6f2",
   "metadata": {},
   "source": [
    "Ex_138"
   ]
  },
  {
   "cell_type": "code",
   "execution_count": 437,
   "id": "466fc4a7-4e0f-4e95-935c-b8ed07f85bc1",
   "metadata": {},
   "outputs": [
    {
     "name": "stdout",
     "output_type": "stream",
     "text": [
      "apple\n",
      "cherry\n",
      "banana\n"
     ]
    }
   ],
   "source": [
    "thisset = {\"apple\", \"banana\", \"cherry\"}\n",
    "\n",
    "for x in thisset:\n",
    "  print(x)"
   ]
  },
  {
   "cell_type": "markdown",
   "id": "6095c1e8-53eb-453f-b1cd-cc8c27411a4c",
   "metadata": {},
   "source": [
    "Ex_139"
   ]
  },
  {
   "cell_type": "code",
   "execution_count": 440,
   "id": "063d18e5-3c8c-4838-ad5b-500889dbc5f8",
   "metadata": {},
   "outputs": [
    {
     "name": "stdout",
     "output_type": "stream",
     "text": [
      "{1, 2, 3, 'b', 'c', 'a'}\n"
     ]
    }
   ],
   "source": [
    "set1 = {\"a\", \"b\", \"c\"}\n",
    "set2 = {1, 2, 3}\n",
    "\n",
    "set3 = set1.union(set2)\n",
    "print(set3)"
   ]
  },
  {
   "cell_type": "markdown",
   "id": "faaeb532-80d3-4eec-8960-a9c932468c0d",
   "metadata": {},
   "source": [
    "Ex_140"
   ]
  },
  {
   "cell_type": "code",
   "execution_count": 443,
   "id": "d99f9f2a-5df2-4c8e-a741-56c6a6aa1aa7",
   "metadata": {},
   "outputs": [
    {
     "name": "stdout",
     "output_type": "stream",
     "text": [
      "{1, 2, 3, 'b', 'c', 'a'}\n"
     ]
    }
   ],
   "source": [
    "set1 = {\"a\", \"b\", \"c\"}\n",
    "set2 = {1, 2, 3}\n",
    "\n",
    "set3 = set1 | set2\n",
    "print(set3)"
   ]
  },
  {
   "cell_type": "markdown",
   "id": "739bd168-34c5-45d4-a5ce-8bc6028affb8",
   "metadata": {},
   "source": [
    "Ex_141"
   ]
  },
  {
   "cell_type": "code",
   "execution_count": 446,
   "id": "0c090f68-fff0-4a4b-9a92-d46d15fff952",
   "metadata": {},
   "outputs": [
    {
     "name": "stdout",
     "output_type": "stream",
     "text": [
      "{1, 2, 3, 'apple', 'a', 'bananas', 'Elena', 'c', 'John', 'b', 'cherry'}\n"
     ]
    }
   ],
   "source": [
    "set1 = {\"a\", \"b\", \"c\"}\n",
    "set2 = {1, 2, 3}\n",
    "set3 = {\"John\", \"Elena\"}\n",
    "set4 = {\"apple\", \"bananas\", \"cherry\"}\n",
    "\n",
    "myset = set1.union(set2, set3, set4)\n",
    "print(myset)"
   ]
  },
  {
   "cell_type": "markdown",
   "id": "f72208fd-4f76-425d-bafc-9d60fa4b0947",
   "metadata": {},
   "source": [
    "Ex_142"
   ]
  },
  {
   "cell_type": "code",
   "execution_count": 449,
   "id": "155216c2-e029-47f8-adae-2050d88cd248",
   "metadata": {},
   "outputs": [
    {
     "name": "stdout",
     "output_type": "stream",
     "text": [
      "{1, 2, 3, 'apple', 'a', 'bananas', 'Elena', 'c', 'John', 'b', 'cherry'}\n"
     ]
    }
   ],
   "source": [
    "set1 = {\"a\", \"b\", \"c\"}\n",
    "set2 = {1, 2, 3}\n",
    "set3 = {\"John\", \"Elena\"}\n",
    "set4 = {\"apple\", \"bananas\", \"cherry\"}\n",
    "\n",
    "myset = set1 | set2 | set3 |set4\n",
    "print(myset)"
   ]
  },
  {
   "cell_type": "markdown",
   "id": "83a128f7-a6d5-4694-982d-8d3a827898cb",
   "metadata": {},
   "source": [
    "Ex_143"
   ]
  },
  {
   "cell_type": "code",
   "execution_count": 452,
   "id": "c2956432-7ecd-4e43-85a7-657c1d44a252",
   "metadata": {},
   "outputs": [
    {
     "name": "stdout",
     "output_type": "stream",
     "text": [
      "{1, 2, 3, 'a', 'b', 'c'}\n"
     ]
    }
   ],
   "source": [
    "x = {\"a\", \"b\", \"c\"}\n",
    "y = (1, 2, 3)\n",
    "\n",
    "z = x.union(y)\n",
    "print(z)"
   ]
  },
  {
   "cell_type": "markdown",
   "id": "7798548d-6505-45c4-8eb7-452ae74d91c6",
   "metadata": {},
   "source": [
    "Ex_144"
   ]
  },
  {
   "cell_type": "code",
   "execution_count": 455,
   "id": "cfe269c6-d54f-4fa8-b9de-5d5533f4b941",
   "metadata": {},
   "outputs": [
    {
     "name": "stdout",
     "output_type": "stream",
     "text": [
      "{1, 2, 3, 'b', 'c', 'a'}\n"
     ]
    }
   ],
   "source": [
    "set1 = {\"a\", \"b\" , \"c\"}\n",
    "set2 = {1, 2, 3}\n",
    "\n",
    "set1.update(set2)\n",
    "print(set1)"
   ]
  },
  {
   "cell_type": "markdown",
   "id": "8562aeaa-f1b0-44da-afa1-6b6557325192",
   "metadata": {},
   "source": [
    "Ex_145"
   ]
  },
  {
   "cell_type": "code",
   "execution_count": 458,
   "id": "61e1d7e0-4011-464a-9c23-929f8f121f72",
   "metadata": {},
   "outputs": [
    {
     "name": "stdout",
     "output_type": "stream",
     "text": [
      "{'apple'}\n"
     ]
    }
   ],
   "source": [
    "set1 = {\"apple\", \"banana\", \"cherry\"}\n",
    "set2 = {\"google\", \"microsoft\", \"apple\"}\n",
    "\n",
    "set3 = set1.intersection(set2)\n",
    "print(set3)"
   ]
  },
  {
   "cell_type": "markdown",
   "id": "06fc9420-c27b-42a3-9102-66b328093619",
   "metadata": {},
   "source": [
    "Ex_146"
   ]
  },
  {
   "cell_type": "code",
   "execution_count": 461,
   "id": "493e0e54-d72b-43bd-807f-34f195575329",
   "metadata": {},
   "outputs": [
    {
     "name": "stdout",
     "output_type": "stream",
     "text": [
      "{'apple'}\n"
     ]
    }
   ],
   "source": [
    "set1 = {\"apple\", \"banana\", \"cherry\"}\n",
    "set2 = {\"google\", \"microsoft\", \"apple\"}\n",
    "\n",
    "set3 = set1 & set2\n",
    "print(set3)"
   ]
  },
  {
   "cell_type": "markdown",
   "id": "f483edd1-2b99-455a-8c0e-f98a7004ee54",
   "metadata": {},
   "source": [
    "Ex_147"
   ]
  },
  {
   "cell_type": "code",
   "execution_count": 464,
   "id": "9a5ca82c-33db-4495-b784-c7c6565f9dec",
   "metadata": {},
   "outputs": [
    {
     "name": "stdout",
     "output_type": "stream",
     "text": [
      "{'apple'}\n"
     ]
    }
   ],
   "source": [
    "set1 = {\"apple\", \"banana\", \"cherry\"}\n",
    "set2 = {\"google\", \"microsoft\", \"apple\"}\n",
    "\n",
    "set1.intersection_update(set2)\n",
    "\n",
    "print(set1)"
   ]
  },
  {
   "cell_type": "markdown",
   "id": "bc02378d-2579-45a9-b5d4-5c7b0313030d",
   "metadata": {},
   "source": [
    "Ex_148"
   ]
  },
  {
   "cell_type": "code",
   "execution_count": 467,
   "id": "753f870a-ac47-4d53-91d6-436661b4aa2a",
   "metadata": {},
   "outputs": [
    {
     "name": "stdout",
     "output_type": "stream",
     "text": [
      "{False, 1, 'apple'}\n"
     ]
    }
   ],
   "source": [
    "set1 = {\"apple\", 1,  \"banana\", 0, \"cherry\"}\n",
    "set2 = {False, \"google\", 1, \"apple\", 2, True}\n",
    "\n",
    "set3 = set1.intersection(set2)\n",
    "\n",
    "print(set3)"
   ]
  },
  {
   "cell_type": "markdown",
   "id": "a47feda3-836c-43ad-92e4-9f365ba041cd",
   "metadata": {},
   "source": [
    "Ex_149"
   ]
  },
  {
   "cell_type": "code",
   "execution_count": 470,
   "id": "b693ead3-d125-4cf4-9125-1d4257ac6855",
   "metadata": {},
   "outputs": [
    {
     "name": "stdout",
     "output_type": "stream",
     "text": [
      "{'cherry', 'banana'}\n"
     ]
    }
   ],
   "source": [
    "set1 = {\"apple\", \"banana\", \"cherry\"}\n",
    "set2 = {\"google\", \"microsoft\", \"apple\"}\n",
    "\n",
    "set3 = set1.difference(set2)\n",
    "\n",
    "print(set3)"
   ]
  },
  {
   "cell_type": "markdown",
   "id": "86d571d2-8ed0-48b2-9074-a11a6b7c1271",
   "metadata": {},
   "source": [
    "Ex_150"
   ]
  },
  {
   "cell_type": "code",
   "execution_count": 473,
   "id": "babe71b6-d35b-4168-b3ad-0337f2d53d89",
   "metadata": {},
   "outputs": [
    {
     "name": "stdout",
     "output_type": "stream",
     "text": [
      "{'cherry', 'banana'}\n"
     ]
    }
   ],
   "source": [
    "set1 = {\"apple\", \"banana\", \"cherry\"}\n",
    "set2 = {\"google\", \"microsoft\", \"apple\"}\n",
    "\n",
    "set3 = set1 - set2\n",
    "print(set3)"
   ]
  },
  {
   "cell_type": "markdown",
   "id": "838911c1-3d21-4c9e-a08b-6f3d13cafa5c",
   "metadata": {},
   "source": [
    "Ex_151"
   ]
  },
  {
   "cell_type": "code",
   "execution_count": 476,
   "id": "06b9d003-9101-43be-9c70-c39616344b0f",
   "metadata": {},
   "outputs": [
    {
     "name": "stdout",
     "output_type": "stream",
     "text": [
      "{'cherry', 'banana'}\n"
     ]
    }
   ],
   "source": [
    "set1 = {\"apple\", \"banana\", \"cherry\"}\n",
    "set2 = {\"google\", \"microsoft\", \"apple\"}\n",
    "\n",
    "set1.difference_update(set2)\n",
    "\n",
    "print(set1)"
   ]
  },
  {
   "cell_type": "markdown",
   "id": "c1b492b3-aadd-4d80-80c1-87da45b33034",
   "metadata": {},
   "source": [
    "Ex_152"
   ]
  },
  {
   "cell_type": "code",
   "execution_count": 479,
   "id": "5d5424ff-aece-425b-af2b-2ff4a02f2bca",
   "metadata": {},
   "outputs": [
    {
     "name": "stdout",
     "output_type": "stream",
     "text": [
      "{'microsoft', 'google', 'banana', 'cherry'}\n"
     ]
    }
   ],
   "source": [
    "set1 = {\"apple\", \"banana\", \"cherry\"}\n",
    "set2 = {\"google\", \"microsoft\", \"apple\"}\n",
    "\n",
    "set3 = set1.symmetric_difference(set2)\n",
    "\n",
    "print(set3)"
   ]
  },
  {
   "cell_type": "markdown",
   "id": "c7d47ca1-3110-4a51-8c48-488cb6753a44",
   "metadata": {},
   "source": [
    "Ex_153"
   ]
  },
  {
   "cell_type": "code",
   "execution_count": 482,
   "id": "7d828dab-b639-47b7-a084-028d068120c7",
   "metadata": {},
   "outputs": [
    {
     "name": "stdout",
     "output_type": "stream",
     "text": [
      "{'microsoft', 'google', 'banana', 'cherry'}\n"
     ]
    }
   ],
   "source": [
    "set1 = {\"apple\", \"banana\", \"cherry\"}\n",
    "set2 = {\"google\", \"microsoft\", \"apple\"}\n",
    "\n",
    "set3 = set1 ^ set2\n",
    "print(set3)"
   ]
  },
  {
   "cell_type": "markdown",
   "id": "ebf910fb-4cf5-4ed0-8a56-7bc86ac2ff10",
   "metadata": {},
   "source": [
    "Ex_154"
   ]
  },
  {
   "cell_type": "code",
   "execution_count": 485,
   "id": "535598f9-ffcc-43ec-8c07-581056463527",
   "metadata": {},
   "outputs": [
    {
     "name": "stdout",
     "output_type": "stream",
     "text": [
      "{'microsoft', 'google', 'banana', 'cherry'}\n"
     ]
    }
   ],
   "source": [
    "set1 = {\"apple\", \"banana\", \"cherry\"}\n",
    "set2 = {\"google\", \"microsoft\", \"apple\"}\n",
    "\n",
    "set1.symmetric_difference_update(set2)\n",
    "\n",
    "print(set1)"
   ]
  },
  {
   "cell_type": "markdown",
   "id": "be470666-cc76-401f-9222-02db41bc1d5e",
   "metadata": {},
   "source": [
    "Ex_155"
   ]
  },
  {
   "cell_type": "code",
   "execution_count": 488,
   "id": "d3ad31ea-21e1-4e8e-bae8-c74f2b7ad4ee",
   "metadata": {},
   "outputs": [
    {
     "name": "stdout",
     "output_type": "stream",
     "text": [
      "{'brand': 'Ford', 'model': 'Mustang', 'year': 1964}\n"
     ]
    }
   ],
   "source": [
    "thisdict = {\n",
    "  \"brand\": \"Ford\",\n",
    "  \"model\": \"Mustang\",\n",
    "  \"year\": 1964\n",
    "}\n",
    "print(thisdict)"
   ]
  },
  {
   "cell_type": "markdown",
   "id": "eac264bb-6021-4820-ba28-26d17d77c221",
   "metadata": {},
   "source": [
    "Ex_156"
   ]
  },
  {
   "cell_type": "code",
   "execution_count": 491,
   "id": "4119e5e6-cac2-4b41-90a2-ed9423c86057",
   "metadata": {},
   "outputs": [
    {
     "name": "stdout",
     "output_type": "stream",
     "text": [
      "Ford\n"
     ]
    }
   ],
   "source": [
    "thisdict = {\n",
    "  \"brand\": \"Ford\",\n",
    "  \"model\": \"Mustang\",\n",
    "  \"year\": 1964\n",
    "}\n",
    "print(thisdict[\"brand\"])"
   ]
  },
  {
   "cell_type": "markdown",
   "id": "696b35dc-bc83-4b1c-81a2-91d83c89652d",
   "metadata": {},
   "source": [
    "Ex_157"
   ]
  },
  {
   "cell_type": "code",
   "execution_count": 494,
   "id": "3adce318-6ac1-446e-8213-c689d2f90a6b",
   "metadata": {},
   "outputs": [
    {
     "name": "stdout",
     "output_type": "stream",
     "text": [
      "{'brand': 'Ford', 'model': 'Mustang', 'year': 2020}\n"
     ]
    }
   ],
   "source": [
    "thisdict = {\n",
    "  \"brand\": \"Ford\",\n",
    "  \"model\": \"Mustang\",\n",
    "  \"year\": 1964,\n",
    "  \"year\": 2020\n",
    "}\n",
    "print(thisdict)"
   ]
  },
  {
   "cell_type": "markdown",
   "id": "b0268ad5-f7d1-4198-bfd0-547284eedd16",
   "metadata": {},
   "source": [
    "Ex_158"
   ]
  },
  {
   "cell_type": "code",
   "execution_count": 497,
   "id": "9cf7cb75-975a-44cf-8a3c-ddbaf82b6499",
   "metadata": {},
   "outputs": [
    {
     "name": "stdout",
     "output_type": "stream",
     "text": [
      "3\n"
     ]
    }
   ],
   "source": [
    "print(len(thisdict))"
   ]
  },
  {
   "cell_type": "markdown",
   "id": "877438db-48d6-4aad-ba74-db96c3cef5cd",
   "metadata": {},
   "source": [
    "Ex_159"
   ]
  },
  {
   "cell_type": "code",
   "execution_count": 500,
   "id": "cbb949af-46c3-4b9e-b9bc-29eae05d7064",
   "metadata": {},
   "outputs": [],
   "source": [
    "thisdict = {\n",
    "  \"brand\": \"Ford\",\n",
    "  \"electric\": False,\n",
    "  \"year\": 1964,\n",
    "  \"colors\": [\"red\", \"white\", \"blue\"]\n",
    "}"
   ]
  },
  {
   "cell_type": "markdown",
   "id": "14537c83-8c4b-4496-9802-072bd1a148ec",
   "metadata": {},
   "source": [
    "Ex_160"
   ]
  },
  {
   "cell_type": "code",
   "execution_count": 503,
   "id": "11ed16ad-5990-49c3-adf2-802927d12457",
   "metadata": {},
   "outputs": [
    {
     "name": "stdout",
     "output_type": "stream",
     "text": [
      "<class 'dict'>\n"
     ]
    }
   ],
   "source": [
    "thisdict = {\n",
    "  \"brand\": \"Ford\",\n",
    "  \"model\": \"Mustang\",\n",
    "  \"year\": 1964\n",
    "}\n",
    "print(type(thisdict))"
   ]
  },
  {
   "cell_type": "markdown",
   "id": "c62289d8-4445-486c-abeb-44efecc52717",
   "metadata": {},
   "source": [
    "Ex_161"
   ]
  },
  {
   "cell_type": "code",
   "execution_count": 506,
   "id": "c7b739e5-7e5e-4ae3-a956-def7ad507cb4",
   "metadata": {},
   "outputs": [
    {
     "name": "stdout",
     "output_type": "stream",
     "text": [
      "{'name': 'John', 'age': 36, 'country': 'Norway'}\n"
     ]
    }
   ],
   "source": [
    "thisdict = dict(name = \"John\", age = 36, country = \"Norway\")\n",
    "print(thisdict)"
   ]
  },
  {
   "cell_type": "markdown",
   "id": "adf4afd3-d05e-4c80-af62-2beeffc819c8",
   "metadata": {},
   "source": [
    "Ex_162"
   ]
  },
  {
   "cell_type": "code",
   "execution_count": 509,
   "id": "8948b897-79bc-4a38-a39e-4869e2b405e7",
   "metadata": {},
   "outputs": [],
   "source": [
    "thisdict = {\n",
    "  \"brand\": \"Ford\",\n",
    "  \"model\": \"Mustang\",\n",
    "  \"year\": 1964\n",
    "}\n",
    "x = thisdict[\"model\"]"
   ]
  },
  {
   "cell_type": "markdown",
   "id": "4d91cba9-f2ac-4503-b31c-ca58c42fb7f5",
   "metadata": {},
   "source": [
    "Ex_163"
   ]
  },
  {
   "cell_type": "code",
   "execution_count": 512,
   "id": "88d4eb9d-4386-4bd4-b68d-c57bbe8195b3",
   "metadata": {},
   "outputs": [],
   "source": [
    "x = thisdict.get(\"model\")"
   ]
  },
  {
   "cell_type": "markdown",
   "id": "83cf2e44-acf6-46b0-a42c-0a88936fc323",
   "metadata": {},
   "source": [
    "Ex_164"
   ]
  },
  {
   "cell_type": "code",
   "execution_count": 515,
   "id": "08e7a27a-5c25-4144-8691-9b32bd9fb12b",
   "metadata": {},
   "outputs": [],
   "source": [
    "x = thisdict.keys()"
   ]
  },
  {
   "cell_type": "markdown",
   "id": "1b54047a-03a1-4c1f-8ccf-b9770c291382",
   "metadata": {},
   "source": [
    "Ex_165"
   ]
  },
  {
   "cell_type": "code",
   "execution_count": 518,
   "id": "48feff74-7f5f-4bfe-9213-08162126767d",
   "metadata": {},
   "outputs": [
    {
     "name": "stdout",
     "output_type": "stream",
     "text": [
      "dict_keys(['brand', 'model', 'year'])\n",
      "dict_keys(['brand', 'model', 'year', 'color'])\n"
     ]
    }
   ],
   "source": [
    "car = {\n",
    "\"brand\": \"Ford\",\n",
    "\"model\": \"Mustang\",\n",
    "\"year\": 1964\n",
    "}\n",
    "\n",
    "x = car.keys()\n",
    "\n",
    "print(x) #before the change\n",
    "\n",
    "car[\"color\"] = \"white\"\n",
    "\n",
    "print(x) #after the change"
   ]
  },
  {
   "cell_type": "markdown",
   "id": "dbe20405-6b52-4171-bc3d-2b34eb0521a4",
   "metadata": {},
   "source": [
    "Ex_166"
   ]
  },
  {
   "cell_type": "code",
   "execution_count": 521,
   "id": "b4f0f015-1a0a-4c5b-9eca-0c98fe8721b2",
   "metadata": {},
   "outputs": [],
   "source": [
    "x = thisdict.values()"
   ]
  },
  {
   "cell_type": "markdown",
   "id": "54e694c1-095c-428e-bbff-93ea86614b49",
   "metadata": {},
   "source": [
    "Ex_167"
   ]
  },
  {
   "cell_type": "code",
   "execution_count": 524,
   "id": "0ecbdbbd-f2ba-4e51-bf93-1c6e42f431b3",
   "metadata": {},
   "outputs": [
    {
     "name": "stdout",
     "output_type": "stream",
     "text": [
      "dict_values(['Ford', 'Mustang', 1964])\n",
      "dict_values(['Ford', 'Mustang', 2020])\n"
     ]
    }
   ],
   "source": [
    "car = {\n",
    "\"brand\": \"Ford\",\n",
    "\"model\": \"Mustang\",\n",
    "\"year\": 1964\n",
    "}\n",
    "\n",
    "x = car.values()\n",
    "\n",
    "print(x) #before the change\n",
    "\n",
    "car[\"year\"] = 2020\n",
    "\n",
    "print(x) #after the change"
   ]
  },
  {
   "cell_type": "markdown",
   "id": "5f488667-b338-4bfb-ae04-0c9573691e8e",
   "metadata": {},
   "source": [
    "Ex_168"
   ]
  },
  {
   "cell_type": "code",
   "execution_count": 527,
   "id": "1491aaaa-897e-4110-be7f-33b2b8cfad56",
   "metadata": {},
   "outputs": [
    {
     "name": "stdout",
     "output_type": "stream",
     "text": [
      "dict_values(['Ford', 'Mustang', 1964])\n",
      "dict_values(['Ford', 'Mustang', 1964, 'red'])\n"
     ]
    }
   ],
   "source": [
    "car = {\n",
    "\"brand\": \"Ford\",\n",
    "\"model\": \"Mustang\",\n",
    "\"year\": 1964\n",
    "}\n",
    "\n",
    "x = car.values()\n",
    "\n",
    "print(x) #before the change\n",
    "\n",
    "car[\"color\"] = \"red\"\n",
    "\n",
    "print(x) #after the change"
   ]
  },
  {
   "cell_type": "markdown",
   "id": "bd619589-667a-4b84-812b-314a55ed9b40",
   "metadata": {},
   "source": [
    "Ex_169"
   ]
  },
  {
   "cell_type": "code",
   "execution_count": 530,
   "id": "18a77123-f719-43ca-bcc3-1e2706c2b30b",
   "metadata": {},
   "outputs": [
    {
     "name": "stdout",
     "output_type": "stream",
     "text": [
      "dict_items([('brand', 'Ford'), ('model', 'Mustang'), ('year', 1964)])\n"
     ]
    }
   ],
   "source": [
    "thisdict = {\n",
    "  \"brand\": \"Ford\",\n",
    "  \"model\": \"Mustang\",\n",
    "  \"year\": 1964\n",
    "}\n",
    "\n",
    "x = thisdict.items()\n",
    "\n",
    "print(x)"
   ]
  },
  {
   "cell_type": "markdown",
   "id": "1284de34-e8ff-4d3b-8c64-1dd211e036ca",
   "metadata": {},
   "source": [
    "Ex_170"
   ]
  },
  {
   "cell_type": "code",
   "execution_count": 533,
   "id": "6c0e1df2-3f7e-4808-82f9-1902a2dd11d9",
   "metadata": {},
   "outputs": [
    {
     "name": "stdout",
     "output_type": "stream",
     "text": [
      "dict_items([('brand', 'Ford'), ('model', 'Mustang'), ('year', 1964)])\n",
      "dict_items([('brand', 'Ford'), ('model', 'Mustang'), ('year', 2020)])\n"
     ]
    }
   ],
   "source": [
    "car = {\n",
    "\"brand\": \"Ford\",\n",
    "\"model\": \"Mustang\",\n",
    "\"year\": 1964\n",
    "}\n",
    "\n",
    "x = car.items()\n",
    "\n",
    "print(x) #before the change\n",
    "\n",
    "car[\"year\"] = 2020\n",
    "\n",
    "print(x) #after the change"
   ]
  },
  {
   "cell_type": "markdown",
   "id": "9e55c39d-a16b-4947-8f29-07abc15d9fb4",
   "metadata": {},
   "source": [
    "Ex_171"
   ]
  },
  {
   "cell_type": "code",
   "execution_count": 536,
   "id": "f2d1c325-16ab-454e-9f6a-c804731429c8",
   "metadata": {},
   "outputs": [
    {
     "name": "stdout",
     "output_type": "stream",
     "text": [
      "dict_items([('brand', 'Ford'), ('model', 'Mustang'), ('year', 1964)])\n",
      "dict_items([('brand', 'Ford'), ('model', 'Mustang'), ('year', 1964), ('color', 'red')])\n"
     ]
    }
   ],
   "source": [
    "car = {\n",
    "\"brand\": \"Ford\",\n",
    "\"model\": \"Mustang\",\n",
    "\"year\": 1964\n",
    "}\n",
    "\n",
    "x = car.items()\n",
    "\n",
    "print(x) #before the change\n",
    "\n",
    "car[\"color\"] = \"red\"\n",
    "\n",
    "print(x) #after the change"
   ]
  },
  {
   "cell_type": "markdown",
   "id": "de4df6ac-4c74-4b12-9ed0-e59264a5505a",
   "metadata": {},
   "source": [
    "Ex_172"
   ]
  },
  {
   "cell_type": "code",
   "execution_count": 539,
   "id": "574bb4ee-c5da-41e8-93cc-4794bd79b20a",
   "metadata": {},
   "outputs": [
    {
     "name": "stdout",
     "output_type": "stream",
     "text": [
      "Yes, 'model' is one of the keys in the thisdict dictionary\n"
     ]
    }
   ],
   "source": [
    "thisdict = {\n",
    "  \"brand\": \"Ford\",\n",
    "  \"model\": \"Mustang\",\n",
    "  \"year\": 1964\n",
    "}\n",
    "if \"model\" in thisdict:\n",
    "  print(\"Yes, 'model' is one of the keys in the thisdict dictionary\")"
   ]
  },
  {
   "cell_type": "markdown",
   "id": "fbe9549b-a2a9-4025-a5e9-818f2813a85d",
   "metadata": {},
   "source": [
    "Ex_173"
   ]
  },
  {
   "cell_type": "code",
   "execution_count": 542,
   "id": "e6725dae-cc40-4e04-8947-d396ac83c784",
   "metadata": {},
   "outputs": [],
   "source": [
    "thisdict = {\n",
    "  \"brand\": \"Ford\",\n",
    "  \"model\": \"Mustang\",\n",
    "  \"year\": 1964\n",
    "}\n",
    "thisdict[\"year\"] = 2018"
   ]
  },
  {
   "cell_type": "markdown",
   "id": "e9a52309-0d34-4407-a689-a7be77fbdc17",
   "metadata": {},
   "source": [
    "Ex_174"
   ]
  },
  {
   "cell_type": "code",
   "execution_count": 545,
   "id": "34dfc300-c2f8-4294-af49-3183be209715",
   "metadata": {},
   "outputs": [],
   "source": [
    "thisdict = {\n",
    "  \"brand\": \"Ford\",\n",
    "  \"model\": \"Mustang\",\n",
    "  \"year\": 1964\n",
    "}\n",
    "thisdict.update({\"year\": 2020})"
   ]
  },
  {
   "cell_type": "markdown",
   "id": "ef54360e-6e14-4fbd-863e-22b8f919ba94",
   "metadata": {},
   "source": [
    "Ex_175"
   ]
  },
  {
   "cell_type": "code",
   "execution_count": 548,
   "id": "e8ac9971-99a1-429e-8abc-b3242de13f3c",
   "metadata": {},
   "outputs": [
    {
     "name": "stdout",
     "output_type": "stream",
     "text": [
      "{'brand': 'Ford', 'model': 'Mustang', 'year': 1964, 'color': 'red'}\n"
     ]
    }
   ],
   "source": [
    "thisdict = {\n",
    "  \"brand\": \"Ford\",\n",
    "  \"model\": \"Mustang\",\n",
    "  \"year\": 1964\n",
    "}\n",
    "thisdict[\"color\"] = \"red\"\n",
    "print(thisdict)"
   ]
  },
  {
   "cell_type": "markdown",
   "id": "f34b69e9-9f71-42a0-af4d-a562714521f3",
   "metadata": {},
   "source": [
    "Ex_176"
   ]
  },
  {
   "cell_type": "code",
   "execution_count": 551,
   "id": "a8e596a4-4b73-467f-9ec2-7962f8de6ae8",
   "metadata": {},
   "outputs": [],
   "source": [
    "thisdict = {\n",
    "  \"brand\": \"Ford\",\n",
    "  \"model\": \"Mustang\",\n",
    "  \"year\": 1964\n",
    "}\n",
    "thisdict.update({\"color\": \"red\"})"
   ]
  },
  {
   "cell_type": "markdown",
   "id": "86b26703-07b2-4f8a-851b-7c66db3b93c4",
   "metadata": {},
   "source": [
    "Ex_177"
   ]
  },
  {
   "cell_type": "code",
   "execution_count": 554,
   "id": "52c3e9f1-97db-46de-84d4-5c52ab5ae42d",
   "metadata": {},
   "outputs": [
    {
     "name": "stdout",
     "output_type": "stream",
     "text": [
      "{'brand': 'Ford', 'year': 1964}\n"
     ]
    }
   ],
   "source": [
    "thisdict = {\n",
    "  \"brand\": \"Ford\",\n",
    "  \"model\": \"Mustang\",\n",
    "  \"year\": 1964\n",
    "}\n",
    "thisdict.pop(\"model\")\n",
    "print(thisdict)"
   ]
  },
  {
   "cell_type": "markdown",
   "id": "086aa85d-15f1-418d-bcf5-38ff4af91bbe",
   "metadata": {},
   "source": [
    "Ex_178"
   ]
  },
  {
   "cell_type": "code",
   "execution_count": 557,
   "id": "11bafd66-e82b-4aad-a923-2ebac14d75fe",
   "metadata": {},
   "outputs": [
    {
     "name": "stdout",
     "output_type": "stream",
     "text": [
      "{'brand': 'Ford', 'model': 'Mustang'}\n"
     ]
    }
   ],
   "source": [
    "thisdict = {\n",
    "  \"brand\": \"Ford\",\n",
    "  \"model\": \"Mustang\",\n",
    "  \"year\": 1964\n",
    "}\n",
    "thisdict.popitem()\n",
    "print(thisdict)"
   ]
  },
  {
   "cell_type": "markdown",
   "id": "d3a13023-58ca-40f8-b3c6-c311a9f0adc6",
   "metadata": {},
   "source": [
    "Ex_179"
   ]
  },
  {
   "cell_type": "code",
   "execution_count": 560,
   "id": "c4c5aa4a-a93f-44ad-8077-24064b909049",
   "metadata": {},
   "outputs": [
    {
     "name": "stdout",
     "output_type": "stream",
     "text": [
      "{'brand': 'Ford', 'year': 1964}\n"
     ]
    }
   ],
   "source": [
    "thisdict = {\n",
    "  \"brand\": \"Ford\",\n",
    "  \"model\": \"Mustang\",\n",
    "  \"year\": 1964\n",
    "}\n",
    "del thisdict[\"model\"]\n",
    "print(thisdict)"
   ]
  },
  {
   "cell_type": "markdown",
   "id": "afb2599d-7f7c-4fca-92cb-e7fd49c1d599",
   "metadata": {},
   "source": [
    "Ex_180"
   ]
  },
  {
   "cell_type": "code",
   "execution_count": 563,
   "id": "2f0603f5-6a88-4e7c-801b-f51fee3bf7f8",
   "metadata": {},
   "outputs": [],
   "source": [
    "#thisdict = {\n",
    "#  \"brand\": \"Ford\",\n",
    "#  \"model\": \"Mustang\",\n",
    "#  \"year\": 1964\n",
    "#}\n",
    "#del thisdict\n",
    "#print(thisdict) #this will cause an error because \"thisdict\" no longer exists."
   ]
  },
  {
   "cell_type": "markdown",
   "id": "3a363408-8e90-4394-84ca-939b44690930",
   "metadata": {},
   "source": [
    "Ex_181"
   ]
  },
  {
   "cell_type": "code",
   "execution_count": 566,
   "id": "f66ed579-3f2a-47c7-aef5-15decc28e665",
   "metadata": {},
   "outputs": [
    {
     "name": "stdout",
     "output_type": "stream",
     "text": [
      "{}\n"
     ]
    }
   ],
   "source": [
    "thisdict = {\n",
    "  \"brand\": \"Ford\",\n",
    "  \"model\": \"Mustang\",\n",
    "  \"year\": 1964\n",
    "}\n",
    "thisdict.clear()\n",
    "print(thisdict)"
   ]
  },
  {
   "cell_type": "markdown",
   "id": "85228946-aff1-458e-8102-840fc3b623eb",
   "metadata": {},
   "source": [
    "Ex_182"
   ]
  },
  {
   "cell_type": "code",
   "execution_count": 569,
   "id": "f5d15955-6eae-4546-a228-a98dda0856ba",
   "metadata": {},
   "outputs": [],
   "source": [
    "for x in thisdict:\n",
    "  print(x)"
   ]
  },
  {
   "cell_type": "markdown",
   "id": "c876bb81-d701-41a2-8dcd-6a256dcdb7e9",
   "metadata": {},
   "source": [
    "Ex_183"
   ]
  },
  {
   "cell_type": "code",
   "execution_count": 572,
   "id": "0af5095f-b2c7-439c-bbee-e3aa1e23a5aa",
   "metadata": {},
   "outputs": [],
   "source": [
    "for x in thisdict:\n",
    "  print(thisdict[x])"
   ]
  },
  {
   "cell_type": "markdown",
   "id": "602c0d67-205e-40d9-bf38-03e61a58b5f5",
   "metadata": {},
   "source": [
    "Ex_184"
   ]
  },
  {
   "cell_type": "code",
   "execution_count": 575,
   "id": "385b9903-65a3-4887-b0e1-2f6386fb0145",
   "metadata": {},
   "outputs": [],
   "source": [
    "for x in thisdict.values():\n",
    "  print(x)"
   ]
  },
  {
   "cell_type": "markdown",
   "id": "7beecb50-91c4-4a6e-b3ff-f5edc7b6cf4d",
   "metadata": {},
   "source": [
    "Ex_185"
   ]
  },
  {
   "cell_type": "code",
   "execution_count": 578,
   "id": "c46e91a1-d718-470e-b8c5-29e8c1469456",
   "metadata": {},
   "outputs": [],
   "source": [
    "for x in thisdict.keys():\n",
    "  print(x)"
   ]
  },
  {
   "cell_type": "markdown",
   "id": "ab8c4e0c-e04b-4a6d-b94a-66d07656357b",
   "metadata": {},
   "source": [
    "Ex_186"
   ]
  },
  {
   "cell_type": "code",
   "execution_count": 581,
   "id": "5fb3a02e-b841-41c8-9395-d98a3c15af83",
   "metadata": {},
   "outputs": [],
   "source": [
    "for x, y in thisdict.items():\n",
    "  print(x, y)"
   ]
  },
  {
   "cell_type": "markdown",
   "id": "0fee0e24-fe4b-4440-93fc-84c4023b2c06",
   "metadata": {},
   "source": [
    "Ex_187"
   ]
  },
  {
   "cell_type": "code",
   "execution_count": 584,
   "id": "ff4d2d2e-6da7-49f9-a43d-39aca2643c2f",
   "metadata": {},
   "outputs": [
    {
     "name": "stdout",
     "output_type": "stream",
     "text": [
      "{'brand': 'Ford', 'model': 'Mustang', 'year': 1964}\n"
     ]
    }
   ],
   "source": [
    "thisdict = {\n",
    "  \"brand\": \"Ford\",\n",
    "  \"model\": \"Mustang\",\n",
    "  \"year\": 1964\n",
    "}\n",
    "mydict = thisdict.copy()\n",
    "print(mydict)"
   ]
  },
  {
   "cell_type": "markdown",
   "id": "c0cc7573-70f0-43a8-bc88-50bcb0ab8f79",
   "metadata": {},
   "source": [
    "Ex_188"
   ]
  },
  {
   "cell_type": "code",
   "execution_count": 587,
   "id": "7db7b48d-0637-4e46-b3e2-2cf89ca1e103",
   "metadata": {},
   "outputs": [
    {
     "name": "stdout",
     "output_type": "stream",
     "text": [
      "{'brand': 'Ford', 'model': 'Mustang', 'year': 1964}\n"
     ]
    }
   ],
   "source": [
    "thisdict = {\n",
    "  \"brand\": \"Ford\",\n",
    "  \"model\": \"Mustang\",\n",
    "  \"year\": 1964\n",
    "}\n",
    "mydict = dict(thisdict)\n",
    "print(mydict)"
   ]
  },
  {
   "cell_type": "markdown",
   "id": "c9478f04-cc36-40dd-95e3-b7e4df8b684d",
   "metadata": {},
   "source": [
    "Ex_189"
   ]
  },
  {
   "cell_type": "code",
   "execution_count": 590,
   "id": "b2ce9723-ffec-4aa7-9cdc-d45664e50984",
   "metadata": {},
   "outputs": [],
   "source": [
    "myfamily = {\n",
    "  \"child1\" : {\n",
    "    \"name\" : \"Emil\",\n",
    "    \"year\" : 2004\n",
    "  },\n",
    "  \"child2\" : {\n",
    "    \"name\" : \"Tobias\",\n",
    "    \"year\" : 2007\n",
    "  },\n",
    "  \"child3\" : {\n",
    "    \"name\" : \"Linus\",\n",
    "    \"year\" : 2011\n",
    "  }\n",
    "}"
   ]
  },
  {
   "cell_type": "markdown",
   "id": "c0e6da9c-f102-49a5-86c2-4793fb0913c1",
   "metadata": {},
   "source": [
    "Ex_190"
   ]
  },
  {
   "cell_type": "code",
   "execution_count": 593,
   "id": "c63c1f63-02aa-4ab7-a214-464b94571fb4",
   "metadata": {},
   "outputs": [],
   "source": [
    "child1 = {\n",
    "  \"name\" : \"Emil\",\n",
    "  \"year\" : 2004\n",
    "}\n",
    "child2 = {\n",
    "  \"name\" : \"Tobias\",\n",
    "  \"year\" : 2007\n",
    "}\n",
    "child3 = {\n",
    "  \"name\" : \"Linus\",\n",
    "  \"year\" : 2011\n",
    "}\n",
    "\n",
    "myfamily = {\n",
    "  \"child1\" : child1,\n",
    "  \"child2\" : child2,\n",
    "  \"child3\" : child3\n",
    "}"
   ]
  },
  {
   "cell_type": "markdown",
   "id": "fe7ca1da-5de6-4f3f-ae3d-3f83251e0ef1",
   "metadata": {},
   "source": [
    "Ex_191"
   ]
  },
  {
   "cell_type": "code",
   "execution_count": 596,
   "id": "de30469e-4f8b-431b-bd7a-5391ed609352",
   "metadata": {},
   "outputs": [
    {
     "name": "stdout",
     "output_type": "stream",
     "text": [
      "Tobias\n"
     ]
    }
   ],
   "source": [
    "print(myfamily[\"child2\"][\"name\"])"
   ]
  },
  {
   "cell_type": "markdown",
   "id": "2a176794-34c7-4ecd-a3d9-5c549d5e633c",
   "metadata": {},
   "source": [
    "Ex_192"
   ]
  },
  {
   "cell_type": "code",
   "execution_count": 599,
   "id": "fc339e6b-2443-40e7-a081-15113f32b75d",
   "metadata": {},
   "outputs": [
    {
     "name": "stdout",
     "output_type": "stream",
     "text": [
      "child1\n",
      "name: Emil\n",
      "year: 2004\n",
      "child2\n",
      "name: Tobias\n",
      "year: 2007\n",
      "child3\n",
      "name: Linus\n",
      "year: 2011\n"
     ]
    }
   ],
   "source": [
    "for x, obj in myfamily.items():\n",
    "  print(x)\n",
    "\n",
    "  for y in obj:\n",
    "    print(y + ':', obj[y])"
   ]
  },
  {
   "cell_type": "markdown",
   "id": "7822df4a-4464-43d9-ba0e-2e6074d3eeb1",
   "metadata": {},
   "source": [
    "Ex_193"
   ]
  },
  {
   "cell_type": "code",
   "execution_count": 602,
   "id": "154c9949-3eea-4228-859e-f46e2cfdc56d",
   "metadata": {},
   "outputs": [
    {
     "name": "stdout",
     "output_type": "stream",
     "text": [
      "b is greater than a\n"
     ]
    }
   ],
   "source": [
    "a = 33\n",
    "b = 200\n",
    "if b > a:\n",
    "  print(\"b is greater than a\")"
   ]
  },
  {
   "cell_type": "markdown",
   "id": "474297c8-deb9-45b3-8769-a62b994d2078",
   "metadata": {},
   "source": [
    "Ex_194"
   ]
  },
  {
   "cell_type": "code",
   "execution_count": 605,
   "id": "d14670b9-b851-4dbb-9811-a76fa50ecee5",
   "metadata": {},
   "outputs": [],
   "source": [
    "#a = 33\n",
    "#b = 200\n",
    "#if b > a:\n",
    "#print(\"b is greater than a\") # you will get an error"
   ]
  },
  {
   "cell_type": "markdown",
   "id": "5fabc67e-9e53-449c-93e8-3d8b8228ae1b",
   "metadata": {},
   "source": [
    "Ex_195"
   ]
  },
  {
   "cell_type": "code",
   "execution_count": 608,
   "id": "5a6929c1-b79c-44c8-a7da-ea0ee9796d24",
   "metadata": {},
   "outputs": [
    {
     "name": "stdout",
     "output_type": "stream",
     "text": [
      "a and b are equal\n"
     ]
    }
   ],
   "source": [
    "a = 33\n",
    "b = 33\n",
    "if b > a:\n",
    "  print(\"b is greater than a\")\n",
    "elif a == b:\n",
    "  print(\"a and b are equal\")"
   ]
  },
  {
   "cell_type": "markdown",
   "id": "df2de87b-3e68-442b-8181-c57a64a35929",
   "metadata": {},
   "source": [
    "Ex_196"
   ]
  },
  {
   "cell_type": "code",
   "execution_count": 611,
   "id": "6197a5b5-671f-4313-8529-5a9e79e0e4c3",
   "metadata": {},
   "outputs": [
    {
     "name": "stdout",
     "output_type": "stream",
     "text": [
      "a is greater than b\n"
     ]
    }
   ],
   "source": [
    "a = 200\n",
    "b = 33\n",
    "if b > a:\n",
    "  print(\"b is greater than a\")\n",
    "elif a == b:\n",
    "  print(\"a and b are equal\")\n",
    "else:\n",
    "  print(\"a is greater than b\")"
   ]
  },
  {
   "cell_type": "markdown",
   "id": "9010860e-5924-46d9-9c84-b825a28e7846",
   "metadata": {},
   "source": [
    "Ex_197"
   ]
  },
  {
   "cell_type": "code",
   "execution_count": 614,
   "id": "844245a2-4694-47a6-a57a-0fa9907f806a",
   "metadata": {},
   "outputs": [
    {
     "name": "stdout",
     "output_type": "stream",
     "text": [
      "b is not greater than a\n"
     ]
    }
   ],
   "source": [
    "a = 200\n",
    "b = 33\n",
    "if b > a:\n",
    "  print(\"b is greater than a\")\n",
    "else:\n",
    "  print(\"b is not greater than a\")"
   ]
  },
  {
   "cell_type": "markdown",
   "id": "d0eae2d9-f0b8-41a1-83c0-7e5506923023",
   "metadata": {},
   "source": [
    "Ex_198"
   ]
  },
  {
   "cell_type": "code",
   "execution_count": 617,
   "id": "0c175f92-42ad-4b30-bb74-26db0964523b",
   "metadata": {},
   "outputs": [
    {
     "name": "stdout",
     "output_type": "stream",
     "text": [
      "a is greater than b\n"
     ]
    }
   ],
   "source": [
    "a = 200\n",
    "b = 33\n",
    "\n",
    "if a > b: print(\"a is greater than b\")"
   ]
  },
  {
   "cell_type": "markdown",
   "id": "75731f1e-75bb-47d3-8b86-d6014ea7a244",
   "metadata": {},
   "source": [
    "Ex_199"
   ]
  },
  {
   "cell_type": "code",
   "execution_count": 620,
   "id": "35ec63ac-a26d-4c0f-9187-deb268a76e4e",
   "metadata": {},
   "outputs": [
    {
     "name": "stdout",
     "output_type": "stream",
     "text": [
      "B\n"
     ]
    }
   ],
   "source": [
    "a = 2\n",
    "b = 330\n",
    "print(\"A\") if a > b else print(\"B\")"
   ]
  },
  {
   "cell_type": "markdown",
   "id": "5f6d7b95-20d9-42f2-a4f2-f0b55c6a5001",
   "metadata": {},
   "source": [
    "Ex_200"
   ]
  },
  {
   "cell_type": "code",
   "execution_count": 623,
   "id": "5b01f8de-f042-4a08-8939-087a5b014bd5",
   "metadata": {},
   "outputs": [
    {
     "name": "stdout",
     "output_type": "stream",
     "text": [
      "=\n"
     ]
    }
   ],
   "source": [
    "a = 330\n",
    "b = 330\n",
    "print(\"A\") if a > b else print(\"=\") if a == b else print(\"B\")"
   ]
  },
  {
   "cell_type": "markdown",
   "id": "164b0d84-febe-40bd-a6dc-6c7775fbd3a8",
   "metadata": {},
   "source": [
    "Ex_201"
   ]
  },
  {
   "cell_type": "code",
   "execution_count": 626,
   "id": "aa22e6c4-ac16-4065-8a38-5f9284a32c2e",
   "metadata": {},
   "outputs": [
    {
     "name": "stdout",
     "output_type": "stream",
     "text": [
      "Both conditions are True\n"
     ]
    }
   ],
   "source": [
    "a = 200\n",
    "b = 33\n",
    "c = 500\n",
    "if a > b and c > a:\n",
    "  print(\"Both conditions are True\")"
   ]
  },
  {
   "cell_type": "markdown",
   "id": "d1d8e9c3-452a-4a21-ab51-f4bf5c5b913d",
   "metadata": {},
   "source": [
    "Ex_202"
   ]
  },
  {
   "cell_type": "code",
   "execution_count": 629,
   "id": "5eb6b9a5-bd6f-4ab5-8126-e92bfa74be1c",
   "metadata": {},
   "outputs": [
    {
     "name": "stdout",
     "output_type": "stream",
     "text": [
      "At least one of the conditions is True\n"
     ]
    }
   ],
   "source": [
    "a = 200\n",
    "b = 33\n",
    "c = 500\n",
    "if a > b or a > c:\n",
    "  print(\"At least one of the conditions is True\")"
   ]
  },
  {
   "cell_type": "markdown",
   "id": "052b665e-e2ba-4425-9d24-65b6859c168e",
   "metadata": {},
   "source": [
    "Ex_203"
   ]
  },
  {
   "cell_type": "code",
   "execution_count": 632,
   "id": "47791668-d917-462c-9bce-d333a179412e",
   "metadata": {},
   "outputs": [
    {
     "name": "stdout",
     "output_type": "stream",
     "text": [
      "a is NOT greater than b\n"
     ]
    }
   ],
   "source": [
    "a = 33\n",
    "b = 200\n",
    "if not a > b:\n",
    "  print(\"a is NOT greater than b\")"
   ]
  },
  {
   "cell_type": "markdown",
   "id": "e53d1d6f-ef49-41d2-b259-0a9e041207c2",
   "metadata": {},
   "source": [
    "Ex_204"
   ]
  },
  {
   "cell_type": "code",
   "execution_count": 635,
   "id": "88f14133-fb95-42ba-b87b-320a5f3131f8",
   "metadata": {},
   "outputs": [
    {
     "name": "stdout",
     "output_type": "stream",
     "text": [
      "Above ten,\n",
      "and also above 20!\n"
     ]
    }
   ],
   "source": [
    "x = 41\n",
    "\n",
    "if x > 10:\n",
    "  print(\"Above ten,\")\n",
    "  if x > 20:\n",
    "    print(\"and also above 20!\")\n",
    "  else:\n",
    "    print(\"but not above 20.\")"
   ]
  },
  {
   "cell_type": "markdown",
   "id": "f87e0d59-711a-45c9-afbc-bbbdd3849b53",
   "metadata": {},
   "source": [
    "Ex_205"
   ]
  },
  {
   "cell_type": "code",
   "execution_count": 638,
   "id": "252654f2-92d8-4ec2-a054-43af22368df1",
   "metadata": {},
   "outputs": [],
   "source": [
    "a = 33\n",
    "b = 200\n",
    "\n",
    "if b > a:\n",
    "  pass"
   ]
  },
  {
   "cell_type": "markdown",
   "id": "03b47cc7-5c39-42cb-9bd5-f503977d69b7",
   "metadata": {},
   "source": [
    "Ex_206"
   ]
  },
  {
   "cell_type": "code",
   "execution_count": 641,
   "id": "f6b14e6f-d7e0-494f-8440-522df34afc59",
   "metadata": {},
   "outputs": [
    {
     "name": "stdout",
     "output_type": "stream",
     "text": [
      "1\n",
      "2\n",
      "3\n",
      "4\n",
      "5\n"
     ]
    }
   ],
   "source": [
    "i = 1\n",
    "while i < 6:\n",
    "  print(i)\n",
    "  i += 1"
   ]
  },
  {
   "cell_type": "markdown",
   "id": "2a628a49-fa56-4a4d-93e7-62a057419853",
   "metadata": {},
   "source": [
    "Ex_207"
   ]
  },
  {
   "cell_type": "code",
   "execution_count": 644,
   "id": "479a915c-ecd6-4348-90fb-0e53e38712bd",
   "metadata": {},
   "outputs": [
    {
     "name": "stdout",
     "output_type": "stream",
     "text": [
      "1\n",
      "2\n",
      "3\n"
     ]
    }
   ],
   "source": [
    "i = 1\n",
    "while i < 6:\n",
    "  print(i)\n",
    "  if i == 3:\n",
    "    break\n",
    "  i += 1"
   ]
  },
  {
   "cell_type": "markdown",
   "id": "dfdb0dea-4831-45c1-a384-2906f8379142",
   "metadata": {},
   "source": [
    "Ex_208"
   ]
  },
  {
   "cell_type": "code",
   "execution_count": 647,
   "id": "f95dd338-1d8d-4db5-be01-1fbc3aef6b80",
   "metadata": {},
   "outputs": [
    {
     "name": "stdout",
     "output_type": "stream",
     "text": [
      "1\n",
      "2\n",
      "4\n",
      "5\n",
      "6\n"
     ]
    }
   ],
   "source": [
    "i = 0\n",
    "while i < 6:\n",
    "  i += 1\n",
    "  if i == 3:\n",
    "    continue\n",
    "  print(i)"
   ]
  },
  {
   "cell_type": "markdown",
   "id": "6322e1e2-2de7-4328-af16-9fb8c5e32252",
   "metadata": {},
   "source": [
    "Ex_209"
   ]
  },
  {
   "cell_type": "code",
   "execution_count": 650,
   "id": "6dad872b-f539-410d-9c8f-5cc46a8f6b92",
   "metadata": {},
   "outputs": [
    {
     "name": "stdout",
     "output_type": "stream",
     "text": [
      "1\n",
      "2\n",
      "3\n",
      "4\n",
      "5\n",
      "i is no longer less than 6\n"
     ]
    }
   ],
   "source": [
    "i = 1\n",
    "while i < 6:\n",
    "  print(i)\n",
    "  i += 1\n",
    "else:\n",
    "  print(\"i is no longer less than 6\")"
   ]
  },
  {
   "cell_type": "markdown",
   "id": "81220ad6-bac4-4871-a84b-d44289bc4124",
   "metadata": {},
   "source": [
    "Ex_210"
   ]
  },
  {
   "cell_type": "code",
   "execution_count": 653,
   "id": "cc15b21e-fb32-49eb-9149-b54ddc9fb50a",
   "metadata": {},
   "outputs": [
    {
     "name": "stdout",
     "output_type": "stream",
     "text": [
      "apple\n",
      "banana\n",
      "cherry\n"
     ]
    }
   ],
   "source": [
    "fruits = [\"apple\", \"banana\", \"cherry\"]\n",
    "for x in fruits:\n",
    "  print(x)"
   ]
  },
  {
   "cell_type": "markdown",
   "id": "5e10a167-eef2-4061-a69d-84a461a82c49",
   "metadata": {},
   "source": [
    "Ex_211"
   ]
  },
  {
   "cell_type": "code",
   "execution_count": 656,
   "id": "8789b195-f747-4458-a178-269039ed2b39",
   "metadata": {},
   "outputs": [
    {
     "name": "stdout",
     "output_type": "stream",
     "text": [
      "b\n",
      "a\n",
      "n\n",
      "a\n",
      "n\n",
      "a\n"
     ]
    }
   ],
   "source": [
    "for x in \"banana\":\n",
    "  print(x)"
   ]
  },
  {
   "cell_type": "markdown",
   "id": "b0ddf16a-5ffc-499d-80bc-858161e4b1d7",
   "metadata": {},
   "source": [
    "Ex_212"
   ]
  },
  {
   "cell_type": "code",
   "execution_count": 659,
   "id": "05ea95c2-4bde-414c-9f1e-711f94d55359",
   "metadata": {},
   "outputs": [
    {
     "name": "stdout",
     "output_type": "stream",
     "text": [
      "apple\n",
      "banana\n"
     ]
    }
   ],
   "source": [
    "fruits = [\"apple\", \"banana\", \"cherry\"]\n",
    "for x in fruits:\n",
    "  print(x)\n",
    "  if x == \"banana\":\n",
    "    break"
   ]
  },
  {
   "cell_type": "markdown",
   "id": "b907d74e-eb8d-4b63-bbcb-852cb9db5ddf",
   "metadata": {},
   "source": [
    "Ex_213"
   ]
  },
  {
   "cell_type": "code",
   "execution_count": 662,
   "id": "4cc5da83-7664-41fa-84b5-e0101e09ef15",
   "metadata": {},
   "outputs": [
    {
     "name": "stdout",
     "output_type": "stream",
     "text": [
      "apple\n"
     ]
    }
   ],
   "source": [
    "fruits = [\"apple\", \"banana\", \"cherry\"]\n",
    "for x in fruits:\n",
    "  if x == \"banana\":\n",
    "    break\n",
    "  print(x)"
   ]
  },
  {
   "cell_type": "markdown",
   "id": "af987893-2ac8-4bea-ad35-b7c6197c04d7",
   "metadata": {},
   "source": [
    "Ex_214"
   ]
  },
  {
   "cell_type": "code",
   "execution_count": 665,
   "id": "a1b420fe-7cfe-441d-a273-795d00db0c05",
   "metadata": {},
   "outputs": [
    {
     "name": "stdout",
     "output_type": "stream",
     "text": [
      "apple\n",
      "cherry\n"
     ]
    }
   ],
   "source": [
    "fruits = [\"apple\", \"banana\", \"cherry\"]\n",
    "for x in fruits:\n",
    "  if x == \"banana\":\n",
    "    continue\n",
    "  print(x)"
   ]
  },
  {
   "cell_type": "markdown",
   "id": "d1b9c6e6-451e-4103-aa53-a29dc2ba22f3",
   "metadata": {},
   "source": [
    "Ex_215"
   ]
  },
  {
   "cell_type": "code",
   "execution_count": 668,
   "id": "4d76c137-664e-44cc-a741-99c29e93854e",
   "metadata": {},
   "outputs": [
    {
     "name": "stdout",
     "output_type": "stream",
     "text": [
      "0\n",
      "1\n",
      "2\n",
      "3\n",
      "4\n",
      "5\n"
     ]
    }
   ],
   "source": [
    "for x in range(6):\n",
    "  print(x)"
   ]
  },
  {
   "cell_type": "markdown",
   "id": "50a3ec50-5623-42b4-abfc-76f0a8435c11",
   "metadata": {},
   "source": [
    "Ex_216"
   ]
  },
  {
   "cell_type": "code",
   "execution_count": 671,
   "id": "16109b8d-676f-4377-ae77-68b4fd3bc65e",
   "metadata": {},
   "outputs": [
    {
     "name": "stdout",
     "output_type": "stream",
     "text": [
      "2\n",
      "3\n",
      "4\n",
      "5\n"
     ]
    }
   ],
   "source": [
    "for x in range(2, 6):\n",
    "  print(x)"
   ]
  },
  {
   "cell_type": "markdown",
   "id": "d99c186f-3c88-4dfd-a7a8-8792ea7cab1e",
   "metadata": {},
   "source": [
    "Ex_217"
   ]
  },
  {
   "cell_type": "code",
   "execution_count": 674,
   "id": "8a8b5f94-70f5-43a2-b8b1-9c00595cf231",
   "metadata": {},
   "outputs": [
    {
     "name": "stdout",
     "output_type": "stream",
     "text": [
      "2\n",
      "5\n",
      "8\n",
      "11\n",
      "14\n",
      "17\n",
      "20\n",
      "23\n",
      "26\n",
      "29\n"
     ]
    }
   ],
   "source": [
    "for x in range(2, 30, 3):\n",
    "  print(x)"
   ]
  },
  {
   "cell_type": "markdown",
   "id": "672ebdf3-77ae-46a5-a557-062665304ba6",
   "metadata": {},
   "source": [
    "Ex_218"
   ]
  },
  {
   "cell_type": "code",
   "execution_count": 677,
   "id": "1d50c362-a839-4ca6-9a5a-5a38effff5a0",
   "metadata": {},
   "outputs": [
    {
     "name": "stdout",
     "output_type": "stream",
     "text": [
      "0\n",
      "1\n",
      "2\n",
      "3\n",
      "4\n",
      "5\n",
      "Finally finished!\n"
     ]
    }
   ],
   "source": [
    "for x in range(6):\n",
    "  print(x)\n",
    "else:\n",
    "  print(\"Finally finished!\")"
   ]
  },
  {
   "cell_type": "markdown",
   "id": "47260bd6-b92b-44d0-bf72-bce8c3a94f8d",
   "metadata": {},
   "source": [
    "Ex_219"
   ]
  },
  {
   "cell_type": "code",
   "execution_count": 680,
   "id": "da4896ec-c9b8-461a-8aa9-6afd83b58492",
   "metadata": {},
   "outputs": [
    {
     "name": "stdout",
     "output_type": "stream",
     "text": [
      "0\n",
      "1\n",
      "2\n"
     ]
    }
   ],
   "source": [
    "for x in range(6):\n",
    "  if x == 3: break\n",
    "  print(x)\n",
    "else:\n",
    "  print(\"Finally finished!\")"
   ]
  },
  {
   "cell_type": "markdown",
   "id": "758d5265-d13a-41c6-bdb6-9471946dede1",
   "metadata": {},
   "source": [
    "Ex_220"
   ]
  },
  {
   "cell_type": "code",
   "execution_count": 683,
   "id": "cb9ecfc7-b5ee-440c-90b4-3c53a65d39ad",
   "metadata": {},
   "outputs": [
    {
     "name": "stdout",
     "output_type": "stream",
     "text": [
      "red apple\n",
      "red banana\n",
      "red cherry\n",
      "big apple\n",
      "big banana\n",
      "big cherry\n",
      "tasty apple\n",
      "tasty banana\n",
      "tasty cherry\n"
     ]
    }
   ],
   "source": [
    "adj = [\"red\", \"big\", \"tasty\"]\n",
    "fruits = [\"apple\", \"banana\", \"cherry\"]\n",
    "\n",
    "for x in adj:\n",
    "  for y in fruits:\n",
    "    print(x, y)"
   ]
  },
  {
   "cell_type": "markdown",
   "id": "921be92c-f702-404f-9cfe-ade2c3eb6056",
   "metadata": {},
   "source": [
    "Ex_221"
   ]
  },
  {
   "cell_type": "code",
   "execution_count": 686,
   "id": "b3e1735d-5611-446d-9fa8-f640da0d5c77",
   "metadata": {},
   "outputs": [],
   "source": [
    "for x in [0, 1, 2]:\n",
    "  pass"
   ]
  }
 ],
 "metadata": {
  "kernelspec": {
   "display_name": "Python [conda env:base] *",
   "language": "python",
   "name": "conda-base-py"
  },
  "language_info": {
   "codemirror_mode": {
    "name": "ipython",
    "version": 3
   },
   "file_extension": ".py",
   "mimetype": "text/x-python",
   "name": "python",
   "nbconvert_exporter": "python",
   "pygments_lexer": "ipython3",
   "version": "3.12.7"
  }
 },
 "nbformat": 4,
 "nbformat_minor": 5
}
