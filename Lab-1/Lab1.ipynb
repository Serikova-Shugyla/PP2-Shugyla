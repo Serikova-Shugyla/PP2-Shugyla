{
 "cells": [
  {
   "cell_type": "markdown",
   "id": "48337e11-fd98-4e0b-8b1b-c42564235d1a",
   "metadata": {},
   "source": [
    "Ex_1"
   ]
  },
  {
   "cell_type": "code",
   "execution_count": 12,
   "id": "854bc6d1-1560-40ea-b0d7-9aa9c786b76d",
   "metadata": {},
   "outputs": [
    {
     "name": "stdout",
     "output_type": "stream",
     "text": [
      "Hello, World!\n"
     ]
    }
   ],
   "source": [
    "print(\"Hello, World!\")"
   ]
  },
  {
   "cell_type": "markdown",
   "id": "f07c5d11-7bad-488e-829c-6ee7cafbd00b",
   "metadata": {},
   "source": [
    "Ex_2"
   ]
  },
  {
   "cell_type": "code",
   "execution_count": 15,
   "id": "e88fa284-19dd-45e2-a697-bd95847dc1b0",
   "metadata": {},
   "outputs": [
    {
     "name": "stdout",
     "output_type": "stream",
     "text": [
      "3.12.7 | packaged by Anaconda, Inc. | (main, Oct  4 2024, 13:17:27) [MSC v.1929 64 bit (AMD64)]\n"
     ]
    }
   ],
   "source": [
    "import sys\n",
    "\n",
    "print(sys.version)"
   ]
  },
  {
   "cell_type": "markdown",
   "id": "69d21a0a-4fe7-4c09-adc7-077d2b43b310",
   "metadata": {},
   "source": [
    "Ex_3"
   ]
  },
  {
   "cell_type": "code",
   "execution_count": 20,
   "id": "ef55ee9e-9e0e-438d-95d2-a6fa6d52b8d5",
   "metadata": {},
   "outputs": [
    {
     "name": "stdout",
     "output_type": "stream",
     "text": [
      "Five is greater than two!\n"
     ]
    }
   ],
   "source": [
    "if 5 > 2:\n",
    "    print(\"Five is greater than two!\")"
   ]
  },
  {
   "cell_type": "markdown",
   "id": "ab55ef6c-2fad-4fed-991f-365dac953d6b",
   "metadata": {},
   "source": [
    "Ex_4"
   ]
  },
  {
   "cell_type": "code",
   "execution_count": 23,
   "id": "6360b20a-39b3-416d-8566-6990931ad7a7",
   "metadata": {},
   "outputs": [],
   "source": [
    "#Syntax Error:\n",
    "#if 5 > 2:\n",
    "#print(\"Five is greater than two!\")"
   ]
  },
  {
   "cell_type": "markdown",
   "id": "975a4961-9185-4e54-8c0c-6271eeec0f3d",
   "metadata": {},
   "source": [
    "Ex_5"
   ]
  },
  {
   "cell_type": "code",
   "execution_count": 26,
   "id": "a808360e-8b6e-47ec-839e-4cacfa83af14",
   "metadata": {},
   "outputs": [
    {
     "name": "stdout",
     "output_type": "stream",
     "text": [
      "Five is greater than two!\n",
      "Five is greater than two!\n"
     ]
    }
   ],
   "source": [
    "if 5 > 2:\n",
    "  print(\"Five is greater than two!\")\n",
    "if 5 > 2:\n",
    "       print(\"Five is greater than two!\")"
   ]
  },
  {
   "cell_type": "markdown",
   "id": "a493939c-f2ab-481d-98e5-6febce445a78",
   "metadata": {},
   "source": [
    "Ex_6"
   ]
  },
  {
   "cell_type": "code",
   "execution_count": 29,
   "id": "94419623-e80e-4ba0-9dff-dfdd91013a3f",
   "metadata": {},
   "outputs": [],
   "source": [
    "#Syntax Error:\n",
    "#if 5 > 2:\n",
    "  #print(\"Five is greater than two!\")\n",
    "          #print(\"Five is greater than two!)"
   ]
  },
  {
   "cell_type": "markdown",
   "id": "d47a697d-dfd8-4eef-ac94-5c3616e9b908",
   "metadata": {},
   "source": [
    "Ex_7"
   ]
  },
  {
   "cell_type": "code",
   "execution_count": 32,
   "id": "20c98baa-b5db-4a24-8e03-3dd322737df6",
   "metadata": {},
   "outputs": [],
   "source": [
    "#Variables in Python:\n",
    "x = 5\n",
    "y = \"Hello, World!\""
   ]
  },
  {
   "cell_type": "markdown",
   "id": "78c88d69-2a7e-4ac3-9b4b-d1a818618dff",
   "metadata": {},
   "source": [
    "Ex_8"
   ]
  },
  {
   "cell_type": "code",
   "execution_count": 35,
   "id": "a8773d34-c474-4225-b026-66d965248bea",
   "metadata": {},
   "outputs": [
    {
     "name": "stdout",
     "output_type": "stream",
     "text": [
      "Hello, World!\n"
     ]
    }
   ],
   "source": [
    "#Comments in Python:\n",
    "#This is a comment.\n",
    "print(\"Hello, World!\")"
   ]
  },
  {
   "cell_type": "markdown",
   "id": "7de4f73e-5666-4bc6-b3ed-f1106a2ef2ba",
   "metadata": {},
   "source": [
    "Ex_9"
   ]
  },
  {
   "cell_type": "code",
   "execution_count": 38,
   "id": "da8db9b6-03a2-4abb-bf0b-fc721a22eae6",
   "metadata": {},
   "outputs": [
    {
     "name": "stdout",
     "output_type": "stream",
     "text": [
      "Hello, World!\n"
     ]
    }
   ],
   "source": [
    "print(\"Hello, World!\") #This is a comment"
   ]
  },
  {
   "cell_type": "markdown",
   "id": "62f8659e-c4d1-4c3c-8c6d-08651b1ff4cd",
   "metadata": {},
   "source": [
    "Ex_10"
   ]
  },
  {
   "cell_type": "code",
   "execution_count": 41,
   "id": "6624305e-92ae-4a2b-a642-25888f6c0a67",
   "metadata": {},
   "outputs": [
    {
     "name": "stdout",
     "output_type": "stream",
     "text": [
      "Cheers, Mate!\n"
     ]
    }
   ],
   "source": [
    "#print(\"Hello, World!\")\n",
    "print(\"Cheers, Mate!\")"
   ]
  },
  {
   "cell_type": "markdown",
   "id": "631d0b22-bd9b-441a-aa25-b311497674b7",
   "metadata": {},
   "source": [
    "Ex_11"
   ]
  },
  {
   "cell_type": "code",
   "execution_count": 44,
   "id": "3f145bcd-385b-4693-948b-bd95c97bc6d2",
   "metadata": {},
   "outputs": [
    {
     "name": "stdout",
     "output_type": "stream",
     "text": [
      "Hello, World!\n"
     ]
    }
   ],
   "source": [
    "#This is comment\n",
    "#written in\n",
    "#more than just one line\n",
    "print(\"Hello, World!\")"
   ]
  },
  {
   "cell_type": "markdown",
   "id": "40f9ee96-1d8d-45b8-a83f-80527e96d8df",
   "metadata": {},
   "source": [
    "Ex_12"
   ]
  },
  {
   "cell_type": "code",
   "execution_count": 47,
   "id": "bf936d3b-8e2a-40b4-9719-7e5dc20b0ed3",
   "metadata": {},
   "outputs": [
    {
     "name": "stdout",
     "output_type": "stream",
     "text": [
      "Hello, World!\n"
     ]
    }
   ],
   "source": [
    "\"\"\"\n",
    "This is a comment\n",
    "written in\n",
    "more than just one line\n",
    "\"\"\"\n",
    "print(\"Hello, World!\")"
   ]
  },
  {
   "cell_type": "markdown",
   "id": "a1f11a37-1b17-46f9-86d2-9eb840430cfe",
   "metadata": {},
   "source": [
    "Ex_13"
   ]
  },
  {
   "cell_type": "code",
   "execution_count": 50,
   "id": "24f52416-eaee-4d56-93a7-369a2e3e6374",
   "metadata": {},
   "outputs": [
    {
     "name": "stdout",
     "output_type": "stream",
     "text": [
      "5\n",
      "John\n"
     ]
    }
   ],
   "source": [
    "x = 5\n",
    "y = \"John\"\n",
    "print(x)\n",
    "print(y)"
   ]
  },
  {
   "cell_type": "markdown",
   "id": "6b45e865-25af-47a1-9891-93f65f48a615",
   "metadata": {},
   "source": [
    "Ex_14"
   ]
  },
  {
   "cell_type": "code",
   "execution_count": 53,
   "id": "d51c64fc-8541-4d2d-aa3d-070b76269c16",
   "metadata": {},
   "outputs": [
    {
     "name": "stdout",
     "output_type": "stream",
     "text": [
      "Sally\n"
     ]
    }
   ],
   "source": [
    "x = 4        # x is of type int\n",
    "x = \"Sally\"  # x is now of type str\n",
    "print(x)"
   ]
  },
  {
   "cell_type": "markdown",
   "id": "27880aa7-c914-4f7e-bf08-fbd7a76d50e7",
   "metadata": {},
   "source": [
    "Ex_15"
   ]
  },
  {
   "cell_type": "code",
   "execution_count": 56,
   "id": "8038139c-e541-46cc-86ba-b765f7f50ca7",
   "metadata": {},
   "outputs": [],
   "source": [
    "x = str(3)   # x will be '3'\n",
    "y = int(3)   # y will be 3\n",
    "z = float(3) # z will be 3.0"
   ]
  },
  {
   "cell_type": "markdown",
   "id": "f2bf3140-d64f-4e7f-82e6-58a35d8e301a",
   "metadata": {},
   "source": [
    "Ex_16"
   ]
  },
  {
   "cell_type": "code",
   "execution_count": 59,
   "id": "d53e3e82-21d3-420f-b725-364a0e8e52c8",
   "metadata": {},
   "outputs": [
    {
     "name": "stdout",
     "output_type": "stream",
     "text": [
      "<class 'int'>\n",
      "<class 'str'>\n"
     ]
    }
   ],
   "source": [
    "x = 5\n",
    "y = \"John\"\n",
    "print(type(x))\n",
    "print(type(y))"
   ]
  },
  {
   "cell_type": "markdown",
   "id": "a3905fb7-8e6f-414d-8cd9-6b2317cbe2f2",
   "metadata": {},
   "source": [
    "Ex_17"
   ]
  },
  {
   "cell_type": "code",
   "execution_count": 62,
   "id": "a38306d9-3d96-4d71-b14b-d0b9075f773f",
   "metadata": {},
   "outputs": [],
   "source": [
    "x = \"John\"\n",
    "# is the same as\n",
    "x = 'John'"
   ]
  },
  {
   "cell_type": "markdown",
   "id": "45151697-f823-4884-a74f-9e05059c5945",
   "metadata": {},
   "source": [
    "Ex_18"
   ]
  },
  {
   "cell_type": "code",
   "execution_count": 65,
   "id": "c0f5176b-4200-4ffa-8760-2f2033ef26b2",
   "metadata": {},
   "outputs": [],
   "source": [
    "a = 4\n",
    "A = \"Sally\"\n",
    "#A will not overwrite a"
   ]
  },
  {
   "cell_type": "markdown",
   "id": "c917eb66-f67b-4719-83ee-d0f68838993d",
   "metadata": {},
   "source": [
    "Ex_19"
   ]
  },
  {
   "cell_type": "code",
   "execution_count": 68,
   "id": "0f22ea2a-96c9-47a8-8849-39ba7f69b6ef",
   "metadata": {},
   "outputs": [],
   "source": [
    "#Legal variable names:\n",
    "myvar = \"John\"\n",
    "my_var = \"John\"\n",
    "_my_var = \"John\"\n",
    "myVar = \"John\"\n",
    "MYVAR = \"John\"\n",
    "myvar2 = \"John\""
   ]
  },
  {
   "cell_type": "markdown",
   "id": "5f5a7afd-a146-4c61-badd-6d5e08defaec",
   "metadata": {},
   "source": [
    "Ex_20"
   ]
  },
  {
   "cell_type": "code",
   "execution_count": 71,
   "id": "9850f325-6932-47b8-8700-5ef6aef36c01",
   "metadata": {},
   "outputs": [],
   "source": [
    "#Illegal variable names:\n",
    "# 2myvar = \"John\"\n",
    "# my-var = \"John\"\n",
    "# my var = \"John\""
   ]
  },
  {
   "cell_type": "markdown",
   "id": "763ff91e-3976-4b7b-a629-82bb94020724",
   "metadata": {},
   "source": [
    "Ex_21"
   ]
  },
  {
   "cell_type": "code",
   "execution_count": 74,
   "id": "3b811a87-b01b-4fef-97c4-34118e604d45",
   "metadata": {},
   "outputs": [
    {
     "name": "stdout",
     "output_type": "stream",
     "text": [
      "Orange\n",
      "Banana\n",
      "Cherry\n"
     ]
    }
   ],
   "source": [
    "x, y, z = \"Orange\", \"Banana\",\"Cherry\"\n",
    "print(x)\n",
    "print(y)\n",
    "print(z)"
   ]
  },
  {
   "cell_type": "markdown",
   "id": "bbe817dc-e174-4253-8867-f3e1b78bbd17",
   "metadata": {},
   "source": [
    "Ex_22"
   ]
  },
  {
   "cell_type": "code",
   "execution_count": 77,
   "id": "dca89124-3a72-4e7b-8b71-303f99738c87",
   "metadata": {},
   "outputs": [
    {
     "name": "stdout",
     "output_type": "stream",
     "text": [
      "Orange\n",
      "Orange\n",
      "Orange\n"
     ]
    }
   ],
   "source": [
    "x = y = z = \"Orange\"\n",
    "print(x)\n",
    "print(y)\n",
    "print(z)"
   ]
  },
  {
   "cell_type": "markdown",
   "id": "fa9b9ac5-1b54-41e3-9d4b-ccf9cbca6cb3",
   "metadata": {},
   "source": [
    "Ex_23"
   ]
  },
  {
   "cell_type": "code",
   "execution_count": 80,
   "id": "a88d9670-9e0b-446f-be34-2db42625c1d6",
   "metadata": {},
   "outputs": [
    {
     "name": "stdout",
     "output_type": "stream",
     "text": [
      "apple\n",
      "banana\n",
      "cherry\n"
     ]
    }
   ],
   "source": [
    "#Unpack a list:\n",
    "fruits = [\"apple\", \"banana\", \"cherry\"]\n",
    "x, y, z = fruits\n",
    "print(x)\n",
    "print(y)\n",
    "print(z)"
   ]
  },
  {
   "cell_type": "markdown",
   "id": "61b24e99-da4e-4789-9cb5-6c888631e32d",
   "metadata": {},
   "source": [
    "Ex_24"
   ]
  },
  {
   "cell_type": "code",
   "execution_count": 83,
   "id": "9c76680b-c03c-43f8-9c11-09916e1a2df1",
   "metadata": {},
   "outputs": [
    {
     "name": "stdout",
     "output_type": "stream",
     "text": [
      "Python is awesome\n"
     ]
    }
   ],
   "source": [
    "x = \"Python is awesome\"\n",
    "print(x)"
   ]
  },
  {
   "cell_type": "markdown",
   "id": "5b44b18f-441f-4e04-9479-d7ba40e38507",
   "metadata": {},
   "source": [
    "Ex_25"
   ]
  },
  {
   "cell_type": "code",
   "execution_count": 86,
   "id": "3e473b8d-b028-4e6b-ae8f-02a28b0e0fdd",
   "metadata": {},
   "outputs": [
    {
     "name": "stdout",
     "output_type": "stream",
     "text": [
      "Python is awesome\n"
     ]
    }
   ],
   "source": [
    "x = \"Python\"\n",
    "y = \"is\"\n",
    "z = \"awesome\"\n",
    "print(x,y,z)"
   ]
  },
  {
   "cell_type": "markdown",
   "id": "82bca69e-12ef-4e2d-94e9-5cd47289debb",
   "metadata": {},
   "source": [
    "Ex_26"
   ]
  },
  {
   "cell_type": "code",
   "execution_count": 89,
   "id": "81bc562b-e4ed-4685-a4eb-52eb00818060",
   "metadata": {},
   "outputs": [
    {
     "name": "stdout",
     "output_type": "stream",
     "text": [
      "pythonisawesome\n"
     ]
    }
   ],
   "source": [
    "x = \"python\"\n",
    "y = \"is\"\n",
    "z = \"awesome\"\n",
    "print(x + y + z)"
   ]
  },
  {
   "cell_type": "markdown",
   "id": "3c5db515-8646-439c-8542-995f6122e05b",
   "metadata": {},
   "source": [
    "Ex_27"
   ]
  },
  {
   "cell_type": "code",
   "execution_count": 92,
   "id": "b111291b-3a35-4794-88cd-e47046a47bd4",
   "metadata": {},
   "outputs": [
    {
     "name": "stdout",
     "output_type": "stream",
     "text": [
      "15\n"
     ]
    }
   ],
   "source": [
    "x = 5\n",
    "y = 10\n",
    "print(x + y)"
   ]
  },
  {
   "cell_type": "markdown",
   "id": "6602686c-e8e1-4980-896c-9ff49a1a06c3",
   "metadata": {},
   "source": [
    "Ex_28"
   ]
  },
  {
   "cell_type": "code",
   "execution_count": 95,
   "id": "eb806329-3e31-4b86-902a-2174bd71afb8",
   "metadata": {},
   "outputs": [],
   "source": [
    "# x = 5\n",
    "# y = \"John\"\n",
    "# print(x + y)"
   ]
  },
  {
   "cell_type": "markdown",
   "id": "aa710a13-a1c6-475a-be1e-5ce38d5dd072",
   "metadata": {},
   "source": [
    "Ex_29"
   ]
  },
  {
   "cell_type": "code",
   "execution_count": 98,
   "id": "9f7db545-ebb1-4cab-9eba-1703bc32988c",
   "metadata": {},
   "outputs": [
    {
     "name": "stdout",
     "output_type": "stream",
     "text": [
      "5 John\n"
     ]
    }
   ],
   "source": [
    "x = 5\n",
    "y = \"John\"\n",
    "print(x, y)"
   ]
  },
  {
   "cell_type": "markdown",
   "id": "8bac2ecd-977f-4dc8-bd78-5b6e9ba8213f",
   "metadata": {},
   "source": [
    "Ex_30"
   ]
  },
  {
   "cell_type": "code",
   "execution_count": 101,
   "id": "2d487568-4344-4553-b045-0f227d8eede1",
   "metadata": {},
   "outputs": [
    {
     "name": "stdout",
     "output_type": "stream",
     "text": [
      "Python is awesome\n"
     ]
    }
   ],
   "source": [
    "x = \"awesome\"\n",
    "\n",
    "def myfunc():\n",
    "  print(\"Python is \" + x)\n",
    "\n",
    "myfunc()"
   ]
  },
  {
   "cell_type": "markdown",
   "id": "be8a4f0f-9a57-4f40-80f8-e422195e3ad9",
   "metadata": {},
   "source": [
    "Ex_31"
   ]
  },
  {
   "cell_type": "code",
   "execution_count": 104,
   "id": "c564bd32-472d-4db3-a1de-2df6ee2dbd5e",
   "metadata": {},
   "outputs": [
    {
     "name": "stdout",
     "output_type": "stream",
     "text": [
      "Python is fantastic\n",
      "Python is awesome\n"
     ]
    }
   ],
   "source": [
    "x = \"awesome\"\n",
    "\n",
    "def myfunc():\n",
    "    x = \"fantastic\"\n",
    "    print(\"Python is \" + x)\n",
    "\n",
    "myfunc()\n",
    "\n",
    "print(\"Python is \" + x)"
   ]
  },
  {
   "cell_type": "markdown",
   "id": "f0475421-d9df-431d-b5cb-e72762984ba5",
   "metadata": {},
   "source": [
    "Ex_32"
   ]
  },
  {
   "cell_type": "code",
   "execution_count": 107,
   "id": "adc3a9e1-11e8-40f3-8f14-be25c6492f72",
   "metadata": {},
   "outputs": [
    {
     "name": "stdout",
     "output_type": "stream",
     "text": [
      "Python is fantastic\n"
     ]
    }
   ],
   "source": [
    "def myfunc():\n",
    "    global x\n",
    "    x = \"fantastic\"\n",
    "\n",
    "myfunc()\n",
    "\n",
    "print(\"Python is \" + x)"
   ]
  },
  {
   "cell_type": "markdown",
   "id": "71157eb8-c7c6-4b48-974b-44f7710a7338",
   "metadata": {},
   "source": [
    "Ex_33"
   ]
  },
  {
   "cell_type": "code",
   "execution_count": 110,
   "id": "9ffff78b-4b12-4197-9d88-42ca711c3a2c",
   "metadata": {},
   "outputs": [
    {
     "name": "stdout",
     "output_type": "stream",
     "text": [
      "Python is fantastic\n"
     ]
    }
   ],
   "source": [
    "x = \"awesome\"\n",
    "\n",
    "def myfunc():\n",
    "    global x\n",
    "    x = \"fantastic\"\n",
    "\n",
    "myfunc()\n",
    "\n",
    "print(\"Python is \" + x)"
   ]
  },
  {
   "cell_type": "markdown",
   "id": "81f95000-dd36-4dd7-be4e-2e6a7de1d3e2",
   "metadata": {},
   "source": [
    "Ex_34"
   ]
  },
  {
   "cell_type": "code",
   "execution_count": 113,
   "id": "3f5670e7-dc5c-4d70-af0e-e55835de9212",
   "metadata": {},
   "outputs": [
    {
     "name": "stdout",
     "output_type": "stream",
     "text": [
      "<class 'int'>\n"
     ]
    }
   ],
   "source": [
    "x = 5\n",
    "print(type(x))"
   ]
  },
  {
   "cell_type": "markdown",
   "id": "ec69d747-a396-419f-890b-36db8f744720",
   "metadata": {},
   "source": [
    "Ex_35"
   ]
  },
  {
   "cell_type": "code",
   "execution_count": 116,
   "id": "fabe8b77-93f3-4532-83fc-46cb0eed21ad",
   "metadata": {},
   "outputs": [],
   "source": [
    "x = 1   #int\n",
    "y = 2.8 #float\n",
    "z = 1j  #complex"
   ]
  },
  {
   "cell_type": "markdown",
   "id": "4ef79d30-c358-4229-9193-4741c3dcccb6",
   "metadata": {},
   "source": [
    "Ex_36"
   ]
  },
  {
   "cell_type": "code",
   "execution_count": 119,
   "id": "7c2a6bd0-67a5-41e3-9306-e4c2889f8f1c",
   "metadata": {},
   "outputs": [
    {
     "name": "stdout",
     "output_type": "stream",
     "text": [
      "<class 'int'>\n",
      "<class 'float'>\n",
      "<class 'complex'>\n"
     ]
    }
   ],
   "source": [
    "print(type(x))\n",
    "print(type(y))\n",
    "print(type(z))"
   ]
  },
  {
   "cell_type": "markdown",
   "id": "afaed8cf-12a8-4594-88bd-5e5ed8f449ec",
   "metadata": {},
   "source": [
    "Ex_37"
   ]
  },
  {
   "cell_type": "code",
   "execution_count": 124,
   "id": "635d5860-0031-40be-80f4-92ccb2a15165",
   "metadata": {},
   "outputs": [
    {
     "name": "stdout",
     "output_type": "stream",
     "text": [
      "<class 'int'>\n",
      "<class 'int'>\n",
      "<class 'int'>\n"
     ]
    }
   ],
   "source": [
    "x = 1\n",
    "y = 35345678934567\n",
    "z = -23456789\n",
    "\n",
    "print(type(x))\n",
    "print(type(y))\n",
    "print(type(z))"
   ]
  },
  {
   "cell_type": "markdown",
   "id": "2199b592-dc81-4a45-874b-def8da7d7459",
   "metadata": {},
   "source": [
    "Ex_38"
   ]
  },
  {
   "cell_type": "code",
   "execution_count": 127,
   "id": "e4f89a42-4fde-46b5-9d93-b7354de23a98",
   "metadata": {},
   "outputs": [
    {
     "name": "stdout",
     "output_type": "stream",
     "text": [
      "<class 'float'>\n",
      "<class 'float'>\n",
      "<class 'float'>\n"
     ]
    }
   ],
   "source": [
    "x = 1.10\n",
    "y = 1.0\n",
    "z = -35.59\n",
    "\n",
    "print(type(x))\n",
    "print(type(y))\n",
    "print(type(z))"
   ]
  },
  {
   "cell_type": "markdown",
   "id": "2ec0a5fc-426f-4c5a-8b27-15e62083c5e5",
   "metadata": {},
   "source": [
    "Ex_39"
   ]
  },
  {
   "cell_type": "code",
   "execution_count": 130,
   "id": "6610fa24-2008-46f8-b91b-df5d2adbb034",
   "metadata": {},
   "outputs": [
    {
     "name": "stdout",
     "output_type": "stream",
     "text": [
      "<class 'float'>\n",
      "<class 'float'>\n",
      "<class 'float'>\n"
     ]
    }
   ],
   "source": [
    "x = 35e3\n",
    "y = 12E4\n",
    "z = -87.7e100\n",
    "\n",
    "print(type(x))\n",
    "print(type(y))\n",
    "print(type(z))"
   ]
  },
  {
   "cell_type": "markdown",
   "id": "dedb58c7-7ee3-496b-9552-ae3cc0c09508",
   "metadata": {},
   "source": [
    "Ex_40"
   ]
  },
  {
   "cell_type": "code",
   "execution_count": 133,
   "id": "701d6dfa-6552-4526-aea6-1292340b84ac",
   "metadata": {},
   "outputs": [
    {
     "name": "stdout",
     "output_type": "stream",
     "text": [
      "<class 'complex'>\n",
      "<class 'complex'>\n",
      "<class 'complex'>\n"
     ]
    }
   ],
   "source": [
    "x = 3+5j\n",
    "y = 5j\n",
    "z = -5j\n",
    "\n",
    "print(type(x))\n",
    "print(type(y))\n",
    "print(type(z))"
   ]
  },
  {
   "cell_type": "markdown",
   "id": "534cbb99-3968-4b93-add4-108d2eeaf305",
   "metadata": {},
   "source": [
    "Ex_41"
   ]
  },
  {
   "cell_type": "code",
   "execution_count": 136,
   "id": "f80ac713-0dbf-41f1-9415-1769eb7c3989",
   "metadata": {},
   "outputs": [
    {
     "name": "stdout",
     "output_type": "stream",
     "text": [
      "1.0\n",
      "2\n",
      "(1+0j)\n",
      "<class 'float'>\n",
      "<class 'int'>\n",
      "<class 'complex'>\n"
     ]
    }
   ],
   "source": [
    "x = 1   #int\n",
    "y = 2.8 #float\n",
    "z = 1j  #complex\n",
    "\n",
    "#convert from int to float:\n",
    "a = float(x)\n",
    "\n",
    "#convert from float to int:\n",
    "b = int(y)\n",
    "\n",
    "#convert from int to complex:\n",
    "c = complex(x)\n",
    "\n",
    "print(a)\n",
    "print(b)\n",
    "print(c)\n",
    "\n",
    "print(type(a))\n",
    "print(type(b))\n",
    "print(type(c))"
   ]
  },
  {
   "cell_type": "markdown",
   "id": "1a5ae20a-0681-40d5-849f-43c77de1468a",
   "metadata": {},
   "source": [
    "Ex_42"
   ]
  },
  {
   "cell_type": "code",
   "execution_count": 139,
   "id": "e090b276-b280-40a9-b875-c9db7a395481",
   "metadata": {},
   "outputs": [
    {
     "name": "stdout",
     "output_type": "stream",
     "text": [
      "7\n"
     ]
    }
   ],
   "source": [
    "import random\n",
    "\n",
    "print(random.randrange(1, 10))"
   ]
  },
  {
   "cell_type": "markdown",
   "id": "797c88ac-a30d-4b37-b893-f878a8dfe557",
   "metadata": {},
   "source": [
    "Ex_43"
   ]
  },
  {
   "cell_type": "code",
   "execution_count": 142,
   "id": "198084c7-3ebe-4025-9c7c-e2fecc6deb9f",
   "metadata": {},
   "outputs": [],
   "source": [
    "x = int(1)   # x will be 1\n",
    "y = int(2.8) # y will be 2\n",
    "z = int(\"3\") # z will be 3"
   ]
  },
  {
   "cell_type": "markdown",
   "id": "7b12fec6-2647-4e99-a4f6-e702efaad564",
   "metadata": {},
   "source": [
    "Ex_44"
   ]
  },
  {
   "cell_type": "code",
   "execution_count": 145,
   "id": "bf837c2c-e714-40d6-8678-4fc696e0c1b5",
   "metadata": {},
   "outputs": [],
   "source": [
    "x = float(1)     # x will be 1.0\n",
    "y = float(2.8)   # y will be 2.8\n",
    "z = float(\"3\")   # z will be 3.0\n",
    "w = float(\"4.2\") # w will be 4.2"
   ]
  },
  {
   "cell_type": "markdown",
   "id": "de4ff349-2587-4da0-9c24-343ffae6d05c",
   "metadata": {},
   "source": [
    "Ex_45"
   ]
  },
  {
   "cell_type": "code",
   "execution_count": 148,
   "id": "7e1ff6ae-7849-4906-9a01-75917adcbd2a",
   "metadata": {},
   "outputs": [],
   "source": [
    "x = str(\"s1\") # x will be 's1'\n",
    "y = str(2)    # y will be '2'\n",
    "z = str(3.0)  # z will be '3.0'"
   ]
  },
  {
   "cell_type": "markdown",
   "id": "2bfad9f6-22e3-4d3b-84c0-58493bbe057b",
   "metadata": {},
   "source": [
    "Ex_46"
   ]
  },
  {
   "cell_type": "code",
   "execution_count": 153,
   "id": "dfbdcdbc-e334-4b2d-96bf-dcdb13859ba3",
   "metadata": {},
   "outputs": [
    {
     "name": "stdout",
     "output_type": "stream",
     "text": [
      "Hello\n",
      "Hello\n"
     ]
    }
   ],
   "source": [
    "print(\"Hello\")\n",
    "print('Hello')"
   ]
  },
  {
   "cell_type": "markdown",
   "id": "5bf1e0e0-2641-4fc9-9703-bb9d462dd43b",
   "metadata": {},
   "source": [
    "Ex_47"
   ]
  },
  {
   "cell_type": "code",
   "execution_count": 156,
   "id": "a545e187-bf58-4da3-bcea-c364233b7f47",
   "metadata": {},
   "outputs": [
    {
     "name": "stdout",
     "output_type": "stream",
     "text": [
      "It's alright\n",
      "He is called 'Johnny'\n",
      "He is called \"Johnny\"\n"
     ]
    }
   ],
   "source": [
    "print(\"It's alright\")\n",
    "print(\"He is called 'Johnny'\")\n",
    "print('He is called \"Johnny\"')"
   ]
  },
  {
   "cell_type": "markdown",
   "id": "30702d60-92fd-4139-b1cd-7b055521736b",
   "metadata": {},
   "source": [
    "Ex_48"
   ]
  },
  {
   "cell_type": "code",
   "execution_count": 159,
   "id": "651c012d-c095-48f1-9baa-cbeaa37f8d64",
   "metadata": {},
   "outputs": [
    {
     "name": "stdout",
     "output_type": "stream",
     "text": [
      "Hello\n"
     ]
    }
   ],
   "source": [
    "a = \"Hello\"\n",
    "print(a)"
   ]
  },
  {
   "cell_type": "markdown",
   "id": "92bbe3de-041e-48f7-b330-6725146ce505",
   "metadata": {},
   "source": [
    "Ex_49"
   ]
  },
  {
   "cell_type": "code",
   "execution_count": 162,
   "id": "f0018d5e-5e1b-49f1-8048-28247ee098ff",
   "metadata": {},
   "outputs": [
    {
     "name": "stdout",
     "output_type": "stream",
     "text": [
      "Lorem ipsum dolor sit amet,\n",
      "consectetur adipiscing elit,\n",
      "sed do eiusmod tempor incididunt\n",
      "ut labore et dolore magna aliqua.\n"
     ]
    }
   ],
   "source": [
    "a = \"\"\"Lorem ipsum dolor sit amet,\n",
    "consectetur adipiscing elit,\n",
    "sed do eiusmod tempor incididunt\n",
    "ut labore et dolore magna aliqua.\"\"\"\n",
    "print(a)"
   ]
  },
  {
   "cell_type": "markdown",
   "id": "a9bbaf18-7d78-45eb-bec3-a7aadbb4c75d",
   "metadata": {},
   "source": [
    "Ex_50"
   ]
  },
  {
   "cell_type": "code",
   "execution_count": 165,
   "id": "1737bead-7527-40de-a09b-523b047e0b17",
   "metadata": {},
   "outputs": [
    {
     "name": "stdout",
     "output_type": "stream",
     "text": [
      "Lorem ipsum dolor sit amet,\n",
      "consectetur adipiscing elit,\n",
      "sed do eiusmod tempor incididunt\n",
      "ut labore et dolore magna aliqua.\n"
     ]
    }
   ],
   "source": [
    "a = '''Lorem ipsum dolor sit amet,\n",
    "consectetur adipiscing elit,\n",
    "sed do eiusmod tempor incididunt\n",
    "ut labore et dolore magna aliqua.'''\n",
    "print(a)"
   ]
  },
  {
   "cell_type": "markdown",
   "id": "54047e5d-21e6-493e-90b3-667db4260d3c",
   "metadata": {},
   "source": [
    "Ex_51"
   ]
  },
  {
   "cell_type": "code",
   "execution_count": 168,
   "id": "8d77c14e-a161-4d05-9175-f545205ce340",
   "metadata": {},
   "outputs": [
    {
     "name": "stdout",
     "output_type": "stream",
     "text": [
      "e\n"
     ]
    }
   ],
   "source": [
    "a = \"Hello, World!\"\n",
    "print(a[1])"
   ]
  },
  {
   "cell_type": "markdown",
   "id": "eafd3648-e539-4970-a01a-58a2259fbc18",
   "metadata": {},
   "source": [
    "Ex_52"
   ]
  },
  {
   "cell_type": "code",
   "execution_count": 171,
   "id": "363ffa03-eb33-4f6b-9b6b-7f7bc53c1e88",
   "metadata": {},
   "outputs": [
    {
     "name": "stdout",
     "output_type": "stream",
     "text": [
      "b\n",
      "a\n",
      "n\n",
      "a\n",
      "n\n",
      "a\n"
     ]
    }
   ],
   "source": [
    "for x in \"banana\":\n",
    "  print(x)"
   ]
  },
  {
   "cell_type": "markdown",
   "id": "5ca77474-36fd-47e3-8094-ddd66ddb2782",
   "metadata": {},
   "source": [
    "Ex_53"
   ]
  },
  {
   "cell_type": "code",
   "execution_count": 174,
   "id": "9853d138-4def-4b78-a775-c077bee7c464",
   "metadata": {},
   "outputs": [
    {
     "name": "stdout",
     "output_type": "stream",
     "text": [
      "13\n"
     ]
    }
   ],
   "source": [
    "a = \"Hello, World!\"\n",
    "print(len(a))"
   ]
  },
  {
   "cell_type": "markdown",
   "id": "81d26bd2-9f4f-491c-83f3-21c73dddf456",
   "metadata": {},
   "source": [
    "Ex_54"
   ]
  },
  {
   "cell_type": "code",
   "execution_count": 177,
   "id": "44987ca3-0821-42f6-b97b-d903e39165aa",
   "metadata": {},
   "outputs": [
    {
     "name": "stdout",
     "output_type": "stream",
     "text": [
      "True\n"
     ]
    }
   ],
   "source": [
    "txt = \"The best things in life are free!\"\n",
    "print(\"free\" in txt)"
   ]
  },
  {
   "cell_type": "markdown",
   "id": "fe73c807-6c21-4fbc-8181-0621e19f129f",
   "metadata": {},
   "source": [
    "Ex_55"
   ]
  },
  {
   "cell_type": "code",
   "execution_count": 180,
   "id": "6959608d-4125-4073-bd27-9edcc7af8808",
   "metadata": {},
   "outputs": [
    {
     "name": "stdout",
     "output_type": "stream",
     "text": [
      "Yes, 'free' is present.\n"
     ]
    }
   ],
   "source": [
    "txt = \"The best things in life are free!\"\n",
    "if \"free\" in txt:\n",
    "  print(\"Yes, 'free' is present.\")"
   ]
  },
  {
   "cell_type": "markdown",
   "id": "869e0ceb-4160-4c6a-9cb4-fdb6eb276766",
   "metadata": {},
   "source": [
    "Ex_56"
   ]
  },
  {
   "cell_type": "code",
   "execution_count": 183,
   "id": "f2cef8d3-9c8b-4992-b292-2d182e215dfe",
   "metadata": {},
   "outputs": [
    {
     "name": "stdout",
     "output_type": "stream",
     "text": [
      "True\n"
     ]
    }
   ],
   "source": [
    "txt = \"The best things in life are free!\"\n",
    "print(\"expensive\" not in txt)"
   ]
  },
  {
   "cell_type": "markdown",
   "id": "75a47b3e-545a-4103-9331-30ef49e26b6f",
   "metadata": {},
   "source": [
    "Ex_57"
   ]
  },
  {
   "cell_type": "code",
   "execution_count": 186,
   "id": "54a06f1d-4b54-4b76-b3a3-6818a3b1d800",
   "metadata": {},
   "outputs": [
    {
     "name": "stdout",
     "output_type": "stream",
     "text": [
      "No, 'expensive' is NOT present.\n"
     ]
    }
   ],
   "source": [
    "txt = \"The best things in life are free!\"\n",
    "if \"expensive\" not in txt:\n",
    "  print(\"No, 'expensive' is NOT present.\")"
   ]
  },
  {
   "cell_type": "markdown",
   "id": "d0641a24-b762-49dd-96d9-3546706f001a",
   "metadata": {},
   "source": [
    "Ex_58"
   ]
  },
  {
   "cell_type": "code",
   "execution_count": 189,
   "id": "f1ca0e9f-efd8-4ef7-8cea-a925cc941d8c",
   "metadata": {},
   "outputs": [
    {
     "name": "stdout",
     "output_type": "stream",
     "text": [
      "llo\n"
     ]
    }
   ],
   "source": [
    "b = \"Hello, World!\"\n",
    "print(b[2:5])"
   ]
  },
  {
   "cell_type": "markdown",
   "id": "16a98eea-a925-46fb-a523-8225a4e71469",
   "metadata": {},
   "source": [
    "Ex_59"
   ]
  },
  {
   "cell_type": "code",
   "execution_count": 192,
   "id": "4e7586c0-dfee-4fcd-9d41-cab96d56c759",
   "metadata": {},
   "outputs": [
    {
     "name": "stdout",
     "output_type": "stream",
     "text": [
      "Hello\n"
     ]
    }
   ],
   "source": [
    "b = \"Hello, World!\"\n",
    "print(b[:5])"
   ]
  },
  {
   "cell_type": "markdown",
   "id": "2ba02397-4ace-4a48-a961-dfbdb11797dd",
   "metadata": {},
   "source": [
    "Ex_60"
   ]
  },
  {
   "cell_type": "code",
   "execution_count": 195,
   "id": "36158644-942d-4061-8fd1-488d958bdf40",
   "metadata": {},
   "outputs": [
    {
     "name": "stdout",
     "output_type": "stream",
     "text": [
      "llo, World!\n"
     ]
    }
   ],
   "source": [
    "b = \"Hello, World!\"\n",
    "print(b[2:])"
   ]
  },
  {
   "cell_type": "markdown",
   "id": "f5de7383-4448-4fa5-b9e2-13ce9e2fa009",
   "metadata": {},
   "source": [
    "Ex_61"
   ]
  },
  {
   "cell_type": "code",
   "execution_count": 198,
   "id": "bab55102-732d-479d-84a8-76d115e98ffe",
   "metadata": {},
   "outputs": [
    {
     "name": "stdout",
     "output_type": "stream",
     "text": [
      "orl\n"
     ]
    }
   ],
   "source": [
    "b = \"Hello, World!\"\n",
    "print(b[-5:-2])"
   ]
  },
  {
   "cell_type": "markdown",
   "id": "a7616c88-e060-43a0-8e7f-f8507f8dc864",
   "metadata": {},
   "source": [
    "Ex_62"
   ]
  },
  {
   "cell_type": "code",
   "execution_count": 201,
   "id": "57cb2bf3-1633-45a9-a009-b21ecf566db1",
   "metadata": {},
   "outputs": [
    {
     "name": "stdout",
     "output_type": "stream",
     "text": [
      "HELLO, WORLD!\n"
     ]
    }
   ],
   "source": [
    "a = \"Hello, World!\"\n",
    "print(a.upper())"
   ]
  },
  {
   "cell_type": "markdown",
   "id": "ca3c2110-6739-42af-b287-34c6d571b290",
   "metadata": {},
   "source": [
    "Ex_63"
   ]
  },
  {
   "cell_type": "code",
   "execution_count": 204,
   "id": "40f2388e-0839-4fed-8ae6-86956a72f879",
   "metadata": {},
   "outputs": [
    {
     "name": "stdout",
     "output_type": "stream",
     "text": [
      "hello, world!\n"
     ]
    }
   ],
   "source": [
    "a = \"Hello, World!\"\n",
    "print(a.lower())"
   ]
  },
  {
   "cell_type": "markdown",
   "id": "051ef9c2-51e3-4d6f-ae41-8c18a75757d7",
   "metadata": {},
   "source": [
    "Ex_64"
   ]
  },
  {
   "cell_type": "code",
   "execution_count": 207,
   "id": "73f97a6e-5739-4b16-aa9e-f7a5d065db98",
   "metadata": {},
   "outputs": [
    {
     "name": "stdout",
     "output_type": "stream",
     "text": [
      "Hello, World!\n"
     ]
    }
   ],
   "source": [
    "a = \" Hello, World! \"\n",
    "print(a.strip()) # returns \"Hello, World!\""
   ]
  },
  {
   "cell_type": "markdown",
   "id": "a13881e1-b4ee-4043-9bfc-5224c003ff03",
   "metadata": {},
   "source": [
    "Ex_65"
   ]
  },
  {
   "cell_type": "code",
   "execution_count": 210,
   "id": "35edbe29-5d00-43f2-835d-b9b946413deb",
   "metadata": {},
   "outputs": [
    {
     "name": "stdout",
     "output_type": "stream",
     "text": [
      "Jello, World!\n"
     ]
    }
   ],
   "source": [
    "a = \"Hello, World!\"\n",
    "print(a.replace(\"H\", \"J\"))"
   ]
  },
  {
   "cell_type": "markdown",
   "id": "c82274e8-fdf2-4179-8496-777df3d75571",
   "metadata": {},
   "source": [
    "Ex_66"
   ]
  },
  {
   "cell_type": "code",
   "execution_count": 213,
   "id": "5c98d9e7-bdc1-4362-b8de-3d13ccc2f064",
   "metadata": {},
   "outputs": [
    {
     "name": "stdout",
     "output_type": "stream",
     "text": [
      "['Hello', ' World!']\n"
     ]
    }
   ],
   "source": [
    "a = \"Hello, World!\"\n",
    "print(a.split(\",\")) # returns ['Hello', ' World!']"
   ]
  },
  {
   "cell_type": "markdown",
   "id": "6a087447-2e08-4770-ad52-67038418b531",
   "metadata": {},
   "source": [
    "Ex_67"
   ]
  },
  {
   "cell_type": "code",
   "execution_count": 216,
   "id": "cd8333f3-2142-4132-bb37-7b5fe038963a",
   "metadata": {},
   "outputs": [
    {
     "name": "stdout",
     "output_type": "stream",
     "text": [
      "HelloWorld\n"
     ]
    }
   ],
   "source": [
    "a = \"Hello\"\n",
    "b = \"World\"\n",
    "c = a + b\n",
    "print(c)"
   ]
  },
  {
   "cell_type": "markdown",
   "id": "b95cde55-d813-424e-8a66-5145db6235c1",
   "metadata": {},
   "source": [
    "Ex_68"
   ]
  },
  {
   "cell_type": "code",
   "execution_count": 219,
   "id": "3db42efa-ec58-47f9-8bff-8e0add7f5cd3",
   "metadata": {},
   "outputs": [
    {
     "name": "stdout",
     "output_type": "stream",
     "text": [
      "Hello World\n"
     ]
    }
   ],
   "source": [
    "a = \"Hello\"\n",
    "b = \"World\"\n",
    "c = a + \" \" + b\n",
    "print(c)"
   ]
  },
  {
   "cell_type": "markdown",
   "id": "83b72afe-35b7-4367-b0df-12ba7e00cc1e",
   "metadata": {},
   "source": [
    "Ex_69"
   ]
  },
  {
   "cell_type": "code",
   "execution_count": 222,
   "id": "94551fa0-8a0c-4cb9-a69a-042baa249f63",
   "metadata": {},
   "outputs": [],
   "source": [
    "# age = 36\n",
    "# txt = \"My name is John, I am \" + age\n",
    "# print(txt)"
   ]
  },
  {
   "cell_type": "markdown",
   "id": "0fbaa361-6d25-4e9d-9b99-4fbed616b189",
   "metadata": {},
   "source": [
    "Ex_70"
   ]
  },
  {
   "cell_type": "code",
   "execution_count": 225,
   "id": "4500c75e-c95e-443c-8cef-2a71b513b6b3",
   "metadata": {},
   "outputs": [
    {
     "name": "stdout",
     "output_type": "stream",
     "text": [
      "My name is John, I am 36\n"
     ]
    }
   ],
   "source": [
    "age = 36\n",
    "txt = f\"My name is John, I am {age}\"\n",
    "print(txt)"
   ]
  },
  {
   "cell_type": "markdown",
   "id": "529c01b5-69c9-4a46-a67e-fe3ec91d2c24",
   "metadata": {},
   "source": [
    "Ex_71"
   ]
  },
  {
   "cell_type": "code",
   "execution_count": 231,
   "id": "e94066b6-74e9-4f5b-8e06-6076bc4aa05e",
   "metadata": {},
   "outputs": [
    {
     "name": "stdout",
     "output_type": "stream",
     "text": [
      "The price is 59 dollars\n"
     ]
    }
   ],
   "source": [
    "price = 59\n",
    "txt = f\"The price is {price} dollars\"\n",
    "print(txt)"
   ]
  },
  {
   "cell_type": "markdown",
   "id": "f5427170-88cf-432a-a73c-da6ae5f1adee",
   "metadata": {},
   "source": [
    "Ex_72"
   ]
  },
  {
   "cell_type": "code",
   "execution_count": 233,
   "id": "198609eb-be3f-4da2-8252-08e96b861ed1",
   "metadata": {},
   "outputs": [
    {
     "name": "stdout",
     "output_type": "stream",
     "text": [
      "The price is 59.00 dollars\n"
     ]
    }
   ],
   "source": [
    "price = 59\n",
    "txt = f\"The price is {price:.2f} dollars\"\n",
    "print(txt)"
   ]
  },
  {
   "cell_type": "markdown",
   "id": "32ae8d88-bf70-47b1-9490-7f056e33850e",
   "metadata": {},
   "source": [
    "Ex_73"
   ]
  },
  {
   "cell_type": "code",
   "execution_count": 236,
   "id": "2467702b-1edc-4104-a8de-9235beee1432",
   "metadata": {},
   "outputs": [
    {
     "name": "stdout",
     "output_type": "stream",
     "text": [
      "The price is 1180 dollars\n"
     ]
    }
   ],
   "source": [
    "txt = f\"The price is {20 * 59} dollars\"\n",
    "print(txt)"
   ]
  },
  {
   "cell_type": "markdown",
   "id": "6a93bdf3-aa5d-4a97-a65b-0787f7b38c55",
   "metadata": {},
   "source": [
    "Ex_74"
   ]
  },
  {
   "cell_type": "code",
   "execution_count": 239,
   "id": "d7c288a2-25b0-4580-83e9-b64faa8522f9",
   "metadata": {},
   "outputs": [],
   "source": [
    "#txt = \"We are the so-called \"Vikings\" from the north.\""
   ]
  },
  {
   "cell_type": "markdown",
   "id": "879019b9-0428-4fd0-a443-30cce21d1759",
   "metadata": {},
   "source": [
    "Ex_75"
   ]
  },
  {
   "cell_type": "code",
   "execution_count": 242,
   "id": "f32a0e5f-b5c7-45ea-ba99-1b55c22feacb",
   "metadata": {},
   "outputs": [],
   "source": [
    "txt = \"We are the so-called \\\"Vikings\\\" from the north.\""
   ]
  },
  {
   "cell_type": "code",
   "execution_count": null,
   "id": "83ff3460-8a17-4214-bec9-50933d7689d7",
   "metadata": {},
   "outputs": [],
   "source": []
  }
 ],
 "metadata": {
  "kernelspec": {
   "display_name": "Python [conda env:base] *",
   "language": "python",
   "name": "conda-base-py"
  },
  "language_info": {
   "codemirror_mode": {
    "name": "ipython",
    "version": 3
   },
   "file_extension": ".py",
   "mimetype": "text/x-python",
   "name": "python",
   "nbconvert_exporter": "python",
   "pygments_lexer": "ipython3",
   "version": "3.12.7"
  }
 },
 "nbformat": 4,
 "nbformat_minor": 5
}
