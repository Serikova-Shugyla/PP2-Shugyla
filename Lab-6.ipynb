{
 "cells": [
  {
   "cell_type": "markdown",
   "id": "b9457a8a-9f73-4852-9a0e-b9512760f33e",
   "metadata": {},
   "source": [
    "Python builtin functions exercises"
   ]
  },
  {
   "cell_type": "markdown",
   "id": "7a85d85f-d59e-419c-a530-72d488324438",
   "metadata": {},
   "source": [
    "Ex_1"
   ]
  },
  {
   "cell_type": "code",
   "execution_count": 5,
   "id": "e7cbd41e-4428-42ae-a171-7a15a7d02e9a",
   "metadata": {},
   "outputs": [
    {
     "name": "stdin",
     "output_type": "stream",
     "text": [
      " 1 2 3 4 5\n"
     ]
    },
    {
     "name": "stdout",
     "output_type": "stream",
     "text": [
      "120\n"
     ]
    }
   ],
   "source": [
    "def myfunc():\n",
    "    import math\n",
    "    mylist=list(map(int,input().split()))\n",
    "    y=math.prod(mylist)\n",
    "    print(y)\n",
    "myfunc()"
   ]
  },
  {
   "cell_type": "markdown",
   "id": "80f015f3-7b76-4755-af85-4c8894baa013",
   "metadata": {},
   "source": [
    "Ex_2"
   ]
  },
  {
   "cell_type": "code",
   "execution_count": 7,
   "id": "aacaf04f-5d17-4d13-b850-6ee3af59e950",
   "metadata": {},
   "outputs": [
    {
     "name": "stdin",
     "output_type": "stream",
     "text": [
      " Hello MY name is Shugyla\n"
     ]
    },
    {
     "name": "stdout",
     "output_type": "stream",
     "text": [
      "4\n",
      "20\n"
     ]
    }
   ],
   "source": [
    "def myfunc():\n",
    "    txt=input()\n",
    "    sumUC=0\n",
    "    sumLC=0\n",
    "    for i in range(len(txt)):\n",
    "        if (txt[i].isupper()):\n",
    "            sumUC+=1\n",
    "        else:\n",
    "            sumLC+=1\n",
    "    print(sumUC)\n",
    "    print(sumLC)\n",
    "myfunc()"
   ]
  },
  {
   "cell_type": "markdown",
   "id": "2164d088-2651-4a84-b022-24396df60d0a",
   "metadata": {},
   "source": [
    "Ex_3"
   ]
  },
  {
   "cell_type": "code",
   "execution_count": 9,
   "id": "cdd416b2-4bcc-4235-8288-2d01dda548ae",
   "metadata": {},
   "outputs": [
    {
     "name": "stdin",
     "output_type": "stream",
     "text": [
      " qazaq\n"
     ]
    },
    {
     "name": "stdout",
     "output_type": "stream",
     "text": [
      "It is a palindrome\n"
     ]
    }
   ],
   "source": [
    "def myfunc():\n",
    "    txt=input()\n",
    "    if txt==txt[::-1]:\n",
    "        print(\"It is a palindrome\")\n",
    "    else:\n",
    "        print(\"It is not a palindrome\")\n",
    "myfunc()"
   ]
  },
  {
   "cell_type": "markdown",
   "id": "c910e995-d4a0-4e52-8d32-ceed9e8357a5",
   "metadata": {},
   "source": [
    "Ex_4"
   ]
  },
  {
   "cell_type": "code",
   "execution_count": 11,
   "id": "005c39c1-d2ab-4f38-9cb8-858a58ee6540",
   "metadata": {},
   "outputs": [
    {
     "name": "stdin",
     "output_type": "stream",
     "text": [
      " 100\n",
      " 2400\n"
     ]
    },
    {
     "name": "stdout",
     "output_type": "stream",
     "text": [
      "Square root of 100 after 2400 milliseconds is 10.0\n"
     ]
    }
   ],
   "source": [
    "import time\n",
    "import math\n",
    "num = int(input()) \n",
    "delay = int(input()) \n",
    "time.sleep(delay / 1000)\n",
    "result = math.sqrt(num)\n",
    "print(f\"Square root of {num} after {delay} milliseconds is {result}\")"
   ]
  },
  {
   "cell_type": "markdown",
   "id": "f57e31de-2188-44e1-aa87-3bef53e22eec",
   "metadata": {},
   "source": [
    "Ex_5"
   ]
  },
  {
   "cell_type": "code",
   "execution_count": 13,
   "id": "8e74ecd7-ed11-4a5d-9a22-bea3db6b5e0e",
   "metadata": {},
   "outputs": [
    {
     "name": "stdout",
     "output_type": "stream",
     "text": [
      "True\n"
     ]
    }
   ],
   "source": [
    "def myfunc():\n",
    "    a = (1, True, \"Hello\", 3.5) \n",
    "    result = all(a)\n",
    "    print(result)\n",
    "myfunc()"
   ]
  },
  {
   "cell_type": "markdown",
   "id": "b7b82537-f3af-4e9a-ac8f-999f4ff61a39",
   "metadata": {},
   "source": [
    "Python Directories and Files exercises"
   ]
  },
  {
   "cell_type": "code",
   "execution_count": 27,
   "id": "40a6f509-064f-4895-81c7-34cd5e67deeb",
   "metadata": {},
   "outputs": [
    {
     "name": "stdout",
     "output_type": "stream",
     "text": [
      "Directories:\n",
      "['.ipynb_checkpoints']\n",
      "Files:\n",
      "['Lab-2.ipynb', 'Lab-3.ipynb', 'Lab-4.ipynb', 'Lab-5.ipynb', 'Lab-6.ipynb', 'Lab1.ipynb']\n"
     ]
    }
   ],
   "source": [
    "import os\n",
    "\n",
    "path = \".\"\n",
    "\n",
    "print(\"Directories:\")\n",
    "print([d for d in os.listdir(path) if os.path.isdir(os.path.join(path, d))])\n",
    "\n",
    "print(\"Files:\")\n",
    "print([f for f in os.listdir(path) if os.path.isfile(os.path.join(path, f))])"
   ]
  },
  {
   "cell_type": "markdown",
   "id": "36daca6e-821d-42a8-87cb-4326581518e1",
   "metadata": {},
   "source": [
    "Ex_2"
   ]
  },
  {
   "cell_type": "code",
   "execution_count": 5,
   "id": "3c76fbac-1f8d-4032-864d-989a72b36175",
   "metadata": {},
   "outputs": [
    {
     "name": "stdin",
     "output_type": "stream",
     "text": [
      "Enter the file: shugi.txt\n"
     ]
    },
    {
     "name": "stdout",
     "output_type": "stream",
     "text": [
      "True\n",
      "True\n",
      "True\n",
      "True\n"
     ]
    }
   ],
   "source": [
    "import os\n",
    "path=str(input(\"Enter the file:\"))\n",
    "print(os.access(path, os.F_OK))\n",
    "print(os.access(path, os.R_OK))\n",
    "print(os.access(path, os.W_OK))\n",
    "print(os.access(path, os.X_OK))"
   ]
  },
  {
   "cell_type": "markdown",
   "id": "9cfd0030-dbda-4eb2-a8ad-8a6d40b94ee6",
   "metadata": {},
   "source": [
    "Ex_3"
   ]
  },
  {
   "cell_type": "code",
   "execution_count": 7,
   "id": "7a106e1a-70b9-4cba-a0fe-7b32dce19f3b",
   "metadata": {},
   "outputs": [
    {
     "name": "stdout",
     "output_type": "stream",
     "text": [
      "Path does not exist !\n"
     ]
    }
   ],
   "source": [
    "import os\n",
    "if os.path.exists(\"Videos/Anaconda Test/shugi.txt\"):\n",
    "    print(\"Yes it does exist !\")\n",
    "    print(os.path.dirname(\"Videos/Anaconda Test/shugi.txt\"))\n",
    "    print(os.path.basename(\"Videos/Anaconda Test/shugi.txt\"))\n",
    "else : \n",
    "    print(\"Path does not exist !\")"
   ]
  },
  {
   "cell_type": "markdown",
   "id": "ce2bdf4d-c7d0-4fca-ad25-f26f1360420d",
   "metadata": {},
   "source": [
    "Ex_4"
   ]
  },
  {
   "cell_type": "code",
   "execution_count": 9,
   "id": "a276f891-ced0-4522-8b4e-39584efe66c4",
   "metadata": {},
   "outputs": [
    {
     "name": "stdout",
     "output_type": "stream",
     "text": [
      "The number of lines is: 3\n"
     ]
    }
   ],
   "source": [
    "i=0\n",
    "f=open(\"shugi.txt\" , \"r\")\n",
    "for _ in f:\n",
    "    i=i+1\n",
    "f.close()\n",
    "print(\"The number of lines is:\" , i)\n",
    "\n",
    "#для себя:\n",
    "#_ отвечает за новую строку"
   ]
  },
  {
   "cell_type": "markdown",
   "id": "f33f815b-56fa-4695-8fc0-dad233a860c3",
   "metadata": {},
   "source": [
    "Ex_5"
   ]
  },
  {
   "cell_type": "code",
   "execution_count": 13,
   "id": "50331a3d-5444-4603-b902-4a9e7b7c11a6",
   "metadata": {},
   "outputs": [
    {
     "name": "stdout",
     "output_type": "stream",
     "text": [
      "Hello world!\n",
      "My name is Shugi\n",
      "I hope I finish this course successfully!apple\n",
      "orange\n",
      "lime\n",
      "\n"
     ]
    }
   ],
   "source": [
    "mylist = [ \"apple\" , \"orange\" , \"lime\" ]\n",
    "l = open(\"shugi.txt\" , \"a\")\n",
    "\n",
    "for i in mylist : \n",
    "    l.write(i + \"\\n\")\n",
    "l.close()\n",
    "\n",
    "l = open(\"shugi.txt\" , \"r\")\n",
    "print(l.read())\n",
    "\n",
    "#для себя:\n",
    "#a-append внести изминения без удалений\n",
    "#w-очистить(удалить) полностью файл и внести новые изминения"
   ]
  },
  {
   "cell_type": "markdown",
   "id": "313694de-fdb6-4eee-b8cc-4df9ebe9757b",
   "metadata": {},
   "source": [
    "Ex_6"
   ]
  },
  {
   "cell_type": "code",
   "execution_count": 19,
   "id": "aa67305d-64b8-49a3-bacc-15bbde3af04d",
   "metadata": {},
   "outputs": [
    {
     "ename": "FileExistsError",
     "evalue": "[Errno 17] File exists: 'A.txt'",
     "output_type": "error",
     "traceback": [
      "\u001b[1;31m---------------------------------------------------------------------------\u001b[0m",
      "\u001b[1;31mFileExistsError\u001b[0m                           Traceback (most recent call last)",
      "Cell \u001b[1;32mIn[19], line 5\u001b[0m\n\u001b[0;32m      3\u001b[0m letters \u001b[38;5;241m=\u001b[39m \u001b[38;5;124m\"\u001b[39m\u001b[38;5;124mABCDEFGHIJKLMNOPQRSTUVWXYZ\u001b[39m\u001b[38;5;124m\"\u001b[39m\n\u001b[0;32m      4\u001b[0m \u001b[38;5;28;01mfor\u001b[39;00m i \u001b[38;5;129;01min\u001b[39;00m letters : \n\u001b[1;32m----> 5\u001b[0m     file \u001b[38;5;241m=\u001b[39m \u001b[38;5;28mopen\u001b[39m(\u001b[38;5;124mf\u001b[39m\u001b[38;5;124m\"\u001b[39m\u001b[38;5;132;01m{\u001b[39;00mi\u001b[38;5;132;01m}\u001b[39;00m\u001b[38;5;124m.txt\u001b[39m\u001b[38;5;124m\"\u001b[39m , \u001b[38;5;124m\"\u001b[39m\u001b[38;5;124mx\u001b[39m\u001b[38;5;124m\"\u001b[39m)\n\u001b[0;32m      6\u001b[0m file\u001b[38;5;241m.\u001b[39mclose()\n",
      "File \u001b[1;32m~\\anaconda3\\Lib\\site-packages\\IPython\\core\\interactiveshell.py:324\u001b[0m, in \u001b[0;36m_modified_open\u001b[1;34m(file, *args, **kwargs)\u001b[0m\n\u001b[0;32m    317\u001b[0m \u001b[38;5;28;01mif\u001b[39;00m file \u001b[38;5;129;01min\u001b[39;00m {\u001b[38;5;241m0\u001b[39m, \u001b[38;5;241m1\u001b[39m, \u001b[38;5;241m2\u001b[39m}:\n\u001b[0;32m    318\u001b[0m     \u001b[38;5;28;01mraise\u001b[39;00m \u001b[38;5;167;01mValueError\u001b[39;00m(\n\u001b[0;32m    319\u001b[0m         \u001b[38;5;124mf\u001b[39m\u001b[38;5;124m\"\u001b[39m\u001b[38;5;124mIPython won\u001b[39m\u001b[38;5;124m'\u001b[39m\u001b[38;5;124mt let you open fd=\u001b[39m\u001b[38;5;132;01m{\u001b[39;00mfile\u001b[38;5;132;01m}\u001b[39;00m\u001b[38;5;124m by default \u001b[39m\u001b[38;5;124m\"\u001b[39m\n\u001b[0;32m    320\u001b[0m         \u001b[38;5;124m\"\u001b[39m\u001b[38;5;124mas it is likely to crash IPython. If you know what you are doing, \u001b[39m\u001b[38;5;124m\"\u001b[39m\n\u001b[0;32m    321\u001b[0m         \u001b[38;5;124m\"\u001b[39m\u001b[38;5;124myou can use builtins\u001b[39m\u001b[38;5;124m'\u001b[39m\u001b[38;5;124m open.\u001b[39m\u001b[38;5;124m\"\u001b[39m\n\u001b[0;32m    322\u001b[0m     )\n\u001b[1;32m--> 324\u001b[0m \u001b[38;5;28;01mreturn\u001b[39;00m io_open(file, \u001b[38;5;241m*\u001b[39margs, \u001b[38;5;241m*\u001b[39m\u001b[38;5;241m*\u001b[39mkwargs)\n",
      "\u001b[1;31mFileExistsError\u001b[0m: [Errno 17] File exists: 'A.txt'"
     ]
    }
   ],
   "source": [
    "import os \n",
    "\n",
    "letters = \"ABCDEFGHIJKLMNOPQRSTUVWXYZ\"\n",
    "for i in letters : \n",
    "    file = open(f\"{i}.txt\" , \"x\")\n",
    "file.close()\n",
    "\n",
    "#x воссаздает файл, но если такой файл есть выйдет ошибка, а он уже есть!!!\n",
    "#открыл в анаконде home"
   ]
  },
  {
   "cell_type": "markdown",
   "id": "f328bf58-d268-4bbc-b484-fcfd2da957c7",
   "metadata": {},
   "source": [
    "Ex_7"
   ]
  },
  {
   "cell_type": "code",
   "execution_count": 21,
   "id": "4dc1cc63-f1d8-47ab-823b-9edf1e2ed112",
   "metadata": {},
   "outputs": [
    {
     "name": "stdout",
     "output_type": "stream",
     "text": [
      "Hello world!\n",
      "My name is Shugi\n",
      "I hope I finish this course successfully!apple\n",
      "orange\n",
      "lime\n",
      "\n"
     ]
    }
   ],
   "source": [
    "v = open(\"shugi.txt\" , \"r\")\n",
    "g = open(\"dublicate.txt\" , \"a\")\n",
    "\n",
    "g.write(v.read())\n",
    "g.close()\n",
    "\n",
    "g = open(\"dublicate.txt\" , \"r\")\n",
    "print(g.read())"
   ]
  },
  {
   "cell_type": "markdown",
   "id": "6801fafd-b9aa-4368-8911-ae3eabccbe38",
   "metadata": {},
   "source": [
    "Ex_8"
   ]
  },
  {
   "cell_type": "code",
   "execution_count": 25,
   "id": "12c86392-d3e5-43af-a3f1-c9b7f01fc703",
   "metadata": {},
   "outputs": [
    {
     "name": "stdout",
     "output_type": "stream",
     "text": [
      "Path does not exist\n"
     ]
    }
   ],
   "source": [
    "import os \n",
    "\n",
    "if os.path.exists(\"Videos/Anaconda Test/shugi.txt\"):\n",
    "    if os.access(\"Videos/Anaconda Test/shugi.txt\", os.W_OK):\n",
    "        os.remove(\"Videos/Anaconda Test/shugi.txt\")\n",
    "        print(\"Deleted.\")\n",
    "    else : \n",
    "        print(\"There is no access\")\n",
    "else : \n",
    "    print(\"Path does not exist\")"
   ]
  },
  {
   "cell_type": "code",
   "execution_count": null,
   "id": "f536b8e3-7f7f-4b3d-991d-ed050fb6e076",
   "metadata": {},
   "outputs": [],
   "source": []
  }
 ],
 "metadata": {
  "kernelspec": {
   "display_name": "Python [conda env:base] *",
   "language": "python",
   "name": "conda-base-py"
  },
  "language_info": {
   "codemirror_mode": {
    "name": "ipython",
    "version": 3
   },
   "file_extension": ".py",
   "mimetype": "text/x-python",
   "name": "python",
   "nbconvert_exporter": "python",
   "pygments_lexer": "ipython3",
   "version": "3.12.7"
  }
 },
 "nbformat": 4,
 "nbformat_minor": 5
}
