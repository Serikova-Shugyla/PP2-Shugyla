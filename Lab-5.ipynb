{
 "cells": [
  {
   "cell_type": "markdown",
   "id": "c40f1744-2592-458c-9004-caca93c46fe6",
   "metadata": {},
   "source": [
    "RegEx"
   ]
  },
  {
   "cell_type": "markdown",
   "id": "61222fa1-db3e-4398-a0a6-4e835f863b42",
   "metadata": {},
   "source": [
    "Ex_1"
   ]
  },
  {
   "cell_type": "code",
   "execution_count": 4,
   "id": "c68103a3-b53f-4c20-a699-94ecfba3a57b",
   "metadata": {},
   "outputs": [
    {
     "name": "stdin",
     "output_type": "stream",
     "text": [
      " abb\n"
     ]
    },
    {
     "name": "stdout",
     "output_type": "stream",
     "text": [
      "Match!\n"
     ]
    }
   ],
   "source": [
    "import re\n",
    "\n",
    "txt = input()\n",
    "x = re.search(r\"ab*$\", txt)\n",
    "\n",
    "if x:\n",
    "    print(\"Match!\")\n",
    "else:\n",
    "    print(\"Does not match!\")"
   ]
  },
  {
   "cell_type": "markdown",
   "id": "72ff9d0c-ce54-4aff-9da8-ee572180ff25",
   "metadata": {},
   "source": [
    "Ex_2"
   ]
  },
  {
   "cell_type": "code",
   "execution_count": 6,
   "id": "6dad2d6e-be30-419a-8116-c691371b929c",
   "metadata": {},
   "outputs": [
    {
     "name": "stdin",
     "output_type": "stream",
     "text": [
      " abbab\n"
     ]
    },
    {
     "name": "stdout",
     "output_type": "stream",
     "text": [
      "Does not match!\n"
     ]
    }
   ],
   "source": [
    "import re\n",
    "\n",
    "txt = input()\n",
    "x = re.search(r\"^ab{2,3}$\", txt)\n",
    "\n",
    "if x:\n",
    "    print(\"Match!\")\n",
    "else:\n",
    "    print(\"Does not match!\")"
   ]
  },
  {
   "cell_type": "markdown",
   "id": "501556f3-f305-49c8-8058-7d1361e5b65a",
   "metadata": {},
   "source": [
    "Ex_3"
   ]
  },
  {
   "cell_type": "code",
   "execution_count": 11,
   "id": "01c36266-36b7-4624-9740-86e8694a4803",
   "metadata": {},
   "outputs": [
    {
     "name": "stdin",
     "output_type": "stream",
     "text": [
      " hello_world\n"
     ]
    },
    {
     "name": "stdout",
     "output_type": "stream",
     "text": [
      "Match!\n"
     ]
    }
   ],
   "source": [
    "import re\n",
    "\n",
    "txt = input()\n",
    "x = re.search(r\"[a-z]+(?:_[a-z]+)+$\", txt)\n",
    "\n",
    "if x:\n",
    "    print(\"Match!\")\n",
    "else:\n",
    "    print(\"Does not match!\")"
   ]
  },
  {
   "cell_type": "markdown",
   "id": "0f42e542-9ae0-48d8-8757-07570c1a7d00",
   "metadata": {},
   "source": [
    "Ex_4"
   ]
  },
  {
   "cell_type": "code",
   "execution_count": 14,
   "id": "8e7c8590-f209-4042-bbb8-ab374ab9dc00",
   "metadata": {},
   "outputs": [
    {
     "name": "stdin",
     "output_type": "stream",
     "text": [
      " Hello\n"
     ]
    },
    {
     "name": "stdout",
     "output_type": "stream",
     "text": [
      "Match!\n"
     ]
    }
   ],
   "source": [
    "import re\n",
    "\n",
    "txt = input()\n",
    "x = re.search(r\"^[A-Z][a-z]+$\", txt)\n",
    "\n",
    "if x:\n",
    "    print(\"Match!\")\n",
    "else:\n",
    "    print(\"Does not match!\")"
   ]
  },
  {
   "cell_type": "markdown",
   "id": "d9c3d086-71f6-4f7b-bc92-23a0ad3ad0ea",
   "metadata": {},
   "source": [
    "Ex_5"
   ]
  },
  {
   "cell_type": "code",
   "execution_count": 21,
   "id": "8a463bfb-6534-4853-aa26-962e6dc2a9fc",
   "metadata": {},
   "outputs": [
    {
     "name": "stdin",
     "output_type": "stream",
     "text": [
      " adfghjb\n"
     ]
    },
    {
     "name": "stdout",
     "output_type": "stream",
     "text": [
      "Match!\n"
     ]
    }
   ],
   "source": [
    "import re\n",
    "text=input()\n",
    "if re.search(\"a+[a-z]*b+\",text):\n",
    "    print (\"Match!\")\n",
    "else:\n",
    "    print(\"Does not match\")"
   ]
  },
  {
   "cell_type": "markdown",
   "id": "d5597873-fed4-4c7f-a07e-5bc88168d943",
   "metadata": {},
   "source": [
    "Ex_6"
   ]
  },
  {
   "cell_type": "code",
   "execution_count": 26,
   "id": "6d10835a-d5ed-4c04-9496-61e04bc7020a",
   "metadata": {},
   "outputs": [
    {
     "name": "stdin",
     "output_type": "stream",
     "text": [
      " i like PP2\n"
     ]
    },
    {
     "name": "stdout",
     "output_type": "stream",
     "text": [
      "i:like:PP2\n"
     ]
    }
   ],
   "source": [
    "import re\n",
    "text=input()\n",
    "new_text = re.sub(r\"[\\s,\\.]\", \":\", text)\n",
    "print(new_text)"
   ]
  },
  {
   "cell_type": "markdown",
   "id": "3f0407cd-8854-4418-8b7c-4b35fb733bdb",
   "metadata": {},
   "source": [
    "Ex_7"
   ]
  },
  {
   "cell_type": "code",
   "execution_count": 41,
   "id": "1d6e5792-33aa-4d2f-a529-685be1a1bc55",
   "metadata": {},
   "outputs": [
    {
     "name": "stdin",
     "output_type": "stream",
     "text": [
      " hello_world_it_is_python\n"
     ]
    },
    {
     "name": "stdout",
     "output_type": "stream",
     "text": [
      "helloWorldItIsPython\n"
     ]
    }
   ],
   "source": [
    "import re\n",
    "txt = input()\n",
    "def converting(match):\n",
    "    return match.group(1).upper()\n",
    "def camel(txt):\n",
    "    camel_case = re.sub(r'_([a-z])', converting, txt) \n",
    "    print(camel_case)\n",
    "camel(txt)"
   ]
  },
  {
   "cell_type": "markdown",
   "id": "93b37682-1051-42a6-a753-4a06935e64f4",
   "metadata": {},
   "source": [
    "Ex_8"
   ]
  },
  {
   "cell_type": "code",
   "execution_count": 36,
   "id": "6445ae8e-f6d8-47b0-831d-67ccf917be3d",
   "metadata": {},
   "outputs": [
    {
     "name": "stdin",
     "output_type": "stream",
     "text": [
      " Hello World Python\n"
     ]
    },
    {
     "name": "stdout",
     "output_type": "stream",
     "text": [
      "['Hello', 'World', 'Python']\n"
     ]
    }
   ],
   "source": [
    "import re\n",
    "txt=input()\n",
    "result = re.findall(r'[a-z]+|[A-Z][a-z]*', txt)\n",
    "print(result)"
   ]
  },
  {
   "cell_type": "markdown",
   "id": "9a955780-5889-4a87-8702-2fbadf0fa782",
   "metadata": {},
   "source": [
    "Ex_9"
   ]
  },
  {
   "cell_type": "code",
   "execution_count": 43,
   "id": "1587f8e7-7948-482f-92a1-854f7832510b",
   "metadata": {},
   "outputs": [
    {
     "name": "stdin",
     "output_type": "stream",
     "text": [
      " PythonIsFun\n"
     ]
    },
    {
     "name": "stdout",
     "output_type": "stream",
     "text": [
      "Python Is Fun\n"
     ]
    }
   ],
   "source": [
    "import re\n",
    "txt=input()\n",
    "result=re.sub(r'([a-z])([A-Z])', r'\\1 \\2',  txt)\n",
    "print(result)"
   ]
  },
  {
   "cell_type": "markdown",
   "id": "4dabc51f-8f50-407c-9881-4aaf496512ef",
   "metadata": {},
   "source": [
    "Ex_10"
   ]
  },
  {
   "cell_type": "code",
   "execution_count": 46,
   "id": "9712f22c-84bd-4147-b421-ded2ac772e59",
   "metadata": {},
   "outputs": [
    {
     "name": "stdin",
     "output_type": "stream",
     "text": [
      " pythonIsFun\n"
     ]
    },
    {
     "name": "stdout",
     "output_type": "stream",
     "text": [
      "python_is_fun\n"
     ]
    }
   ],
   "source": [
    "import re\n",
    "\n",
    "txt = input()\n",
    "x = re.sub(r\"([A-Z])\", r\"_\\1\", txt).lower().lstrip('_')\n",
    "\n",
    "print(x)"
   ]
  }
 ],
 "metadata": {
  "kernelspec": {
   "display_name": "Python [conda env:base] *",
   "language": "python",
   "name": "conda-base-py"
  },
  "language_info": {
   "codemirror_mode": {
    "name": "ipython",
    "version": 3
   },
   "file_extension": ".py",
   "mimetype": "text/x-python",
   "name": "python",
   "nbconvert_exporter": "python",
   "pygments_lexer": "ipython3",
   "version": "3.12.7"
  }
 },
 "nbformat": 4,
 "nbformat_minor": 5
}
